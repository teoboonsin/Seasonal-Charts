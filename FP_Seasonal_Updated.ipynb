{
 "cells": [
  {
   "cell_type": "code",
   "execution_count": 21,
   "metadata": {},
   "outputs": [
    {
     "name": "stdout",
     "output_type": "stream",
     "text": [
      "Please input the number of the product you want to see the seasonals: 1) Brent 2) Gasoil 3) HO 4) RBOB 5) WTI: 5\n",
      "Please input the month of the contract which you wish to evaluate in numbers from 1-12: 3\n"
     ]
    }
   ],
   "source": [
    "import numpy as np\n",
    "import pandas as pd\n",
    "import os\n",
    "\n",
    "%matplotlib inline\n",
    "\n",
    "#user specify instrument and contract month\n",
    "\n",
    "product=''\n",
    "month=''\n",
    "\n",
    "while True:\n",
    "    inst=int(raw_input('Please input the number of the product you want to see the seasonals: 1) Brent 2) Gasoil 3) HO 4) RBOB 5) WTI: '))\n",
    "    \n",
    "    if inst==1:\n",
    "        product='B'\n",
    "        break\n",
    "    elif inst==2:\n",
    "        product='G'\n",
    "        break   \n",
    "    elif inst==3:\n",
    "        product='HO'\n",
    "        break      \n",
    "    elif inst==4:\n",
    "        product='RB'\n",
    "        break       \n",
    "    elif inst==5:\n",
    "        product='CL'\n",
    "        break       \n",
    "    else:\n",
    "        print 'You did not input a correct number. Please try again.'\n",
    "\n",
    "while True:\n",
    "    Mth=int(raw_input('Please input the month of the contract which you wish to evaluate in numbers from 1-12: '))\n",
    "    \n",
    "    if Mth==1:\n",
    "        month='Jan'\n",
    "        break\n",
    "    elif Mth==2:\n",
    "        month='Feb'\n",
    "        break   \n",
    "    elif Mth==3:\n",
    "        month='Mar'\n",
    "        break   \n",
    "    elif Mth==4:\n",
    "        month='Apr'\n",
    "        break   \n",
    "    elif Mth==5:\n",
    "        month='May'\n",
    "        break          \n",
    "    elif Mth==6:\n",
    "        month='Jun'\n",
    "        break   \n",
    "    elif Mth==7:\n",
    "        month='Jul'\n",
    "        break   \n",
    "    elif Mth==8:\n",
    "        month='Aug'\n",
    "        break   \n",
    "    elif Mth==9:\n",
    "        month='Sep'\n",
    "        break   \n",
    "    elif Mth==10:\n",
    "        month='Oct'\n",
    "        break   \n",
    "    elif Mth==11:\n",
    "        month='Nov'\n",
    "        break   \n",
    "    elif Mth==12:\n",
    "        month='Dec'\n",
    "        break \n",
    "    else:\n",
    "        print 'You did not input a correct number. Please try again.'\n",
    "        "
   ]
  },
  {
   "cell_type": "code",
   "execution_count": 22,
   "metadata": {},
   "outputs": [
    {
     "name": "stdout",
     "output_type": "stream",
     "text": [
      "C:\\Users\\boonsin.teo\\Documents\\Quandl\n"
     ]
    }
   ],
   "source": [
    "cd Quandl"
   ]
  },
  {
   "cell_type": "code",
   "execution_count": 23,
   "metadata": {},
   "outputs": [
    {
     "name": "stdout",
     "output_type": "stream",
     "text": [
      "C:\\Users\\boonsin.teo\\Documents\\Quandl\\CL\n"
     ]
    }
   ],
   "source": [
    "cd $product"
   ]
  },
  {
   "cell_type": "code",
   "execution_count": 24,
   "metadata": {},
   "outputs": [
    {
     "name": "stdout",
     "output_type": "stream",
     "text": [
      "C:\\Users\\boonsin.teo\\Documents\\Quandl\\CL\\Mar\n"
     ]
    }
   ],
   "source": [
    "cd $month"
   ]
  },
  {
   "cell_type": "code",
   "execution_count": 25,
   "metadata": {},
   "outputs": [
    {
     "name": "stdout",
     "output_type": "stream",
     "text": [
      "Please input start mth of seasonal period in MM format: 03\n",
      "Please input start day of seasonal period in DD format: 01\n",
      "Please input 1 if seasonal period starts on same year as contract year and 0 if not: 0\n",
      "Please input end mth of seasonal period in MM format: 02\n",
      "Please input end day of seasonal period in DD format: 28\n",
      "Please input 1 if seasonal period ends on same year as contract year and 0 if not: 1\n",
      "Please input the contract year seasonal index to overlay overall seasonal index with: 2018\n"
     ]
    },
    {
     "data": {
      "text/plain": [
       "<matplotlib.legend.Legend at 0x86f4c30>"
      ]
     },
     "execution_count": 25,
     "metadata": {},
     "output_type": "execute_result"
    },
    {
     "data": {
      "image/png": "[encoded data removed]",
      "text/plain": [
       "<matplotlib.figure.Figure at 0x86f4cb0>"
      ]
     },
     "metadata": {},
     "output_type": "display_data"
    }
   ],
   "source": [
    "\n",
    "count=0\n",
    "path = os.getcwd()\n",
    "\n",
    "start_mth=raw_input('Please input start mth of seasonal period in MM format: ')\n",
    "start_day=raw_input('Please input start day of seasonal period in DD format: ')\n",
    "i=int(raw_input('Please input 1 if seasonal period starts on same year as contract year and 0 if not: '))\n",
    "\n",
    "end_mth=raw_input('Please input end mth of seasonal period in MM format: ')\n",
    "end_day=raw_input('Please input end day of seasonal period in DD format: ')\n",
    "j=int(raw_input('Please input 1 if seasonal period ends on same year as contract year and 0 if not: '))            \n",
    "\n",
    "listing = os.listdir(path)\n",
    "for infile in listing:\n",
    "    temp=pd.read_excel(infile) #read each file into panda dataframe\n",
    "    \n",
    "    contract_yr_str=infile[-8:-4] # get the contract year\n",
    "    \n",
    "    seasonal_year=int(contract_yr_str)-1 # get the seasonal year to create the index - prev year\n",
    "    seasonal_year=str(seasonal_year) # convert to string\n",
    "    \n",
    "    start_date=str(int(seasonal_year)+i)+'-'+start_mth+'-'+start_day # create start date\n",
    "    end_date=str(int(seasonal_year)+j)+'-'+end_mth+'-'+end_day # create end date\n",
    "    \n",
    "    dates=pd.date_range(start_date, end_date) # range of dates for date axis\n",
    "    dates=dates.strftime('%Y-%m-%d') #make sure no left out dates\n",
    "    sample_data=np.arange(0,len(dates)) #just sample numbers to create dataframe\n",
    "    \n",
    "    dates_dataframe=pd.DataFrame({'Date':dates,'data':sample_data}) # create dates dataframe\n",
    "    dates_dataframe=dates_dataframe.set_index('Date') # set index as Date to facilitate joining\n",
    "    \n",
    "    temp=temp.set_index('Date') # set index as Date to facilitate joining\n",
    "    \n",
    "    temp=dates_dataframe.join(temp) # join dataframes together on Date\n",
    "   \n",
    "\n",
    "    temp.reset_index(inplace=True)\n",
    "    \n",
    "    temp=temp[temp['Date']>=start_date] # filter for start date\n",
    "\n",
    "    temp=temp[temp['Date']<=end_date] # filter for end date\n",
    " \n",
    "\n",
    "    temp=temp.set_index('Date') # creating new index as Date\n",
    "    \n",
    "    \n",
    "    temp=temp.reset_index() # putting date back out into col\n",
    "    temp['Date']=pd.to_datetime(temp['Date']).dt.strftime('%m/%d')\n",
    "    temp=temp.set_index('Date')\n",
    "    \n",
    "    upper=temp['Settle'].max() # get max value\n",
    "    lower=temp['Settle'].min() # get min value\n",
    "    \n",
    "    temp['SI']=((temp['Settle']-lower)/(upper-lower))*100 # create seasonal index column\n",
    "\n",
    "    temp=pd.DataFrame(temp['SI'],columns=['SI']) \n",
    "    \n",
    "\n",
    "    #combine into seasonal index table\n",
    "    \n",
    "    if count==0:\n",
    "        Seasonal_Combi=temp\n",
    "        seasonal_year=str(int(seasonal_year)+1)\n",
    "        Seasonal_Combi.columns=[seasonal_year]\n",
    "        \n",
    "        count+=1\n",
    "        \n",
    "    else:\n",
    "        \n",
    "        seasonal_year=str(int(seasonal_year)+1)\n",
    "        Seasonal_Combi[seasonal_year]=temp['SI']\n",
    "\n",
    "\n",
    "#remove columns that are all NA\n",
    "Seasonal_Combi.dropna(axis=1,how='all',inplace=True)\n",
    "\n",
    "#remove rows that are all NA\n",
    "Seasonal_Combi.dropna(axis=0,how='all',inplace=True)\n",
    "\n",
    "#fillna values with values of forward value\n",
    "Seasonal_Combi.fillna(method='bfill',inplace=True)\n",
    "#fillna values with values of back value\n",
    "Seasonal_Combi.fillna(method='ffill',inplace=True)\n",
    "\n",
    "      \n",
    "#row-wise average    \n",
    "Seasonal_Combi['SI_avg']=Seasonal_Combi.mean(axis=1)\n",
    "\n",
    "#normalize the seasonal index\n",
    "\n",
    "upper_sc=Seasonal_Combi['SI_avg'].max()\n",
    "lower_sc=Seasonal_Combi['SI_avg'].min()\n",
    "Seasonal_Combi['SI_avg_normalized']=((Seasonal_Combi['SI_avg']-lower_sc)/(upper_sc-lower_sc))*100\n",
    "#Seasonal_Combi['SI_avg_rolling']=Seasonal_Combi['SI_avg_normalized'].rolling(5).mean() #take a 5-day rolling average to smmooth this out\n",
    "\n",
    "#plot on line chart\n",
    "\n",
    "#plot on line chart\n",
    "year_str=raw_input('Please input the contract year seasonal index to overlay overall seasonal index with: ')\n",
    "Seasonal_Combi['Year_SI']=((Seasonal_Combi[year_str]-Seasonal_Combi[year_str].min())/(Seasonal_Combi[year_str].max()-Seasonal_Combi[year_str].min()))*100\n",
    "\n",
    "\n",
    "ax=Seasonal_Combi.plot.line(y=['SI_avg_normalized','Year_SI'],figsize=(20,5),xticks=[x for x in range(0,365,20)],title=month+\" \"+product)\n",
    "ax.set_xlabel('Date')\n",
    "ax.set_ylabel('Seasonal Index')\n",
    "ax.legend(loc=2)\n"
   ]
  },
  {
   "cell_type": "code",
   "execution_count": 26,
   "metadata": {},
   "outputs": [
    {
     "name": "stdout",
     "output_type": "stream",
     "text": [
      "C:\\Users\\boonsin.teo\\Documents\\Quandl\\CL\n"
     ]
    }
   ],
   "source": [
    "cd .."
   ]
  },
  {
   "cell_type": "code",
   "execution_count": 27,
   "metadata": {},
   "outputs": [
    {
     "name": "stdout",
     "output_type": "stream",
     "text": [
      "C:\\Users\\boonsin.teo\\Documents\\Quandl\n"
     ]
    }
   ],
   "source": [
    "cd .."
   ]
  },
  {
   "cell_type": "code",
   "execution_count": 28,
   "metadata": {},
   "outputs": [
    {
     "name": "stdout",
     "output_type": "stream",
     "text": [
      "C:\\Users\\boonsin.teo\\Documents\n"
     ]
    }
   ],
   "source": [
    "cd .."
   ]
  },
  {
   "cell_type": "code",
   "execution_count": 29,
   "metadata": {},
   "outputs": [
    {
     "data": {
      "text/plain": [
       "u'C:\\\\Users\\\\boonsin.teo\\\\Documents'"
      ]
     },
     "execution_count": 29,
     "metadata": {},
     "output_type": "execute_result"
    }
   ],
   "source": [
    "pwd"
   ]
  },
  {
   "cell_type": "code",
   "execution_count": 30,
   "metadata": {},
   "outputs": [
    {
     "data": {
      "text/plain": [
       "Date\n",
       "03/01     62.355658\n",
       "03/02     57.101617\n",
       "03/03     60.623557\n",
       "03/04     61.200924\n",
       "03/05     61.200924\n",
       "03/06     61.200924\n",
       "03/07     60.450346\n",
       "03/08     46.131640\n",
       "03/09     41.166282\n",
       "03/10     36.258661\n",
       "03/11     36.778291\n",
       "03/12     36.778291\n",
       "03/13     36.778291\n",
       "03/14     34.006928\n",
       "03/15     37.471132\n",
       "03/16     35.796767\n",
       "03/17     35.969977\n",
       "03/18     35.334873\n",
       "03/19     35.334873\n",
       "03/20     35.334873\n",
       "03/21     33.602771\n",
       "03/22     33.256351\n",
       "03/23     31.581986\n",
       "03/24     32.563510\n",
       "03/25     32.563510\n",
       "03/26     32.563510\n",
       "03/27     32.563510\n",
       "03/28     34.642032\n",
       "03/29     39.376443\n",
       "03/30     43.533487\n",
       "            ...    \n",
       "01/24    100.000000\n",
       "01/25    100.000000\n",
       "01/26    100.000000\n",
       "01/27    100.000000\n",
       "01/28    100.000000\n",
       "01/29    100.000000\n",
       "01/30    100.000000\n",
       "01/31    100.000000\n",
       "02/01    100.000000\n",
       "02/02    100.000000\n",
       "02/03    100.000000\n",
       "02/04    100.000000\n",
       "02/05    100.000000\n",
       "02/06    100.000000\n",
       "02/07    100.000000\n",
       "02/08    100.000000\n",
       "02/09    100.000000\n",
       "02/10    100.000000\n",
       "02/11    100.000000\n",
       "02/12    100.000000\n",
       "02/13    100.000000\n",
       "02/14    100.000000\n",
       "02/15    100.000000\n",
       "02/16    100.000000\n",
       "02/17    100.000000\n",
       "02/18    100.000000\n",
       "02/19    100.000000\n",
       "02/20    100.000000\n",
       "02/21    100.000000\n",
       "02/22    100.000000\n",
       "Name: Year_SI, Length: 356, dtype: float64"
      ]
     },
     "execution_count": 30,
     "metadata": {},
     "output_type": "execute_result"
    }
   ],
   "source": [
    "Seasonal_Combi['Year_SI']"
   ]
  },
  {
   "cell_type": "code",
   "execution_count": null,
   "metadata": {
    "collapsed": true
   },
   "outputs": [],
   "source": []
  },
  {
   "cell_type": "code",
   "execution_count": null,
   "metadata": {
    "collapsed": true
   },
   "outputs": [],
   "source": []
  }
 ],
 "metadata": {
  "kernelspec": {
   "display_name": "Python 2",
   "language": "python",
   "name": "python2"
  },
  "language_info": {
   "codemirror_mode": {
    "name": "ipython",
    "version": 2
   },
   "file_extension": ".py",
   "mimetype": "text/x-python",
   "name": "python",
   "nbconvert_exporter": "python",
   "pygments_lexer": "ipython2",
   "version": "2.7.13"
  }
 },
 "nbformat": 4,
 "nbformat_minor": 2
}
