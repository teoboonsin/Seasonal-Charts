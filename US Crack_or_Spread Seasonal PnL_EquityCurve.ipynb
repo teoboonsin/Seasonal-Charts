{
 "cells": [
  {
   "cell_type": "code",
   "execution_count": 97,
   "metadata": {},
   "outputs": [
    {
     "name": "stdout",
     "output_type": "stream",
     "text": [
      "Please input the number of the product you want to see the seasonals: 1) Brent 2) Gasoil 3) HO 4) RBOB 5) WTI: 4\n",
      "Please input the month of the contract which you wish to evaluate in numbers from 1-12: 3\n",
      "Please input the number of the product you want to see the seasonals: 1) Brent 2) Gasoil 3) HO 4) RBOB 5) WTI: 4\n",
      "Please input the month of the contract which you wish to evaluate in numbers from 1-12: 4\n"
     ]
    }
   ],
   "source": [
    "\n",
    "def create_equity_curve(df,z0,z1,pos):\n",
    "    ec=df.diff(axis=0)\n",
    "    ec.iloc[0]=0\n",
    "    \n",
    "    i=1\n",
    "    while i<len(ec):\n",
    "        ec.iloc[i]=ec.iloc[i-1]+ec.iloc[i]*z0*z1*pos\n",
    "        i+=1\n",
    "    return ec\n",
    "    \n",
    "    \n",
    "\n",
    "def pos():\n",
    "    pos=1\n",
    "    while True:\n",
    "        a=raw_input(\"Please input 'y' if position is long and 'n' if position is short: \").lower()\n",
    "    \n",
    "        if a=='y':\n",
    "            break\n",
    "        if a=='n':\n",
    "            pos=pos*(-1)\n",
    "            break\n",
    "        else:\n",
    "            print \"Please input either 'y' or 'n' for position\"\n",
    "    return pos\n",
    "\n",
    "def z_factor(product1,product2):\n",
    "    z=1\n",
    "    factor=1000\n",
    "    if product1=='RB' and product2 =='RB':\n",
    "        z=42\n",
    "    elif product1=='HO' and product2 =='HO':\n",
    "        z=42\n",
    "    elif product1=='RB' and product2 =='HO':\n",
    "        z=42\n",
    "    elif product1=='HO' and product2 =='RB':\n",
    "        z=42\n",
    "    elif product1=='G' and product2 =='G':\n",
    "        factor=100\n",
    "    elif product1=='G' and product2 =='B':\n",
    "        z=(1/7.45)\n",
    "    \n",
    "    else:\n",
    "        z=1\n",
    "        factor=1000\n",
    "    \n",
    "    return z,factor\n",
    "        \n",
    "def create_sprd(dataframe1, dataframe2):\n",
    "   \n",
    "    dataframe1.reset_index(inplace=True)\n",
    "    dataframe2.reset_index(inplace=True)\n",
    "    date=dataframe1['Date']\n",
    "    \n",
    "    dataframe1.drop(columns=['Date'],inplace=True)\n",
    "    dataframe2.drop(columns=['Date'],inplace=True)\n",
    "    \n",
    "    while True:\n",
    "        sprd_type=int(raw_input('Please indicate if this is a 1) Crack or 2) Spread - please input integer 1 or 2: '))\n",
    "        \n",
    "        if sprd_type==1:\n",
    "            \n",
    "            new_df=dataframe1*42-dataframe2\n",
    "            new_df['Date']=date\n",
    "            new_df.set_index('Date',inplace=True)\n",
    "            new_df.fillna(method='bfill',inplace=True)\n",
    "            new_df.fillna(method='ffill',inplace=True)\n",
    "            \n",
    "            return new_df\n",
    "            break\n",
    "        \n",
    "        elif sprd_type==2:\n",
    "            \n",
    "            new_df= dataframe1-dataframe2\n",
    "            new_df['Date']=date\n",
    "            new_df.set_index('Date',inplace=True)\n",
    "            new_df.fillna(method='bfill',inplace=True)\n",
    "            new_df.fillna(method='ffill',inplace=True)\n",
    "            \n",
    "            return new_df\n",
    "            break\n",
    "        \n",
    "        else:\n",
    "            print 'You have inputted incorrectly. Please try again and enter either integer 1 or 2.'\n",
    "    \n",
    "\n",
    "class Mth_1(object):\n",
    "    \n",
    "    def __init__(self):\n",
    "        pass\n",
    "        \n",
    "    def pdt_type1(self):\n",
    "        \n",
    "        product=''\n",
    "        while True:\n",
    "            inst=int(raw_input('Please input the number of the product you want to see the seasonals: 1) Brent 2) Gasoil 3) HO 4) RBOB 5) WTI: '))\n",
    "    \n",
    "            if inst==1:\n",
    "                product='B'\n",
    "                break\n",
    "            elif inst==2:\n",
    "                product='G'\n",
    "                break   \n",
    "            elif inst==3:\n",
    "                product='HO'\n",
    "                break      \n",
    "            elif inst==4:\n",
    "                product='RB'\n",
    "                break       \n",
    "            elif inst==5:\n",
    "                product='CL'\n",
    "                break       \n",
    "            else:\n",
    "                print 'You did not input a correct number. Please try again.'\n",
    "        \n",
    "        return product\n",
    "        \n",
    "    \n",
    "    def mth_no1(self):\n",
    "        month=''\n",
    "        while True:\n",
    "            Mth=int(raw_input('Please input the month of the contract which you wish to evaluate in numbers from 1-12: '))\n",
    "    \n",
    "            if Mth==1:\n",
    "                month='Jan'\n",
    "                break\n",
    "            elif Mth==2:\n",
    "                month='Feb'\n",
    "                break   \n",
    "            elif Mth==3:\n",
    "                month='Mar'\n",
    "                break   \n",
    "            elif Mth==4:\n",
    "                month='Apr'\n",
    "                break   \n",
    "            elif Mth==5:\n",
    "                month='May'\n",
    "                break          \n",
    "            elif Mth==6:\n",
    "                month='Jun'\n",
    "                break   \n",
    "            elif Mth==7:\n",
    "                month='Jul'\n",
    "                break   \n",
    "            elif Mth==8:\n",
    "                month='Aug'\n",
    "                break   \n",
    "            elif Mth==9:\n",
    "                month='Sep'\n",
    "                break   \n",
    "            elif Mth==10:\n",
    "                month='Oct'\n",
    "                break   \n",
    "            elif Mth==11:\n",
    "                month='Nov'\n",
    "                break   \n",
    "            elif Mth==12:\n",
    "                month='Dec'\n",
    "                break \n",
    "            else:\n",
    "                print 'You did not input a correct number. Please try again.'\n",
    "        \n",
    "        return month\n",
    "\n",
    "    def dataframe_create(self,start_mth,start_day,end_mth,end_day,i,j):\n",
    "\n",
    "        count=0\n",
    "        path = os.getcwd()\n",
    "        \n",
    "        listing = os.listdir(path)\n",
    "        for infile in listing:\n",
    "            temp=pd.read_excel(infile) #read each file into panda dataframe\n",
    "    \n",
    "            contract_yr_str=infile[-8:-4] # get the contract year\n",
    "    \n",
    "            seasonal_year=int(contract_yr_str)-1 # get the seasonal year to create the index - prev year\n",
    "            seasonal_year=str(seasonal_year) # convert to string\n",
    "\n",
    "            start_date=str(int(seasonal_year)+i)+'-'+start_mth+'-'+start_day # create start date\n",
    "            end_date=str(int(seasonal_year)+j)+'-'+end_mth+'-'+end_day # create end date\n",
    "            \n",
    "            #Join a date dataframe and the temp dataframe together\n",
    "            \n",
    "            dates=pd.date_range(start_date, end_date) # range of dates for date axis\n",
    "            dates=dates.strftime('%Y-%m-%d') #make sure no left out dates\n",
    "            sample_data=np.arange(0,len(dates)) #just sample numbers to create dataframe\n",
    "    \n",
    "            dates_dataframe=pd.DataFrame({'Date':dates,'data':sample_data}) # create dates dataframe\n",
    "            dates_dataframe=dates_dataframe.set_index('Date') # set index as Date to facilitate joining\n",
    "    \n",
    "            temp=temp.set_index('Date') # set index as Date to facilitate joining\n",
    "    \n",
    "            temp=dates_dataframe.join(temp) # join dataframes together on Date\n",
    "               \n",
    "            #filter dates by the start and end date\n",
    "            temp.reset_index(inplace=True)\n",
    "    \n",
    "            temp=temp[temp['Date']>=start_date] # filter for start date\n",
    "\n",
    "            temp=temp[temp['Date']<=end_date] # filter for end date\n",
    "\n",
    "            temp['Date']=pd.to_datetime(temp['Date']).dt.strftime('%m/%d') # putting date in mm/dd form\n",
    "            temp=temp.set_index('Date') # putting date back as index\n",
    "            temp=pd.DataFrame(temp['Settle'],columns=['Settle']) # setting dataframe with date and settle only\n",
    "\n",
    "    \n",
    "            if count==0:\n",
    "                Seasonal_Combi=temp\n",
    "                seasonal_year=str(int(seasonal_year)+1)\n",
    "                Seasonal_Combi.rename(columns={'Settle':seasonal_year},inplace=True)\n",
    "        \n",
    "                count+=1\n",
    "        \n",
    "            else:\n",
    "    \n",
    "                seasonal_year=str(int(seasonal_year)+1)\n",
    "                Seasonal_Combi['Settle']=temp['Settle']\n",
    "                Seasonal_Combi.rename(columns={'Settle':seasonal_year},inplace=True)\n",
    "\n",
    "        #don't need this, i believe\n",
    "        #Seasonal_Combi.drop(columns=['Open','High','Low','Last','Change', 'Volume','Prev. Day Open Interest'],inplace=True)   \n",
    "\n",
    "        \n",
    "        return Seasonal_Combi\n",
    "            \n",
    "            \n",
    "\n",
    "class Mth_2(object):\n",
    "    \n",
    "    def __init__(self):\n",
    "        pass\n",
    "        \n",
    "    def pdt_type2(self):\n",
    "        \n",
    "        product=''\n",
    "        while True:\n",
    "            inst=int(raw_input('Please input the number of the product you want to see the seasonals: 1) Brent 2) Gasoil 3) HO 4) RBOB 5) WTI: '))\n",
    "    \n",
    "            if inst==1:\n",
    "                product='B'\n",
    "                break\n",
    "            elif inst==2:\n",
    "                product='G'\n",
    "                break   \n",
    "            elif inst==3:\n",
    "                product='HO'\n",
    "                break      \n",
    "            elif inst==4:\n",
    "                product='RB'\n",
    "                break       \n",
    "            elif inst==5:\n",
    "                product='CL'\n",
    "                break       \n",
    "            else:\n",
    "                print 'You did not input a correct number. Please try again.'\n",
    "        \n",
    "        return product\n",
    "        \n",
    "    \n",
    "    def mth_no2(self):\n",
    "        month=''\n",
    "        while True:\n",
    "            Mth=int(raw_input('Please input the month of the contract which you wish to evaluate in numbers from 1-12: '))\n",
    "    \n",
    "            if Mth==1:\n",
    "                month='Jan'\n",
    "                break\n",
    "            elif Mth==2:\n",
    "                month='Feb'\n",
    "                break   \n",
    "            elif Mth==3:\n",
    "                month='Mar'\n",
    "                break   \n",
    "            elif Mth==4:\n",
    "                month='Apr'\n",
    "                break   \n",
    "            elif Mth==5:\n",
    "                month='May'\n",
    "                break          \n",
    "            elif Mth==6:\n",
    "                month='Jun'\n",
    "                break   \n",
    "            elif Mth==7:\n",
    "                month='Jul'\n",
    "                break   \n",
    "            elif Mth==8:\n",
    "                month='Aug'\n",
    "                break   \n",
    "            elif Mth==9:\n",
    "                month='Sep'\n",
    "                break   \n",
    "            elif Mth==10:\n",
    "                month='Oct'\n",
    "                break   \n",
    "            elif Mth==11:\n",
    "                month='Nov'\n",
    "                break   \n",
    "            elif Mth==12:\n",
    "                month='Dec'\n",
    "                break \n",
    "            else:\n",
    "                print 'You did not input a correct number. Please try again.'\n",
    "        \n",
    "        return month\n",
    "\n",
    "    def dataframe_create(self, start_mth, start_day, end_mth,end_day,i,j):\n",
    "\n",
    "        count=0\n",
    "        path = os.getcwd()\n",
    "\n",
    "        listing = os.listdir(path)\n",
    "        for infile in listing:\n",
    "            temp=pd.read_excel(infile) #read each file into panda dataframe\n",
    "    \n",
    "            contract_yr_str=infile[-8:-4] # get the contract year\n",
    "    \n",
    "            seasonal_year=int(contract_yr_str)-1 # get the seasonal year to create the index - prev year\n",
    "            seasonal_year=str(seasonal_year) # convert to string\n",
    "     \n",
    "            start_date=str(int(seasonal_year)+i)+'-'+start_mth+'-'+start_day # create start date\n",
    "            end_date=str(int(seasonal_year)+j)+'-'+end_mth+'-'+end_day # create end date\n",
    "            \n",
    "            #Join a date dataframe and the temp dataframe together\n",
    "            \n",
    "            dates=pd.date_range(start_date, end_date) # range of dates for date axis\n",
    "            dates=dates.strftime('%Y-%m-%d') #make sure no left out dates\n",
    "            sample_data=np.arange(0,len(dates)) #just sample numbers to create dataframe\n",
    "    \n",
    "            dates_dataframe=pd.DataFrame({'Date':dates,'data':sample_data}) # create dates dataframe\n",
    "            dates_dataframe=dates_dataframe.set_index('Date') # set index as Date to facilitate joining\n",
    "    \n",
    "            temp=temp.set_index('Date') # set index as Date to facilitate joining\n",
    "    \n",
    "            temp=dates_dataframe.join(temp) # join dataframes together on Date\n",
    "               \n",
    "            #filter dates by the start and end date\n",
    "            temp.reset_index(inplace=True)\n",
    "    \n",
    "            temp=temp[temp['Date']>=start_date] # filter for start date\n",
    "\n",
    "            temp=temp[temp['Date']<=end_date] # filter for end date\n",
    "\n",
    "            temp['Date']=pd.to_datetime(temp['Date']).dt.strftime('%m/%d') # putting date in mm/dd form\n",
    "            temp=temp.set_index('Date') # putting date back as index\n",
    "            temp=pd.DataFrame(temp['Settle'],columns=['Settle']) # setting dataframe with date and settle only\n",
    "    \n",
    "            if count==0:\n",
    "                Seasonal_Combi=temp\n",
    "                seasonal_year=str(int(seasonal_year)+1)\n",
    "                Seasonal_Combi.rename(columns={'Settle':seasonal_year},inplace=True)\n",
    "        \n",
    "                count+=1\n",
    "        \n",
    "            else:\n",
    "    \n",
    "                seasonal_year=str(int(seasonal_year)+1)\n",
    "                Seasonal_Combi['Settle']=temp['Settle']\n",
    "                Seasonal_Combi.rename(columns={'Settle':seasonal_year},inplace=True)\n",
    "\n",
    "        #Seasonal_Combi.drop(columns=['Open','High','Low','Last','Change','Volume','Prev. Day Open Interest'],inplace=True)   \n",
    "\n",
    "        \n",
    "        return Seasonal_Combi\n",
    "    \n",
    "    \n",
    "import numpy as np\n",
    "import pandas as pd\n",
    "import os\n",
    "\n",
    "#from plotly import __version__\n",
    "#import cufflinks as cf\n",
    "#from plotly.offline import download_plotlyjs,init_notebook_mode,plot,iplot\n",
    "#init_notebook_mode(connected=True)\n",
    "#cf.go_offline()\n",
    "\n",
    "%matplotlib inline\n",
    "\n",
    "#user specify instrument and contract month\n",
    "\n",
    "product1=''\n",
    "month1=''\n",
    "product2=''\n",
    "month2=''\n",
    "\n",
    "front_mth=Mth_1()\n",
    "product1 = front_mth.pdt_type1()\n",
    "month1=front_mth.mth_no1()\n",
    "\n",
    "back_mth=Mth_2()\n",
    "product2=back_mth.pdt_type2()\n",
    "month2=back_mth.mth_no2()\n",
    "\n",
    "        "
   ]
  },
  {
   "cell_type": "code",
   "execution_count": 98,
   "metadata": {},
   "outputs": [
    {
     "name": "stdout",
     "output_type": "stream",
     "text": [
      "C:\\Users\\boonsin.teo\\Documents\\Quandl\n"
     ]
    }
   ],
   "source": [
    "cd Quandl"
   ]
  },
  {
   "cell_type": "code",
   "execution_count": 99,
   "metadata": {},
   "outputs": [
    {
     "name": "stdout",
     "output_type": "stream",
     "text": [
      "C:\\Users\\boonsin.teo\\Documents\\Quandl\\RB\n"
     ]
    }
   ],
   "source": [
    "cd $product1"
   ]
  },
  {
   "cell_type": "code",
   "execution_count": 100,
   "metadata": {},
   "outputs": [
    {
     "name": "stdout",
     "output_type": "stream",
     "text": [
      "C:\\Users\\boonsin.teo\\Documents\\Quandl\\RB\\Mar\n"
     ]
    }
   ],
   "source": [
    "cd $month1"
   ]
  },
  {
   "cell_type": "code",
   "execution_count": 101,
   "metadata": {},
   "outputs": [
    {
     "name": "stdout",
     "output_type": "stream",
     "text": [
      "Please input start mth of seasonal period in MM format: 01\n",
      "Please input start day of seasonal period in DD format: 09\n",
      "Please input 1 if start mth is the same as contract year and 0 if not: 1\n",
      "Please input end mth of seasonal period in MM format: 02\n",
      "Please input end day of seasonal period in DD format: 10\n",
      "Please input 1 if end mth is the same as contract year and 0 if not: 1\n"
     ]
    }
   ],
   "source": [
    "start_mth=raw_input('Please input start mth of seasonal period in MM format: ')\n",
    "start_day=raw_input('Please input start day of seasonal period in DD format: ')\n",
    "i=int(raw_input('Please input 1 if start mth is the same as contract year and 0 if not: '))\n",
    "            \n",
    "end_mth=raw_input('Please input end mth of seasonal period in MM format: ')\n",
    "end_day=raw_input('Please input end day of seasonal period in DD format: ')\n",
    "            \n",
    "j=int(raw_input('Please input 1 if end mth is the same as contract year and 0 if not: '))\n",
    "\n",
    "\n",
    "front_month=front_mth.dataframe_create(start_mth,start_day,end_mth,end_day,i,j)"
   ]
  },
  {
   "cell_type": "code",
   "execution_count": 102,
   "metadata": {},
   "outputs": [
    {
     "name": "stdout",
     "output_type": "stream",
     "text": [
      "C:\\Users\\boonsin.teo\\Documents\\Quandl\\RB\n"
     ]
    }
   ],
   "source": [
    "cd .."
   ]
  },
  {
   "cell_type": "code",
   "execution_count": 103,
   "metadata": {},
   "outputs": [
    {
     "name": "stdout",
     "output_type": "stream",
     "text": [
      "C:\\Users\\boonsin.teo\\Documents\\Quandl\n"
     ]
    }
   ],
   "source": [
    "cd .."
   ]
  },
  {
   "cell_type": "code",
   "execution_count": 104,
   "metadata": {},
   "outputs": [
    {
     "name": "stdout",
     "output_type": "stream",
     "text": [
      "C:\\Users\\boonsin.teo\\Documents\n"
     ]
    }
   ],
   "source": [
    "cd .."
   ]
  },
  {
   "cell_type": "code",
   "execution_count": 105,
   "metadata": {},
   "outputs": [
    {
     "name": "stdout",
     "output_type": "stream",
     "text": [
      "C:\\Users\\boonsin.teo\\Documents\\Quandl\n"
     ]
    }
   ],
   "source": [
    "cd Quandl"
   ]
  },
  {
   "cell_type": "code",
   "execution_count": 106,
   "metadata": {},
   "outputs": [
    {
     "name": "stdout",
     "output_type": "stream",
     "text": [
      "C:\\Users\\boonsin.teo\\Documents\\Quandl\\RB\n"
     ]
    }
   ],
   "source": [
    "cd $product2"
   ]
  },
  {
   "cell_type": "code",
   "execution_count": 107,
   "metadata": {},
   "outputs": [
    {
     "name": "stdout",
     "output_type": "stream",
     "text": [
      "C:\\Users\\boonsin.teo\\Documents\\Quandl\\RB\\Apr\n"
     ]
    }
   ],
   "source": [
    "cd $month2"
   ]
  },
  {
   "cell_type": "code",
   "execution_count": 108,
   "metadata": {
    "collapsed": true
   },
   "outputs": [],
   "source": [
    "back_month=back_mth.dataframe_create(start_mth, start_day,end_mth,end_day,i,j)"
   ]
  },
  {
   "cell_type": "code",
   "execution_count": 109,
   "metadata": {},
   "outputs": [
    {
     "name": "stdout",
     "output_type": "stream",
     "text": [
      "C:\\Users\\boonsin.teo\\Documents\\Quandl\\RB\n"
     ]
    }
   ],
   "source": [
    "cd .."
   ]
  },
  {
   "cell_type": "code",
   "execution_count": 110,
   "metadata": {},
   "outputs": [
    {
     "name": "stdout",
     "output_type": "stream",
     "text": [
      "C:\\Users\\boonsin.teo\\Documents\\Quandl\n"
     ]
    }
   ],
   "source": [
    "cd .."
   ]
  },
  {
   "cell_type": "code",
   "execution_count": 111,
   "metadata": {},
   "outputs": [
    {
     "name": "stdout",
     "output_type": "stream",
     "text": [
      "C:\\Users\\boonsin.teo\\Documents\n"
     ]
    }
   ],
   "source": [
    "cd .."
   ]
  },
  {
   "cell_type": "code",
   "execution_count": 112,
   "metadata": {},
   "outputs": [
    {
     "data": {
      "text/html": [
       "<div>\n",
       "<style scoped>\n",
       "    .dataframe tbody tr th:only-of-type {\n",
       "        vertical-align: middle;\n",
       "    }\n",
       "\n",
       "    .dataframe tbody tr th {\n",
       "        vertical-align: top;\n",
       "    }\n",
       "\n",
       "    .dataframe thead th {\n",
       "        text-align: right;\n",
       "    }\n",
       "</style>\n",
       "<table border=\"1\" class=\"dataframe\">\n",
       "  <thead>\n",
       "    <tr style=\"text-align: right;\">\n",
       "      <th></th>\n",
       "      <th>1996</th>\n",
       "      <th>1997</th>\n",
       "      <th>1998</th>\n",
       "      <th>1999</th>\n",
       "      <th>2000</th>\n",
       "      <th>2001</th>\n",
       "      <th>2002</th>\n",
       "      <th>2003</th>\n",
       "      <th>2004</th>\n",
       "      <th>2005</th>\n",
       "      <th>...</th>\n",
       "      <th>2009</th>\n",
       "      <th>2010</th>\n",
       "      <th>2011</th>\n",
       "      <th>2012</th>\n",
       "      <th>2013</th>\n",
       "      <th>2014</th>\n",
       "      <th>2015</th>\n",
       "      <th>2016</th>\n",
       "      <th>2017</th>\n",
       "      <th>2018</th>\n",
       "    </tr>\n",
       "    <tr>\n",
       "      <th>Date</th>\n",
       "      <th></th>\n",
       "      <th></th>\n",
       "      <th></th>\n",
       "      <th></th>\n",
       "      <th></th>\n",
       "      <th></th>\n",
       "      <th></th>\n",
       "      <th></th>\n",
       "      <th></th>\n",
       "      <th></th>\n",
       "      <th></th>\n",
       "      <th></th>\n",
       "      <th></th>\n",
       "      <th></th>\n",
       "      <th></th>\n",
       "      <th></th>\n",
       "      <th></th>\n",
       "      <th></th>\n",
       "      <th></th>\n",
       "      <th></th>\n",
       "      <th></th>\n",
       "    </tr>\n",
       "  </thead>\n",
       "  <tbody>\n",
       "    <tr>\n",
       "      <th>01/09</th>\n",
       "      <td>0.5697</td>\n",
       "      <td>0.7063</td>\n",
       "      <td>0.5310</td>\n",
       "      <td>NaN</td>\n",
       "      <td>NaN</td>\n",
       "      <td>0.8121</td>\n",
       "      <td>0.5940</td>\n",
       "      <td>0.8943</td>\n",
       "      <td>1.0206</td>\n",
       "      <td>NaN</td>\n",
       "      <td>...</td>\n",
       "      <td>1.1577</td>\n",
       "      <td>NaN</td>\n",
       "      <td>NaN</td>\n",
       "      <td>2.7689</td>\n",
       "      <td>2.7898</td>\n",
       "      <td>2.6552</td>\n",
       "      <td>1.3629</td>\n",
       "      <td>NaN</td>\n",
       "      <td>1.5972</td>\n",
       "      <td>1.8530</td>\n",
       "    </tr>\n",
       "    <tr>\n",
       "      <th>01/10</th>\n",
       "      <td>0.5672</td>\n",
       "      <td>0.7056</td>\n",
       "      <td>NaN</td>\n",
       "      <td>NaN</td>\n",
       "      <td>0.6721</td>\n",
       "      <td>0.8613</td>\n",
       "      <td>0.6014</td>\n",
       "      <td>0.8732</td>\n",
       "      <td>NaN</td>\n",
       "      <td>1.2274</td>\n",
       "      <td>...</td>\n",
       "      <td>NaN</td>\n",
       "      <td>NaN</td>\n",
       "      <td>2.4607</td>\n",
       "      <td>2.7792</td>\n",
       "      <td>2.8026</td>\n",
       "      <td>2.6797</td>\n",
       "      <td>NaN</td>\n",
       "      <td>NaN</td>\n",
       "      <td>1.5736</td>\n",
       "      <td>1.8518</td>\n",
       "    </tr>\n",
       "    <tr>\n",
       "      <th>01/11</th>\n",
       "      <td>0.5389</td>\n",
       "      <td>NaN</td>\n",
       "      <td>NaN</td>\n",
       "      <td>0.4023</td>\n",
       "      <td>0.6890</td>\n",
       "      <td>0.8582</td>\n",
       "      <td>0.5876</td>\n",
       "      <td>NaN</td>\n",
       "      <td>NaN</td>\n",
       "      <td>1.2298</td>\n",
       "      <td>...</td>\n",
       "      <td>NaN</td>\n",
       "      <td>2.1547</td>\n",
       "      <td>2.4901</td>\n",
       "      <td>2.7703</td>\n",
       "      <td>2.7543</td>\n",
       "      <td>NaN</td>\n",
       "      <td>NaN</td>\n",
       "      <td>1.1369</td>\n",
       "      <td>1.6197</td>\n",
       "      <td>1.8541</td>\n",
       "    </tr>\n",
       "    <tr>\n",
       "      <th>01/12</th>\n",
       "      <td>0.5256</td>\n",
       "      <td>NaN</td>\n",
       "      <td>0.5238</td>\n",
       "      <td>0.3917</td>\n",
       "      <td>0.7151</td>\n",
       "      <td>0.8686</td>\n",
       "      <td>NaN</td>\n",
       "      <td>NaN</td>\n",
       "      <td>1.0182</td>\n",
       "      <td>1.2393</td>\n",
       "      <td>...</td>\n",
       "      <td>1.1296</td>\n",
       "      <td>2.1106</td>\n",
       "      <td>2.4772</td>\n",
       "      <td>2.7370</td>\n",
       "      <td>NaN</td>\n",
       "      <td>NaN</td>\n",
       "      <td>1.3097</td>\n",
       "      <td>1.1097</td>\n",
       "      <td>1.6371</td>\n",
       "      <td>1.8656</td>\n",
       "    </tr>\n",
       "    <tr>\n",
       "      <th>01/13</th>\n",
       "      <td>NaN</td>\n",
       "      <td>0.6861</td>\n",
       "      <td>0.5193</td>\n",
       "      <td>0.3760</td>\n",
       "      <td>0.7167</td>\n",
       "      <td>NaN</td>\n",
       "      <td>NaN</td>\n",
       "      <td>0.8986</td>\n",
       "      <td>1.0001</td>\n",
       "      <td>1.2764</td>\n",
       "      <td>...</td>\n",
       "      <td>1.1894</td>\n",
       "      <td>2.0754</td>\n",
       "      <td>2.4615</td>\n",
       "      <td>2.7397</td>\n",
       "      <td>NaN</td>\n",
       "      <td>2.6470</td>\n",
       "      <td>1.3032</td>\n",
       "      <td>1.0821</td>\n",
       "      <td>1.6373</td>\n",
       "      <td>NaN</td>\n",
       "    </tr>\n",
       "  </tbody>\n",
       "</table>\n",
       "<p>5 rows × 23 columns</p>\n",
       "</div>"
      ],
      "text/plain": [
       "         1996    1997    1998    1999    2000    2001    2002    2003    2004  \\\n",
       "Date                                                                            \n",
       "01/09  0.5697  0.7063  0.5310     NaN     NaN  0.8121  0.5940  0.8943  1.0206   \n",
       "01/10  0.5672  0.7056     NaN     NaN  0.6721  0.8613  0.6014  0.8732     NaN   \n",
       "01/11  0.5389     NaN     NaN  0.4023  0.6890  0.8582  0.5876     NaN     NaN   \n",
       "01/12  0.5256     NaN  0.5238  0.3917  0.7151  0.8686     NaN     NaN  1.0182   \n",
       "01/13     NaN  0.6861  0.5193  0.3760  0.7167     NaN     NaN  0.8986  1.0001   \n",
       "\n",
       "         2005   ...      2009    2010    2011    2012    2013    2014    2015  \\\n",
       "Date            ...                                                             \n",
       "01/09     NaN   ...    1.1577     NaN     NaN  2.7689  2.7898  2.6552  1.3629   \n",
       "01/10  1.2274   ...       NaN     NaN  2.4607  2.7792  2.8026  2.6797     NaN   \n",
       "01/11  1.2298   ...       NaN  2.1547  2.4901  2.7703  2.7543     NaN     NaN   \n",
       "01/12  1.2393   ...    1.1296  2.1106  2.4772  2.7370     NaN     NaN  1.3097   \n",
       "01/13  1.2764   ...    1.1894  2.0754  2.4615  2.7397     NaN  2.6470  1.3032   \n",
       "\n",
       "         2016    2017    2018  \n",
       "Date                           \n",
       "01/09     NaN  1.5972  1.8530  \n",
       "01/10     NaN  1.5736  1.8518  \n",
       "01/11  1.1369  1.6197  1.8541  \n",
       "01/12  1.1097  1.6371  1.8656  \n",
       "01/13  1.0821  1.6373     NaN  \n",
       "\n",
       "[5 rows x 23 columns]"
      ]
     },
     "execution_count": 112,
     "metadata": {},
     "output_type": "execute_result"
    }
   ],
   "source": [
    "front_month.head()"
   ]
  },
  {
   "cell_type": "code",
   "execution_count": 113,
   "metadata": {},
   "outputs": [
    {
     "data": {
      "text/html": [
       "<div>\n",
       "<style scoped>\n",
       "    .dataframe tbody tr th:only-of-type {\n",
       "        vertical-align: middle;\n",
       "    }\n",
       "\n",
       "    .dataframe tbody tr th {\n",
       "        vertical-align: top;\n",
       "    }\n",
       "\n",
       "    .dataframe thead th {\n",
       "        text-align: right;\n",
       "    }\n",
       "</style>\n",
       "<table border=\"1\" class=\"dataframe\">\n",
       "  <thead>\n",
       "    <tr style=\"text-align: right;\">\n",
       "      <th></th>\n",
       "      <th>1996</th>\n",
       "      <th>1997</th>\n",
       "      <th>1998</th>\n",
       "      <th>1999</th>\n",
       "      <th>2000</th>\n",
       "      <th>2001</th>\n",
       "      <th>2002</th>\n",
       "      <th>2003</th>\n",
       "      <th>2004</th>\n",
       "      <th>2005</th>\n",
       "      <th>...</th>\n",
       "      <th>2009</th>\n",
       "      <th>2010</th>\n",
       "      <th>2011</th>\n",
       "      <th>2012</th>\n",
       "      <th>2013</th>\n",
       "      <th>2014</th>\n",
       "      <th>2015</th>\n",
       "      <th>2016</th>\n",
       "      <th>2017</th>\n",
       "      <th>2018</th>\n",
       "    </tr>\n",
       "    <tr>\n",
       "      <th>Date</th>\n",
       "      <th></th>\n",
       "      <th></th>\n",
       "      <th></th>\n",
       "      <th></th>\n",
       "      <th></th>\n",
       "      <th></th>\n",
       "      <th></th>\n",
       "      <th></th>\n",
       "      <th></th>\n",
       "      <th></th>\n",
       "      <th></th>\n",
       "      <th></th>\n",
       "      <th></th>\n",
       "      <th></th>\n",
       "      <th></th>\n",
       "      <th></th>\n",
       "      <th></th>\n",
       "      <th></th>\n",
       "      <th></th>\n",
       "      <th></th>\n",
       "      <th></th>\n",
       "    </tr>\n",
       "  </thead>\n",
       "  <tbody>\n",
       "    <tr>\n",
       "      <th>01/09</th>\n",
       "      <td>0.5847</td>\n",
       "      <td>0.7213</td>\n",
       "      <td>0.5540</td>\n",
       "      <td>NaN</td>\n",
       "      <td>NaN</td>\n",
       "      <td>0.8446</td>\n",
       "      <td>0.6570</td>\n",
       "      <td>0.9373</td>\n",
       "      <td>1.0600</td>\n",
       "      <td>NaN</td>\n",
       "      <td>...</td>\n",
       "      <td>1.2952</td>\n",
       "      <td>NaN</td>\n",
       "      <td>NaN</td>\n",
       "      <td>2.9007</td>\n",
       "      <td>2.9386</td>\n",
       "      <td>2.8330</td>\n",
       "      <td>1.5999</td>\n",
       "      <td>NaN</td>\n",
       "      <td>1.7839</td>\n",
       "      <td>2.0351</td>\n",
       "    </tr>\n",
       "    <tr>\n",
       "      <th>01/10</th>\n",
       "      <td>0.5832</td>\n",
       "      <td>0.7220</td>\n",
       "      <td>NaN</td>\n",
       "      <td>NaN</td>\n",
       "      <td>0.7048</td>\n",
       "      <td>0.8933</td>\n",
       "      <td>0.6654</td>\n",
       "      <td>0.9182</td>\n",
       "      <td>NaN</td>\n",
       "      <td>1.2894</td>\n",
       "      <td>...</td>\n",
       "      <td>NaN</td>\n",
       "      <td>NaN</td>\n",
       "      <td>2.5543</td>\n",
       "      <td>2.9042</td>\n",
       "      <td>2.9546</td>\n",
       "      <td>2.8547</td>\n",
       "      <td>NaN</td>\n",
       "      <td>NaN</td>\n",
       "      <td>1.7604</td>\n",
       "      <td>2.0360</td>\n",
       "    </tr>\n",
       "    <tr>\n",
       "      <th>01/11</th>\n",
       "      <td>0.5610</td>\n",
       "      <td>NaN</td>\n",
       "      <td>NaN</td>\n",
       "      <td>0.4301</td>\n",
       "      <td>0.7195</td>\n",
       "      <td>0.8870</td>\n",
       "      <td>0.6521</td>\n",
       "      <td>NaN</td>\n",
       "      <td>NaN</td>\n",
       "      <td>1.2943</td>\n",
       "      <td>...</td>\n",
       "      <td>NaN</td>\n",
       "      <td>2.2544</td>\n",
       "      <td>2.5888</td>\n",
       "      <td>2.8954</td>\n",
       "      <td>2.9165</td>\n",
       "      <td>NaN</td>\n",
       "      <td>NaN</td>\n",
       "      <td>1.3530</td>\n",
       "      <td>1.8039</td>\n",
       "      <td>2.0333</td>\n",
       "    </tr>\n",
       "    <tr>\n",
       "      <th>01/12</th>\n",
       "      <td>0.5494</td>\n",
       "      <td>NaN</td>\n",
       "      <td>0.5476</td>\n",
       "      <td>0.4205</td>\n",
       "      <td>0.7431</td>\n",
       "      <td>0.8941</td>\n",
       "      <td>NaN</td>\n",
       "      <td>NaN</td>\n",
       "      <td>1.0597</td>\n",
       "      <td>1.3065</td>\n",
       "      <td>...</td>\n",
       "      <td>1.2666</td>\n",
       "      <td>2.2102</td>\n",
       "      <td>2.5816</td>\n",
       "      <td>2.8643</td>\n",
       "      <td>NaN</td>\n",
       "      <td>NaN</td>\n",
       "      <td>1.5498</td>\n",
       "      <td>1.3272</td>\n",
       "      <td>1.8215</td>\n",
       "      <td>2.0463</td>\n",
       "    </tr>\n",
       "    <tr>\n",
       "      <th>01/13</th>\n",
       "      <td>NaN</td>\n",
       "      <td>0.7055</td>\n",
       "      <td>0.5445</td>\n",
       "      <td>0.4065</td>\n",
       "      <td>0.7445</td>\n",
       "      <td>NaN</td>\n",
       "      <td>NaN</td>\n",
       "      <td>0.9416</td>\n",
       "      <td>1.0445</td>\n",
       "      <td>1.3429</td>\n",
       "      <td>...</td>\n",
       "      <td>1.3214</td>\n",
       "      <td>2.1772</td>\n",
       "      <td>2.5661</td>\n",
       "      <td>2.8659</td>\n",
       "      <td>NaN</td>\n",
       "      <td>2.8267</td>\n",
       "      <td>1.5410</td>\n",
       "      <td>1.3037</td>\n",
       "      <td>1.8199</td>\n",
       "      <td>NaN</td>\n",
       "    </tr>\n",
       "  </tbody>\n",
       "</table>\n",
       "<p>5 rows × 23 columns</p>\n",
       "</div>"
      ],
      "text/plain": [
       "         1996    1997    1998    1999    2000    2001    2002    2003    2004  \\\n",
       "Date                                                                            \n",
       "01/09  0.5847  0.7213  0.5540     NaN     NaN  0.8446  0.6570  0.9373  1.0600   \n",
       "01/10  0.5832  0.7220     NaN     NaN  0.7048  0.8933  0.6654  0.9182     NaN   \n",
       "01/11  0.5610     NaN     NaN  0.4301  0.7195  0.8870  0.6521     NaN     NaN   \n",
       "01/12  0.5494     NaN  0.5476  0.4205  0.7431  0.8941     NaN     NaN  1.0597   \n",
       "01/13     NaN  0.7055  0.5445  0.4065  0.7445     NaN     NaN  0.9416  1.0445   \n",
       "\n",
       "         2005   ...      2009    2010    2011    2012    2013    2014    2015  \\\n",
       "Date            ...                                                             \n",
       "01/09     NaN   ...    1.2952     NaN     NaN  2.9007  2.9386  2.8330  1.5999   \n",
       "01/10  1.2894   ...       NaN     NaN  2.5543  2.9042  2.9546  2.8547     NaN   \n",
       "01/11  1.2943   ...       NaN  2.2544  2.5888  2.8954  2.9165     NaN     NaN   \n",
       "01/12  1.3065   ...    1.2666  2.2102  2.5816  2.8643     NaN     NaN  1.5498   \n",
       "01/13  1.3429   ...    1.3214  2.1772  2.5661  2.8659     NaN  2.8267  1.5410   \n",
       "\n",
       "         2016    2017    2018  \n",
       "Date                           \n",
       "01/09     NaN  1.7839  2.0351  \n",
       "01/10     NaN  1.7604  2.0360  \n",
       "01/11  1.3530  1.8039  2.0333  \n",
       "01/12  1.3272  1.8215  2.0463  \n",
       "01/13  1.3037  1.8199     NaN  \n",
       "\n",
       "[5 rows x 23 columns]"
      ]
     },
     "execution_count": 113,
     "metadata": {},
     "output_type": "execute_result"
    }
   ],
   "source": [
    "back_month.head()"
   ]
  },
  {
   "cell_type": "code",
   "execution_count": 114,
   "metadata": {},
   "outputs": [
    {
     "name": "stdout",
     "output_type": "stream",
     "text": [
      "Please indicate if this is a 1) Crack or 2) Spread - please input integer 1 or 2: 2\n"
     ]
    }
   ],
   "source": [
    "Spread_Combi=create_sprd(front_month, back_month)"
   ]
  },
  {
   "cell_type": "code",
   "execution_count": 115,
   "metadata": {
    "collapsed": true
   },
   "outputs": [],
   "source": [
    "Spread_Combi.dropna(axis=0,how='all',inplace=True) # drop rows with all NAs"
   ]
  },
  {
   "cell_type": "code",
   "execution_count": 116,
   "metadata": {
    "collapsed": true
   },
   "outputs": [],
   "source": [
    "Spread_Combi.dropna(axis=1,how='all',inplace=True)# drop columns with all NAs"
   ]
  },
  {
   "cell_type": "code",
   "execution_count": 117,
   "metadata": {},
   "outputs": [
    {
     "name": "stdout",
     "output_type": "stream",
     "text": [
      "Please input 'y' if position is long and 'n' if position is short: n\n",
      "PnL will be calculated basis 1kb lot size for standardization purposes.\n"
     ]
    }
   ],
   "source": [
    "position=pos()\n",
    "print 'PnL will be calculated basis 1kb lot size for standardization purposes.'"
   ]
  },
  {
   "cell_type": "code",
   "execution_count": 118,
   "metadata": {
    "collapsed": true
   },
   "outputs": [],
   "source": [
    "zf=z_factor(product1, product2)"
   ]
  },
  {
   "cell_type": "code",
   "execution_count": 119,
   "metadata": {
    "collapsed": true
   },
   "outputs": [],
   "source": [
    "#PnL Series\n",
    "pnl_series=(Spread_Combi.iloc[-1]-Spread_Combi.iloc[0])*zf[0]*zf[1]*position"
   ]
  },
  {
   "cell_type": "code",
   "execution_count": 120,
   "metadata": {
    "collapsed": true
   },
   "outputs": [],
   "source": [
    "#Win %\n",
    "Win_Percent=float(pnl_series[pnl_series>0].count())/float(pnl_series.count())*100"
   ]
  },
  {
   "cell_type": "code",
   "execution_count": 121,
   "metadata": {
    "collapsed": true
   },
   "outputs": [],
   "source": [
    "#Largest Drawdown - use max and min\n",
    "max_series=Spread_Combi.max()\n",
    "min_series=Spread_Combi.min()\n",
    "if position==1:\n",
    "    max_drawdown=(min_series-Spread_Combi.iloc[0])*position*zf[0]*zf[1]\n",
    "else:\n",
    "    max_drawdown=(max_series-Spread_Combi.iloc[0])*position*zf[0]*zf[1]"
   ]
  },
  {
   "cell_type": "code",
   "execution_count": 122,
   "metadata": {
    "collapsed": true
   },
   "outputs": [],
   "source": [
    "#% return - calculate using last value vs first value - similar to pnl calc\n",
    "percent_return=((Spread_Combi.iloc[-1]-Spread_Combi.iloc[0])/(Spread_Combi.iloc[0]))"
   ]
  },
  {
   "cell_type": "code",
   "execution_count": 123,
   "metadata": {},
   "outputs": [
    {
     "data": {
      "text/plain": [
       "1996     247.8\n",
       "1997     264.6\n",
       "1998     365.4\n",
       "1999     277.2\n",
       "2000     100.8\n",
       "2001     730.8\n",
       "2002     289.8\n",
       "2003     184.8\n",
       "2004     756.0\n",
       "2005    1041.6\n",
       "2006    3628.8\n",
       "2007   -1684.2\n",
       "2008    1281.0\n",
       "2009   -2289.0\n",
       "2010     924.0\n",
       "2011    2331.0\n",
       "2012     659.4\n",
       "2013    2079.0\n",
       "2014      71.4\n",
       "2015     361.2\n",
       "2016     327.6\n",
       "2017     718.2\n",
       "2018     -58.8\n",
       "dtype: float64"
      ]
     },
     "execution_count": 123,
     "metadata": {},
     "output_type": "execute_result"
    }
   ],
   "source": [
    "pnl_series"
   ]
  },
  {
   "cell_type": "code",
   "execution_count": 124,
   "metadata": {},
   "outputs": [
    {
     "data": {
      "text/plain": [
       "1996    0.393333\n",
       "1997    0.420000\n",
       "1998    0.378261\n",
       "1999    0.237410\n",
       "2000    0.073394\n",
       "2001    0.535385\n",
       "2002    0.109524\n",
       "2003    0.102326\n",
       "2004    0.456853\n",
       "2005    0.400000\n",
       "2006    1.122078\n",
       "2007   -0.255251\n",
       "2008    0.241107\n",
       "2009   -0.396364\n",
       "2010    0.220662\n",
       "2011    0.592949\n",
       "2012    0.119120\n",
       "2013    0.332661\n",
       "2014    0.009561\n",
       "2015    0.036287\n",
       "2016    0.036094\n",
       "2017    0.091591\n",
       "2018   -0.007688\n",
       "dtype: float64"
      ]
     },
     "execution_count": 124,
     "metadata": {},
     "output_type": "execute_result"
    }
   ],
   "source": [
    "percent_return"
   ]
  },
  {
   "cell_type": "code",
   "execution_count": 125,
   "metadata": {},
   "outputs": [
    {
     "data": {
      "text/plain": [
       "1996      -0.0\n",
       "1997     -67.2\n",
       "1998     -21.0\n",
       "1999      -8.4\n",
       "2000    -499.8\n",
       "2001    -294.0\n",
       "2002      -8.4\n",
       "2003    -575.4\n",
       "2004      -0.0\n",
       "2005      -0.0\n",
       "2006      -0.0\n",
       "2007   -1684.2\n",
       "2008      -0.0\n",
       "2009   -2352.0\n",
       "2010    -474.6\n",
       "2011      -0.0\n",
       "2012    -924.0\n",
       "2013    -357.0\n",
       "2014    -121.8\n",
       "2015   -1243.2\n",
       "2016    -457.8\n",
       "2017    -172.2\n",
       "2018    -121.8\n",
       "dtype: float64"
      ]
     },
     "execution_count": 125,
     "metadata": {},
     "output_type": "execute_result"
    }
   ],
   "source": [
    "max_drawdown"
   ]
  },
  {
   "cell_type": "code",
   "execution_count": 126,
   "metadata": {},
   "outputs": [
    {
     "name": "stdout",
     "output_type": "stream",
     "text": [
      "The winning percentage is 86.96 percent\n"
     ]
    }
   ],
   "source": [
    "print 'The winning percentage is %.2f percent' %Win_Percent"
   ]
  },
  {
   "cell_type": "code",
   "execution_count": 127,
   "metadata": {
    "collapsed": true
   },
   "outputs": [],
   "source": [
    "#Equity_Curve=create_equity_curve(Spread_Combi, zf[0],zf[1],position)"
   ]
  },
  {
   "cell_type": "code",
   "execution_count": 128,
   "metadata": {
    "collapsed": true
   },
   "outputs": [],
   "source": [
    "#Equity_Curve.iplot(kind='line')"
   ]
  },
  {
   "cell_type": "code",
   "execution_count": null,
   "metadata": {
    "collapsed": true
   },
   "outputs": [],
   "source": []
  },
  {
   "cell_type": "code",
   "execution_count": null,
   "metadata": {
    "collapsed": true
   },
   "outputs": [],
   "source": []
  },
  {
   "cell_type": "code",
   "execution_count": null,
   "metadata": {
    "collapsed": true
   },
   "outputs": [],
   "source": []
  },
  {
   "cell_type": "code",
   "execution_count": null,
   "metadata": {
    "collapsed": true
   },
   "outputs": [],
   "source": []
  }
 ],
 "metadata": {
  "kernelspec": {
   "display_name": "Python 2",
   "language": "python",
   "name": "python2"
  },
  "language_info": {
   "codemirror_mode": {
    "name": "ipython",
    "version": 2
   },
   "file_extension": ".py",
   "mimetype": "text/x-python",
   "name": "python",
   "nbconvert_exporter": "python",
   "pygments_lexer": "ipython2",
   "version": "2.7.13"
  }
 },
 "nbformat": 4,
 "nbformat_minor": 2
}
