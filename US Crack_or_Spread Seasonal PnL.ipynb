{
 "cells": [
  {
   "cell_type": "code",
   "execution_count": 107,
   "metadata": {},
   "outputs": [
    {
     "name": "stdout",
     "output_type": "stream",
     "text": [
      "Please input the number of the product you want to see the seasonals: 1) Brent 2) Gasoil 3) HO 4) RBOB 5) WTI: 4\n",
      "Please input the month of the contract which you wish to evaluate in numbers from 1-12: 3\n",
      "Please input the number of the product you want to see the seasonals: 1) Brent 2) Gasoil 3) HO 4) RBOB 5) WTI: 3\n",
      "Please input the month of the contract which you wish to evaluate in numbers from 1-12: 3\n"
     ]
    }
   ],
   "source": [
    "\n",
    "def pos():\n",
    "    pos=1\n",
    "    while True:\n",
    "        a=raw_input(\"Please input 'y' if position is long and 'n' if position is short: \").lower()\n",
    "    \n",
    "        if a=='y':\n",
    "            break\n",
    "        if a=='n':\n",
    "            pos=pos*(-1)\n",
    "            break\n",
    "        else:\n",
    "            print \"Please input either 'y' or 'n' for position\"\n",
    "    return pos\n",
    "\n",
    "def z_factor(product1,product2):\n",
    "    z=1\n",
    "    factor=1000\n",
    "    if product1=='RBOB' and product2 =='RBOB':\n",
    "        z=42\n",
    "    elif product1=='HO' and product2 =='HO':\n",
    "        z=42\n",
    "    elif product1=='RBOB' and product2 =='HO':\n",
    "        z=42\n",
    "    elif product1=='HO' and product2 =='RBOB':\n",
    "        z=42\n",
    "    elif product1=='Gasoil' and product2 =='Gasoil':\n",
    "        factor=100\n",
    "    elif product1=='Gasoil' and product2 =='Brent':\n",
    "        z=(1/7.45)\n",
    "    \n",
    "    else:\n",
    "        z=1\n",
    "        factor=1000\n",
    "    \n",
    "    return z,factor\n",
    "        \n",
    "def create_sprd(dataframe1, dataframe2):\n",
    "   \n",
    "    dataframe1.reset_index(inplace=True)\n",
    "    dataframe2.reset_index(inplace=True)\n",
    "    date=dataframe1['Date']\n",
    "    \n",
    "    dataframe1.drop(columns=['Date'],inplace=True)\n",
    "    dataframe2.drop(columns=['Date'],inplace=True)\n",
    "    \n",
    "    while True:\n",
    "        sprd_type=int(raw_input('Please indicate if this is a 1) Crack or 2) Spread - please input integer 1 or 2: '))\n",
    "        \n",
    "        if sprd_type==1:\n",
    "            \n",
    "            new_df=dataframe1*42-dataframe2\n",
    "            new_df['Date']=date\n",
    "            new_df.set_index('Date',inplace=True)\n",
    "            new_df.fillna(method='bfill',inplace=True)\n",
    "            new_df.fillna(method='ffill',inplace=True)\n",
    "            \n",
    "            return new_df\n",
    "            break\n",
    "        \n",
    "        elif sprd_type==2:\n",
    "            \n",
    "            new_df= dataframe1-dataframe2\n",
    "            new_df['Date']=date\n",
    "            new_df.set_index('Date',inplace=True)\n",
    "            new_df.fillna(method='bfill',inplace=True)\n",
    "            new_df.fillna(method='ffill',inplace=True)\n",
    "            \n",
    "            return new_df\n",
    "            break\n",
    "        \n",
    "        else:\n",
    "            print 'You have inputted incorrectly. Please try again and enter either integer 1 or 2.'\n",
    "    \n",
    "\n",
    "class Mth_1(object):\n",
    "    \n",
    "    def __init__(self):\n",
    "        pass\n",
    "        \n",
    "    def pdt_type1(self):\n",
    "        \n",
    "        product=''\n",
    "        while True:\n",
    "            inst=int(raw_input('Please input the number of the product you want to see the seasonals: 1) Brent 2) Gasoil 3) HO 4) RBOB 5) WTI: '))\n",
    "    \n",
    "            if inst==1:\n",
    "                product='Brent'\n",
    "                break\n",
    "            elif inst==2:\n",
    "                product='Gasoil'\n",
    "                break   \n",
    "            elif inst==3:\n",
    "                product='HO'\n",
    "                break      \n",
    "            elif inst==4:\n",
    "                product='RBOB'\n",
    "                break       \n",
    "            elif inst==5:\n",
    "                product='WTI'\n",
    "                break       \n",
    "            else:\n",
    "                print 'You did not input a correct number. Please try again.'\n",
    "        \n",
    "        return product\n",
    "        \n",
    "    \n",
    "    def mth_no1(self):\n",
    "        month=''\n",
    "        while True:\n",
    "            Mth=int(raw_input('Please input the month of the contract which you wish to evaluate in numbers from 1-12: '))\n",
    "    \n",
    "            if Mth==1:\n",
    "                month='Jan'\n",
    "                break\n",
    "            elif Mth==2:\n",
    "                month='Feb'\n",
    "                break   \n",
    "            elif Mth==3:\n",
    "                month='Mar'\n",
    "                break   \n",
    "            elif Mth==4:\n",
    "                month='Apr'\n",
    "                break   \n",
    "            elif Mth==5:\n",
    "                month='May'\n",
    "                break          \n",
    "            elif Mth==6:\n",
    "                month='Jun'\n",
    "                break   \n",
    "            elif Mth==7:\n",
    "                month='Jul'\n",
    "                break   \n",
    "            elif Mth==8:\n",
    "                month='Aug'\n",
    "                break   \n",
    "            elif Mth==9:\n",
    "                month='Sep'\n",
    "                break   \n",
    "            elif Mth==10:\n",
    "                month='Oct'\n",
    "                break   \n",
    "            elif Mth==11:\n",
    "                month='Nov'\n",
    "                break   \n",
    "            elif Mth==12:\n",
    "                month='Dec'\n",
    "                break \n",
    "            else:\n",
    "                print 'You did not input a correct number. Please try again.'\n",
    "        \n",
    "        return month\n",
    "\n",
    "    def dataframe_create(self,start_mth,start_day,end_mth,end_day,i):\n",
    "\n",
    "        count=0\n",
    "        path = os.getcwd()\n",
    "        \n",
    "        listing = os.listdir(path)\n",
    "        for infile in listing:\n",
    "            temp=pd.read_excel(infile) #read each file into panda dataframe\n",
    "    \n",
    "            contract_yr_str=infile[-8:-4] # get the contract year\n",
    "    \n",
    "            seasonal_year=int(contract_yr_str)-1 # get the seasonal year to create the index - prev year\n",
    "            seasonal_year=str(seasonal_year) # convert to string\n",
    "\n",
    "            start_date=str(int(seasonal_year)+i)+'-'+start_mth+'-'+start_day # create start date\n",
    "            end_date=str(int(seasonal_year)+j)+'-'+end_mth+'-'+end_day # create end date\n",
    "            \n",
    "            #Join a date dataframe and the temp dataframe together\n",
    "            \n",
    "            dates=pd.date_range(start_date, end_date) # range of dates for date axis\n",
    "            dates=dates.strftime('%Y-%m-%d') #make sure no left out dates\n",
    "            sample_data=np.arange(0,len(dates)) #just sample numbers to create dataframe\n",
    "    \n",
    "            dates_dataframe=pd.DataFrame({'Date':dates,'data':sample_data}) # create dates dataframe\n",
    "            dates_dataframe=dates_dataframe.set_index('Date') # set index as Date to facilitate joining\n",
    "    \n",
    "            temp=temp.set_index('Date') # set index as Date to facilitate joining\n",
    "    \n",
    "            temp=dates_dataframe.join(temp) # join dataframes together on Date\n",
    "               \n",
    "            #filter dates by the start and end date\n",
    "            temp.reset_index(inplace=True)\n",
    "    \n",
    "            temp=temp[temp['Date']>=start_date] # filter for start date\n",
    "\n",
    "            temp=temp[temp['Date']<=end_date] # filter for end date\n",
    "\n",
    "            temp['Date']=pd.to_datetime(temp['Date']).dt.strftime('%m/%d') # putting date in mm/dd form\n",
    "            temp=temp.set_index('Date') # putting date back as index\n",
    "            temp=pd.DataFrame(temp['Settle'],columns=['Settle']) # setting dataframe with date and settle only\n",
    "\n",
    "    \n",
    "            if count==0:\n",
    "                Seasonal_Combi=temp\n",
    "                seasonal_year=str(int(seasonal_year)+1)\n",
    "                Seasonal_Combi.rename(columns={'Settle':seasonal_year},inplace=True)\n",
    "        \n",
    "                count+=1\n",
    "        \n",
    "            else:\n",
    "    \n",
    "                seasonal_year=str(int(seasonal_year)+1)\n",
    "                Seasonal_Combi['Settle']=temp['Settle']\n",
    "                Seasonal_Combi.rename(columns={'Settle':seasonal_year},inplace=True)\n",
    "\n",
    "        #don't need this, i believe\n",
    "        #Seasonal_Combi.drop(columns=['Open','High','Low','Last','Change', 'Volume','Prev. Day Open Interest'],inplace=True)   \n",
    "\n",
    "        \n",
    "        return Seasonal_Combi\n",
    "            \n",
    "            \n",
    "\n",
    "class Mth_2(object):\n",
    "    \n",
    "    def __init__(self):\n",
    "        pass\n",
    "        \n",
    "    def pdt_type2(self):\n",
    "        \n",
    "        product=''\n",
    "        while True:\n",
    "            inst=int(raw_input('Please input the number of the product you want to see the seasonals: 1) Brent 2) Gasoil 3) HO 4) RBOB 5) WTI: '))\n",
    "    \n",
    "            if inst==1:\n",
    "                product='Brent'\n",
    "                break\n",
    "            elif inst==2:\n",
    "                product='Gasoil'\n",
    "                break   \n",
    "            elif inst==3:\n",
    "                product='HO'\n",
    "                break      \n",
    "            elif inst==4:\n",
    "                product='RBOB'\n",
    "                break       \n",
    "            elif inst==5:\n",
    "                product='WTI'\n",
    "                break       \n",
    "            else:\n",
    "                print 'You did not input a correct number. Please try again.'\n",
    "        \n",
    "        return product\n",
    "        \n",
    "    \n",
    "    def mth_no2(self):\n",
    "        month=''\n",
    "        while True:\n",
    "            Mth=int(raw_input('Please input the month of the contract which you wish to evaluate in numbers from 1-12: '))\n",
    "    \n",
    "            if Mth==1:\n",
    "                month='Jan'\n",
    "                break\n",
    "            elif Mth==2:\n",
    "                month='Feb'\n",
    "                break   \n",
    "            elif Mth==3:\n",
    "                month='Mar'\n",
    "                break   \n",
    "            elif Mth==4:\n",
    "                month='Apr'\n",
    "                break   \n",
    "            elif Mth==5:\n",
    "                month='May'\n",
    "                break          \n",
    "            elif Mth==6:\n",
    "                month='Jun'\n",
    "                break   \n",
    "            elif Mth==7:\n",
    "                month='Jul'\n",
    "                break   \n",
    "            elif Mth==8:\n",
    "                month='Aug'\n",
    "                break   \n",
    "            elif Mth==9:\n",
    "                month='Sep'\n",
    "                break   \n",
    "            elif Mth==10:\n",
    "                month='Oct'\n",
    "                break   \n",
    "            elif Mth==11:\n",
    "                month='Nov'\n",
    "                break   \n",
    "            elif Mth==12:\n",
    "                month='Dec'\n",
    "                break \n",
    "            else:\n",
    "                print 'You did not input a correct number. Please try again.'\n",
    "        \n",
    "        return month\n",
    "\n",
    "    def dataframe_create(self, start_mth, start_day, end_mth,end_day,i):\n",
    "\n",
    "        count=0\n",
    "        path = os.getcwd()\n",
    "\n",
    "        listing = os.listdir(path)\n",
    "        for infile in listing:\n",
    "            temp=pd.read_excel(infile) #read each file into panda dataframe\n",
    "    \n",
    "            contract_yr_str=infile[-8:-4] # get the contract year\n",
    "    \n",
    "            seasonal_year=int(contract_yr_str)-1 # get the seasonal year to create the index - prev year\n",
    "            seasonal_year=str(seasonal_year) # convert to string\n",
    "     \n",
    "            start_date=str(int(seasonal_year)+i)+'-'+start_mth+'-'+start_day # create start date\n",
    "            end_date=str(int(seasonal_year)+j)+'-'+end_mth+'-'+end_day # create end date\n",
    "            \n",
    "            #Join a date dataframe and the temp dataframe together\n",
    "            \n",
    "            dates=pd.date_range(start_date, end_date) # range of dates for date axis\n",
    "            dates=dates.strftime('%Y-%m-%d') #make sure no left out dates\n",
    "            sample_data=np.arange(0,len(dates)) #just sample numbers to create dataframe\n",
    "    \n",
    "            dates_dataframe=pd.DataFrame({'Date':dates,'data':sample_data}) # create dates dataframe\n",
    "            dates_dataframe=dates_dataframe.set_index('Date') # set index as Date to facilitate joining\n",
    "    \n",
    "            temp=temp.set_index('Date') # set index as Date to facilitate joining\n",
    "    \n",
    "            temp=dates_dataframe.join(temp) # join dataframes together on Date\n",
    "               \n",
    "            #filter dates by the start and end date\n",
    "            temp.reset_index(inplace=True)\n",
    "    \n",
    "            temp=temp[temp['Date']>=start_date] # filter for start date\n",
    "\n",
    "            temp=temp[temp['Date']<=end_date] # filter for end date\n",
    "\n",
    "            temp['Date']=pd.to_datetime(temp['Date']).dt.strftime('%m/%d') # putting date in mm/dd form\n",
    "            temp=temp.set_index('Date') # putting date back as index\n",
    "            temp=pd.DataFrame(temp['Settle'],columns=['Settle']) # setting dataframe with date and settle only\n",
    "    \n",
    "            if count==0:\n",
    "                Seasonal_Combi=temp\n",
    "                seasonal_year=str(int(seasonal_year)+1)\n",
    "                Seasonal_Combi.rename(columns={'Settle':seasonal_year},inplace=True)\n",
    "        \n",
    "                count+=1\n",
    "        \n",
    "            else:\n",
    "    \n",
    "                seasonal_year=str(int(seasonal_year)+1)\n",
    "                Seasonal_Combi['Settle']=temp['Settle']\n",
    "                Seasonal_Combi.rename(columns={'Settle':seasonal_year},inplace=True)\n",
    "\n",
    "        #Seasonal_Combi.drop(columns=['Open','High','Low','Last','Change','Volume','Prev. Day Open Interest'],inplace=True)   \n",
    "\n",
    "        \n",
    "        return Seasonal_Combi\n",
    "    \n",
    "    \n",
    "import numpy as np\n",
    "import pandas as pd\n",
    "import os\n",
    "\n",
    "%matplotlib inline\n",
    "\n",
    "#user specify instrument and contract month\n",
    "\n",
    "product1=''\n",
    "month1=''\n",
    "product2=''\n",
    "month2=''\n",
    "\n",
    "front_mth=Mth_1()\n",
    "product1 = front_mth.pdt_type1()\n",
    "month1=front_mth.mth_no1()\n",
    "\n",
    "back_mth=Mth_2()\n",
    "product2=back_mth.pdt_type2()\n",
    "month2=back_mth.mth_no2()\n",
    "\n",
    "        "
   ]
  },
  {
   "cell_type": "code",
   "execution_count": 108,
   "metadata": {},
   "outputs": [
    {
     "name": "stdout",
     "output_type": "stream",
     "text": [
      "C:\\Users\\boonsin.teo\\Documents\\Quandl\n"
     ]
    }
   ],
   "source": [
    "cd Quandl"
   ]
  },
  {
   "cell_type": "code",
   "execution_count": 109,
   "metadata": {},
   "outputs": [
    {
     "name": "stdout",
     "output_type": "stream",
     "text": [
      "C:\\Users\\boonsin.teo\\Documents\\Quandl\\RBOB\n"
     ]
    }
   ],
   "source": [
    "cd $product1"
   ]
  },
  {
   "cell_type": "code",
   "execution_count": 110,
   "metadata": {},
   "outputs": [
    {
     "name": "stdout",
     "output_type": "stream",
     "text": [
      "C:\\Users\\boonsin.teo\\Documents\\Quandl\\RBOB\\Mar\n"
     ]
    }
   ],
   "source": [
    "cd $month1"
   ]
  },
  {
   "cell_type": "code",
   "execution_count": 111,
   "metadata": {},
   "outputs": [
    {
     "name": "stdout",
     "output_type": "stream",
     "text": [
      "Please input start mth of seasonal period in MM format: 11\n",
      "Please input start day of seasonal period in DD format: 17\n",
      "Please input 1 if start mth is the same as contract year and 0 if not: 0\n",
      "Please input end mth of seasonal period in MM format: 01\n",
      "Please input end day of seasonal period in DD format: 03\n",
      "Please input 1 if end mth is the same as contract year and 0 if not: 1\n"
     ]
    }
   ],
   "source": [
    "start_mth=raw_input('Please input start mth of seasonal period in MM format: ')\n",
    "start_day=raw_input('Please input start day of seasonal period in DD format: ')\n",
    "i=int(raw_input('Please input 1 if start mth is the same as contract year and 0 if not: '))\n",
    "            \n",
    "end_mth=raw_input('Please input end mth of seasonal period in MM format: ')\n",
    "end_day=raw_input('Please input end day of seasonal period in DD format: ')\n",
    "            \n",
    "j=int(raw_input('Please input 1 if end mth is the same as contract year and 0 if not: '))\n",
    "\n",
    "\n",
    "front_month=front_mth.dataframe_create(start_mth,start_day,end_mth,end_day,i)"
   ]
  },
  {
   "cell_type": "code",
   "execution_count": 112,
   "metadata": {},
   "outputs": [
    {
     "name": "stdout",
     "output_type": "stream",
     "text": [
      "C:\\Users\\boonsin.teo\\Documents\\Quandl\\RBOB\n"
     ]
    }
   ],
   "source": [
    "cd .."
   ]
  },
  {
   "cell_type": "code",
   "execution_count": 113,
   "metadata": {},
   "outputs": [
    {
     "name": "stdout",
     "output_type": "stream",
     "text": [
      "C:\\Users\\boonsin.teo\\Documents\\Quandl\n"
     ]
    }
   ],
   "source": [
    "cd .."
   ]
  },
  {
   "cell_type": "code",
   "execution_count": 114,
   "metadata": {},
   "outputs": [
    {
     "name": "stdout",
     "output_type": "stream",
     "text": [
      "C:\\Users\\boonsin.teo\\Documents\n"
     ]
    }
   ],
   "source": [
    "cd .."
   ]
  },
  {
   "cell_type": "code",
   "execution_count": 115,
   "metadata": {},
   "outputs": [
    {
     "name": "stdout",
     "output_type": "stream",
     "text": [
      "C:\\Users\\boonsin.teo\\Documents\\Quandl\n"
     ]
    }
   ],
   "source": [
    "cd Quandl"
   ]
  },
  {
   "cell_type": "code",
   "execution_count": 116,
   "metadata": {},
   "outputs": [
    {
     "name": "stdout",
     "output_type": "stream",
     "text": [
      "C:\\Users\\boonsin.teo\\Documents\\Quandl\\HO\n"
     ]
    }
   ],
   "source": [
    "cd $product2"
   ]
  },
  {
   "cell_type": "code",
   "execution_count": 117,
   "metadata": {},
   "outputs": [
    {
     "name": "stdout",
     "output_type": "stream",
     "text": [
      "C:\\Users\\boonsin.teo\\Documents\\Quandl\\HO\\Mar\n"
     ]
    }
   ],
   "source": [
    "cd $month2"
   ]
  },
  {
   "cell_type": "code",
   "execution_count": 118,
   "metadata": {
    "collapsed": true
   },
   "outputs": [],
   "source": [
    "back_month=back_mth.dataframe_create(start_mth, start_day,end_mth,end_day,i)"
   ]
  },
  {
   "cell_type": "code",
   "execution_count": 119,
   "metadata": {},
   "outputs": [
    {
     "name": "stdout",
     "output_type": "stream",
     "text": [
      "C:\\Users\\boonsin.teo\\Documents\\Quandl\\HO\n"
     ]
    }
   ],
   "source": [
    "cd .."
   ]
  },
  {
   "cell_type": "code",
   "execution_count": 120,
   "metadata": {},
   "outputs": [
    {
     "name": "stdout",
     "output_type": "stream",
     "text": [
      "C:\\Users\\boonsin.teo\\Documents\\Quandl\n"
     ]
    }
   ],
   "source": [
    "cd .."
   ]
  },
  {
   "cell_type": "code",
   "execution_count": 121,
   "metadata": {},
   "outputs": [
    {
     "name": "stdout",
     "output_type": "stream",
     "text": [
      "C:\\Users\\boonsin.teo\\Documents\n"
     ]
    }
   ],
   "source": [
    "cd .."
   ]
  },
  {
   "cell_type": "code",
   "execution_count": 122,
   "metadata": {},
   "outputs": [
    {
     "data": {
      "text/html": [
       "<div>\n",
       "<style scoped>\n",
       "    .dataframe tbody tr th:only-of-type {\n",
       "        vertical-align: middle;\n",
       "    }\n",
       "\n",
       "    .dataframe tbody tr th {\n",
       "        vertical-align: top;\n",
       "    }\n",
       "\n",
       "    .dataframe thead th {\n",
       "        text-align: right;\n",
       "    }\n",
       "</style>\n",
       "<table border=\"1\" class=\"dataframe\">\n",
       "  <thead>\n",
       "    <tr style=\"text-align: right;\">\n",
       "      <th></th>\n",
       "      <th>1996</th>\n",
       "      <th>1997</th>\n",
       "      <th>1998</th>\n",
       "      <th>1999</th>\n",
       "      <th>2000</th>\n",
       "      <th>2001</th>\n",
       "      <th>2002</th>\n",
       "      <th>2003</th>\n",
       "      <th>2004</th>\n",
       "      <th>2005</th>\n",
       "      <th>...</th>\n",
       "      <th>2009</th>\n",
       "      <th>2010</th>\n",
       "      <th>2011</th>\n",
       "      <th>2012</th>\n",
       "      <th>2013</th>\n",
       "      <th>2014</th>\n",
       "      <th>2015</th>\n",
       "      <th>2016</th>\n",
       "      <th>2017</th>\n",
       "      <th>2018</th>\n",
       "    </tr>\n",
       "    <tr>\n",
       "      <th>Date</th>\n",
       "      <th></th>\n",
       "      <th></th>\n",
       "      <th></th>\n",
       "      <th></th>\n",
       "      <th></th>\n",
       "      <th></th>\n",
       "      <th></th>\n",
       "      <th></th>\n",
       "      <th></th>\n",
       "      <th></th>\n",
       "      <th></th>\n",
       "      <th></th>\n",
       "      <th></th>\n",
       "      <th></th>\n",
       "      <th></th>\n",
       "      <th></th>\n",
       "      <th></th>\n",
       "      <th></th>\n",
       "      <th></th>\n",
       "      <th></th>\n",
       "      <th></th>\n",
       "    </tr>\n",
       "  </thead>\n",
       "  <tbody>\n",
       "    <tr>\n",
       "      <th>11/17</th>\n",
       "      <td>0.5218</td>\n",
       "      <td>NaN</td>\n",
       "      <td>0.5991</td>\n",
       "      <td>0.4131</td>\n",
       "      <td>0.6961</td>\n",
       "      <td>0.8983</td>\n",
       "      <td>NaN</td>\n",
       "      <td>NaN</td>\n",
       "      <td>0.8654</td>\n",
       "      <td>1.2833</td>\n",
       "      <td>...</td>\n",
       "      <td>1.2751</td>\n",
       "      <td>2.0884</td>\n",
       "      <td>2.1170</td>\n",
       "      <td>2.5442</td>\n",
       "      <td>NaN</td>\n",
       "      <td>NaN</td>\n",
       "      <td>2.0357</td>\n",
       "      <td>1.2683</td>\n",
       "      <td>1.3737</td>\n",
       "      <td>NaN</td>\n",
       "    </tr>\n",
       "    <tr>\n",
       "      <th>11/18</th>\n",
       "      <td>NaN</td>\n",
       "      <td>0.6434</td>\n",
       "      <td>0.5946</td>\n",
       "      <td>0.4118</td>\n",
       "      <td>0.6755</td>\n",
       "      <td>NaN</td>\n",
       "      <td>NaN</td>\n",
       "      <td>0.7080</td>\n",
       "      <td>0.9036</td>\n",
       "      <td>1.2696</td>\n",
       "      <td>...</td>\n",
       "      <td>1.2443</td>\n",
       "      <td>2.0928</td>\n",
       "      <td>2.1609</td>\n",
       "      <td>2.5185</td>\n",
       "      <td>NaN</td>\n",
       "      <td>2.6544</td>\n",
       "      <td>2.0454</td>\n",
       "      <td>1.2898</td>\n",
       "      <td>1.3743</td>\n",
       "      <td>NaN</td>\n",
       "    </tr>\n",
       "    <tr>\n",
       "      <th>11/19</th>\n",
       "      <td>NaN</td>\n",
       "      <td>0.6547</td>\n",
       "      <td>0.5950</td>\n",
       "      <td>0.4153</td>\n",
       "      <td>0.6891</td>\n",
       "      <td>NaN</td>\n",
       "      <td>0.5370</td>\n",
       "      <td>0.7008</td>\n",
       "      <td>0.8871</td>\n",
       "      <td>1.3310</td>\n",
       "      <td>...</td>\n",
       "      <td>1.2230</td>\n",
       "      <td>2.0510</td>\n",
       "      <td>2.1363</td>\n",
       "      <td>NaN</td>\n",
       "      <td>2.7481</td>\n",
       "      <td>2.6356</td>\n",
       "      <td>2.0410</td>\n",
       "      <td>1.3015</td>\n",
       "      <td>NaN</td>\n",
       "      <td>NaN</td>\n",
       "    </tr>\n",
       "    <tr>\n",
       "      <th>11/20</th>\n",
       "      <td>0.5170</td>\n",
       "      <td>0.6386</td>\n",
       "      <td>0.5830</td>\n",
       "      <td>0.4175</td>\n",
       "      <td>NaN</td>\n",
       "      <td>0.9005</td>\n",
       "      <td>0.5548</td>\n",
       "      <td>0.7132</td>\n",
       "      <td>0.8740</td>\n",
       "      <td>NaN</td>\n",
       "      <td>...</td>\n",
       "      <td>1.1209</td>\n",
       "      <td>2.0480</td>\n",
       "      <td>NaN</td>\n",
       "      <td>NaN</td>\n",
       "      <td>2.7057</td>\n",
       "      <td>2.6609</td>\n",
       "      <td>2.0390</td>\n",
       "      <td>1.3066</td>\n",
       "      <td>NaN</td>\n",
       "      <td>NaN</td>\n",
       "    </tr>\n",
       "    <tr>\n",
       "      <th>11/21</th>\n",
       "      <td>0.5160</td>\n",
       "      <td>0.6480</td>\n",
       "      <td>0.5881</td>\n",
       "      <td>NaN</td>\n",
       "      <td>NaN</td>\n",
       "      <td>0.9036</td>\n",
       "      <td>0.5524</td>\n",
       "      <td>0.7219</td>\n",
       "      <td>0.8740</td>\n",
       "      <td>NaN</td>\n",
       "      <td>...</td>\n",
       "      <td>1.1712</td>\n",
       "      <td>NaN</td>\n",
       "      <td>NaN</td>\n",
       "      <td>2.5267</td>\n",
       "      <td>2.7385</td>\n",
       "      <td>2.7267</td>\n",
       "      <td>2.0708</td>\n",
       "      <td>NaN</td>\n",
       "      <td>1.4321</td>\n",
       "      <td>NaN</td>\n",
       "    </tr>\n",
       "  </tbody>\n",
       "</table>\n",
       "<p>5 rows × 23 columns</p>\n",
       "</div>"
      ],
      "text/plain": [
       "         1996    1997    1998    1999    2000    2001    2002    2003    2004  \\\n",
       "Date                                                                            \n",
       "11/17  0.5218     NaN  0.5991  0.4131  0.6961  0.8983     NaN     NaN  0.8654   \n",
       "11/18     NaN  0.6434  0.5946  0.4118  0.6755     NaN     NaN  0.7080  0.9036   \n",
       "11/19     NaN  0.6547  0.5950  0.4153  0.6891     NaN  0.5370  0.7008  0.8871   \n",
       "11/20  0.5170  0.6386  0.5830  0.4175     NaN  0.9005  0.5548  0.7132  0.8740   \n",
       "11/21  0.5160  0.6480  0.5881     NaN     NaN  0.9036  0.5524  0.7219  0.8740   \n",
       "\n",
       "         2005  ...     2009    2010    2011    2012    2013    2014    2015  \\\n",
       "Date           ...                                                            \n",
       "11/17  1.2833  ...   1.2751  2.0884  2.1170  2.5442     NaN     NaN  2.0357   \n",
       "11/18  1.2696  ...   1.2443  2.0928  2.1609  2.5185     NaN  2.6544  2.0454   \n",
       "11/19  1.3310  ...   1.2230  2.0510  2.1363     NaN  2.7481  2.6356  2.0410   \n",
       "11/20     NaN  ...   1.1209  2.0480     NaN     NaN  2.7057  2.6609  2.0390   \n",
       "11/21     NaN  ...   1.1712     NaN     NaN  2.5267  2.7385  2.7267  2.0708   \n",
       "\n",
       "         2016    2017  2018  \n",
       "Date                         \n",
       "11/17  1.2683  1.3737   NaN  \n",
       "11/18  1.2898  1.3743   NaN  \n",
       "11/19  1.3015     NaN   NaN  \n",
       "11/20  1.3066     NaN   NaN  \n",
       "11/21     NaN  1.4321   NaN  \n",
       "\n",
       "[5 rows x 23 columns]"
      ]
     },
     "execution_count": 122,
     "metadata": {},
     "output_type": "execute_result"
    }
   ],
   "source": [
    "front_month.head()"
   ]
  },
  {
   "cell_type": "code",
   "execution_count": 123,
   "metadata": {},
   "outputs": [
    {
     "data": {
      "text/html": [
       "<div>\n",
       "<style scoped>\n",
       "    .dataframe tbody tr th:only-of-type {\n",
       "        vertical-align: middle;\n",
       "    }\n",
       "\n",
       "    .dataframe tbody tr th {\n",
       "        vertical-align: top;\n",
       "    }\n",
       "\n",
       "    .dataframe thead th {\n",
       "        text-align: right;\n",
       "    }\n",
       "</style>\n",
       "<table border=\"1\" class=\"dataframe\">\n",
       "  <thead>\n",
       "    <tr style=\"text-align: right;\">\n",
       "      <th></th>\n",
       "      <th>1996</th>\n",
       "      <th>1997</th>\n",
       "      <th>1998</th>\n",
       "      <th>1999</th>\n",
       "      <th>2000</th>\n",
       "      <th>2001</th>\n",
       "      <th>2002</th>\n",
       "      <th>2003</th>\n",
       "      <th>2004</th>\n",
       "      <th>2005</th>\n",
       "      <th>...</th>\n",
       "      <th>2009</th>\n",
       "      <th>2010</th>\n",
       "      <th>2011</th>\n",
       "      <th>2012</th>\n",
       "      <th>2013</th>\n",
       "      <th>2014</th>\n",
       "      <th>2015</th>\n",
       "      <th>2016</th>\n",
       "      <th>2017</th>\n",
       "      <th>2018</th>\n",
       "    </tr>\n",
       "    <tr>\n",
       "      <th>Date</th>\n",
       "      <th></th>\n",
       "      <th></th>\n",
       "      <th></th>\n",
       "      <th></th>\n",
       "      <th></th>\n",
       "      <th></th>\n",
       "      <th></th>\n",
       "      <th></th>\n",
       "      <th></th>\n",
       "      <th></th>\n",
       "      <th></th>\n",
       "      <th></th>\n",
       "      <th></th>\n",
       "      <th></th>\n",
       "      <th></th>\n",
       "      <th></th>\n",
       "      <th></th>\n",
       "      <th></th>\n",
       "      <th></th>\n",
       "      <th></th>\n",
       "      <th></th>\n",
       "    </tr>\n",
       "  </thead>\n",
       "  <tbody>\n",
       "    <tr>\n",
       "      <th>11/17</th>\n",
       "      <td>0.5096</td>\n",
       "      <td>NaN</td>\n",
       "      <td>0.5758</td>\n",
       "      <td>0.3820</td>\n",
       "      <td>0.6604</td>\n",
       "      <td>0.9424</td>\n",
       "      <td>NaN</td>\n",
       "      <td>NaN</td>\n",
       "      <td>0.8420</td>\n",
       "      <td>1.3515</td>\n",
       "      <td>...</td>\n",
       "      <td>1.8360</td>\n",
       "      <td>2.1417</td>\n",
       "      <td>2.2878</td>\n",
       "      <td>3.0663</td>\n",
       "      <td>NaN</td>\n",
       "      <td>NaN</td>\n",
       "      <td>2.3557</td>\n",
       "      <td>1.4214</td>\n",
       "      <td>1.4776</td>\n",
       "      <td>1.9335</td>\n",
       "    </tr>\n",
       "    <tr>\n",
       "      <th>11/18</th>\n",
       "      <td>NaN</td>\n",
       "      <td>0.6628</td>\n",
       "      <td>0.5718</td>\n",
       "      <td>0.3808</td>\n",
       "      <td>0.6409</td>\n",
       "      <td>NaN</td>\n",
       "      <td>NaN</td>\n",
       "      <td>0.6965</td>\n",
       "      <td>0.8775</td>\n",
       "      <td>1.3590</td>\n",
       "      <td>...</td>\n",
       "      <td>1.8049</td>\n",
       "      <td>2.1339</td>\n",
       "      <td>2.3277</td>\n",
       "      <td>3.0224</td>\n",
       "      <td>NaN</td>\n",
       "      <td>2.9252</td>\n",
       "      <td>2.3397</td>\n",
       "      <td>1.4353</td>\n",
       "      <td>1.4894</td>\n",
       "      <td>NaN</td>\n",
       "    </tr>\n",
       "    <tr>\n",
       "      <th>11/19</th>\n",
       "      <td>NaN</td>\n",
       "      <td>0.6738</td>\n",
       "      <td>0.5672</td>\n",
       "      <td>0.3799</td>\n",
       "      <td>0.6532</td>\n",
       "      <td>NaN</td>\n",
       "      <td>0.5337</td>\n",
       "      <td>0.6944</td>\n",
       "      <td>0.8630</td>\n",
       "      <td>1.4075</td>\n",
       "      <td>...</td>\n",
       "      <td>1.8017</td>\n",
       "      <td>2.0846</td>\n",
       "      <td>2.3037</td>\n",
       "      <td>NaN</td>\n",
       "      <td>3.0706</td>\n",
       "      <td>2.9052</td>\n",
       "      <td>2.3169</td>\n",
       "      <td>1.4325</td>\n",
       "      <td>NaN</td>\n",
       "      <td>NaN</td>\n",
       "    </tr>\n",
       "    <tr>\n",
       "      <th>11/20</th>\n",
       "      <td>0.5074</td>\n",
       "      <td>0.6593</td>\n",
       "      <td>0.5589</td>\n",
       "      <td>0.3817</td>\n",
       "      <td>NaN</td>\n",
       "      <td>0.9521</td>\n",
       "      <td>0.5477</td>\n",
       "      <td>0.7087</td>\n",
       "      <td>0.8535</td>\n",
       "      <td>NaN</td>\n",
       "      <td>...</td>\n",
       "      <td>1.7130</td>\n",
       "      <td>2.0657</td>\n",
       "      <td>NaN</td>\n",
       "      <td>NaN</td>\n",
       "      <td>3.0375</td>\n",
       "      <td>2.9449</td>\n",
       "      <td>2.3391</td>\n",
       "      <td>1.4358</td>\n",
       "      <td>NaN</td>\n",
       "      <td>1.9204</td>\n",
       "    </tr>\n",
       "    <tr>\n",
       "      <th>11/21</th>\n",
       "      <td>0.5055</td>\n",
       "      <td>0.6746</td>\n",
       "      <td>0.5606</td>\n",
       "      <td>NaN</td>\n",
       "      <td>NaN</td>\n",
       "      <td>0.9555</td>\n",
       "      <td>0.5445</td>\n",
       "      <td>0.7124</td>\n",
       "      <td>0.8530</td>\n",
       "      <td>NaN</td>\n",
       "      <td>...</td>\n",
       "      <td>1.7346</td>\n",
       "      <td>NaN</td>\n",
       "      <td>NaN</td>\n",
       "      <td>2.9949</td>\n",
       "      <td>3.0675</td>\n",
       "      <td>2.9955</td>\n",
       "      <td>2.3623</td>\n",
       "      <td>NaN</td>\n",
       "      <td>1.5574</td>\n",
       "      <td>1.9250</td>\n",
       "    </tr>\n",
       "  </tbody>\n",
       "</table>\n",
       "<p>5 rows × 23 columns</p>\n",
       "</div>"
      ],
      "text/plain": [
       "         1996    1997    1998    1999    2000    2001    2002    2003    2004  \\\n",
       "Date                                                                            \n",
       "11/17  0.5096     NaN  0.5758  0.3820  0.6604  0.9424     NaN     NaN  0.8420   \n",
       "11/18     NaN  0.6628  0.5718  0.3808  0.6409     NaN     NaN  0.6965  0.8775   \n",
       "11/19     NaN  0.6738  0.5672  0.3799  0.6532     NaN  0.5337  0.6944  0.8630   \n",
       "11/20  0.5074  0.6593  0.5589  0.3817     NaN  0.9521  0.5477  0.7087  0.8535   \n",
       "11/21  0.5055  0.6746  0.5606     NaN     NaN  0.9555  0.5445  0.7124  0.8530   \n",
       "\n",
       "         2005   ...      2009    2010    2011    2012    2013    2014    2015  \\\n",
       "Date            ...                                                             \n",
       "11/17  1.3515   ...    1.8360  2.1417  2.2878  3.0663     NaN     NaN  2.3557   \n",
       "11/18  1.3590   ...    1.8049  2.1339  2.3277  3.0224     NaN  2.9252  2.3397   \n",
       "11/19  1.4075   ...    1.8017  2.0846  2.3037     NaN  3.0706  2.9052  2.3169   \n",
       "11/20     NaN   ...    1.7130  2.0657     NaN     NaN  3.0375  2.9449  2.3391   \n",
       "11/21     NaN   ...    1.7346     NaN     NaN  2.9949  3.0675  2.9955  2.3623   \n",
       "\n",
       "         2016    2017    2018  \n",
       "Date                           \n",
       "11/17  1.4214  1.4776  1.9335  \n",
       "11/18  1.4353  1.4894     NaN  \n",
       "11/19  1.4325     NaN     NaN  \n",
       "11/20  1.4358     NaN  1.9204  \n",
       "11/21     NaN  1.5574  1.9250  \n",
       "\n",
       "[5 rows x 23 columns]"
      ]
     },
     "execution_count": 123,
     "metadata": {},
     "output_type": "execute_result"
    }
   ],
   "source": [
    "back_month.head()"
   ]
  },
  {
   "cell_type": "code",
   "execution_count": 124,
   "metadata": {},
   "outputs": [
    {
     "name": "stdout",
     "output_type": "stream",
     "text": [
      "Please indicate if this is a 1) Crack or 2) Spread - please input integer 1 or 2: 2\n"
     ]
    }
   ],
   "source": [
    "Spread_Combi=create_sprd(front_month, back_month)"
   ]
  },
  {
   "cell_type": "code",
   "execution_count": 125,
   "metadata": {
    "collapsed": true
   },
   "outputs": [],
   "source": [
    "Spread_Combi.dropna(axis=0,how='all',inplace=True) # drop rows with all NAs"
   ]
  },
  {
   "cell_type": "code",
   "execution_count": 126,
   "metadata": {
    "collapsed": true
   },
   "outputs": [],
   "source": [
    "Spread_Combi.dropna(axis=1,how='all',inplace=True)# drop columns with all NAs"
   ]
  },
  {
   "cell_type": "code",
   "execution_count": 127,
   "metadata": {},
   "outputs": [
    {
     "name": "stdout",
     "output_type": "stream",
     "text": [
      "Please input 'y' if position is long and 'n' if position is short: y\n",
      "PnL will be calculated basis 1kb lot size for standardization purposes.\n"
     ]
    }
   ],
   "source": [
    "position=pos()\n",
    "print 'PnL will be calculated basis 1kb lot size for standardization purposes.'"
   ]
  },
  {
   "cell_type": "code",
   "execution_count": 128,
   "metadata": {},
   "outputs": [],
   "source": [
    "zf=z_factor(product1, product2)"
   ]
  },
  {
   "cell_type": "code",
   "execution_count": 129,
   "metadata": {},
   "outputs": [],
   "source": [
    "#PnL Series\n",
    "pnl_series=(Spread_Combi.iloc[-1]-Spread_Combi.iloc[0])*zf[0]*zf[1]*position"
   ]
  },
  {
   "cell_type": "code",
   "execution_count": 130,
   "metadata": {},
   "outputs": [],
   "source": [
    "#Win %\n",
    "Win_Percent=float(pnl_series[pnl_series>0].count())/float(pnl_series.count())*100"
   ]
  },
  {
   "cell_type": "code",
   "execution_count": 131,
   "metadata": {},
   "outputs": [],
   "source": [
    "#Largest Drawdown - use max and min\n",
    "max_series=Spread_Combi.max()\n",
    "min_series=Spread_Combi.min()\n",
    "if position==1:\n",
    "    max_drawdown=(min_series-Spread_Combi.iloc[0])*position*zf[0]*zf[1]\n",
    "else:\n",
    "    max_drawdown=(max_series-Spread_Combi.iloc[0])*position*zf[0]*zf[1]"
   ]
  },
  {
   "cell_type": "code",
   "execution_count": 132,
   "metadata": {},
   "outputs": [],
   "source": [
    "#% return - calculate using last value vs first value - similar to pnl calc\n",
    "percent_return=((Spread_Combi.iloc[-1]-Spread_Combi.iloc[0])/(Spread_Combi.iloc[0]))"
   ]
  },
  {
   "cell_type": "code",
   "execution_count": 133,
   "metadata": {},
   "outputs": [
    {
     "data": {
      "text/plain": [
       "1996     -306.6\n",
       "1997     1205.4\n",
       "1998      865.2\n",
       "1999      -67.2\n",
       "2000     -646.8\n",
       "2001     1348.2\n",
       "2002     1974.0\n",
       "2003      697.2\n",
       "2004      399.0\n",
       "2005     1302.0\n",
       "2006     7182.0\n",
       "2007     3801.0\n",
       "2008     1003.8\n",
       "2009     8950.2\n",
       "2010      126.0\n",
       "2011     1915.2\n",
       "2012    10361.4\n",
       "2013     4246.2\n",
       "2014      357.0\n",
       "2015      222.6\n",
       "2016    12700.8\n",
       "2017     2247.0\n",
       "dtype: float64"
      ]
     },
     "execution_count": 133,
     "metadata": {},
     "output_type": "execute_result"
    }
   ],
   "source": [
    "pnl_series"
   ]
  },
  {
   "cell_type": "code",
   "execution_count": 134,
   "metadata": {},
   "outputs": [
    {
     "data": {
      "text/plain": [
       "1996    -0.598361\n",
       "1997    -1.479381\n",
       "1998     0.884120\n",
       "1999    -0.051447\n",
       "2000    -0.431373\n",
       "2001    -0.727891\n",
       "2002    14.242424\n",
       "2003     1.443478\n",
       "2004     0.405983\n",
       "2005    -0.454545\n",
       "2006    -0.839470\n",
       "2007    -0.723421\n",
       "2008    -0.157133\n",
       "2009    -0.379925\n",
       "2010    -0.056285\n",
       "2011    -0.266979\n",
       "2012    -0.472515\n",
       "2013    -0.313488\n",
       "2014    -0.031388\n",
       "2015    -0.016563\n",
       "2016    -1.975180\n",
       "2017    -0.514918\n",
       "dtype: float64"
      ]
     },
     "execution_count": 134,
     "metadata": {},
     "output_type": "execute_result"
    }
   ],
   "source": [
    "percent_return"
   ]
  },
  {
   "cell_type": "code",
   "execution_count": 135,
   "metadata": {},
   "outputs": [
    {
     "data": {
      "text/plain": [
       "1996    -814.8\n",
       "1997    -302.4\n",
       "1998     -21.0\n",
       "1999    -378.0\n",
       "2000    -646.8\n",
       "2001   -2062.2\n",
       "2002       0.0\n",
       "2003    -294.0\n",
       "2004   -1092.0\n",
       "2005   -3145.8\n",
       "2006    -302.4\n",
       "2007   -1344.0\n",
       "2008   -2133.6\n",
       "2009   -1310.4\n",
       "2010   -1323.0\n",
       "2011    -378.0\n",
       "2012       0.0\n",
       "2013    -550.2\n",
       "2014   -2448.6\n",
       "2015    -205.8\n",
       "2016       0.0\n",
       "2017    -898.8\n",
       "dtype: float64"
      ]
     },
     "execution_count": 135,
     "metadata": {},
     "output_type": "execute_result"
    }
   ],
   "source": [
    "max_drawdown"
   ]
  },
  {
   "cell_type": "code",
   "execution_count": 136,
   "metadata": {},
   "outputs": [
    {
     "name": "stdout",
     "output_type": "stream",
     "text": [
      "the win percentage is 86.36 percent\n"
     ]
    }
   ],
   "source": [
    "print 'the win percentage is %.2f percent' %Win_Percent"
   ]
  },
  {
   "cell_type": "code",
   "execution_count": 137,
   "metadata": {},
   "outputs": [
    {
     "data": {
      "text/plain": [
       "u'C:\\\\Users\\\\boonsin.teo\\\\Documents'"
      ]
     },
     "execution_count": 137,
     "metadata": {},
     "output_type": "execute_result"
    }
   ],
   "source": [
    "#check directory\n",
    "pwd"
   ]
  },
  {
   "cell_type": "code",
   "execution_count": null,
   "metadata": {
    "collapsed": true
   },
   "outputs": [],
   "source": []
  }
 ],
 "metadata": {
  "kernelspec": {
   "display_name": "Python 2",
   "language": "python",
   "name": "python2"
  },
  "language_info": {
   "codemirror_mode": {
    "name": "ipython",
    "version": 2
   },
   "file_extension": ".py",
   "mimetype": "text/x-python",
   "name": "python",
   "nbconvert_exporter": "python",
   "pygments_lexer": "ipython2",
   "version": "2.7.13"
  }
 },
 "nbformat": 4,
 "nbformat_minor": 2
}
