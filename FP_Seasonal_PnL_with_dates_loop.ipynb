{
 "cells": [
  {
   "cell_type": "code",
   "execution_count": 1,
   "metadata": {},
   "outputs": [
    {
     "name": "stdout",
     "output_type": "stream",
     "text": [
      "Please input the number of the product you want to see the seasonals: 1) Brent 2) Gasoil 3) HO 4) RBOB 5) WTI: 1\n",
      "Please input the month of the contract which you wish to evaluate in numbers from 1-12: 3\n"
     ]
    }
   ],
   "source": [
    "import numpy as np\n",
    "import pandas as pd\n",
    "import os\n",
    "%matplotlib inline\n",
    "\n",
    "#makes the file too heavy - comment out first\n",
    "#from plotly import __version__\n",
    "#import cufflinks as cf\n",
    "#from plotly.offline import download_plotlyjs,init_notebook_mode,plot,iplot\n",
    "#init_notebook_mode(connected=True)\n",
    "#cf.go_offline()\n",
    "\n",
    "\n",
    "#user specify instrument and contract month\n",
    "\n",
    "product=''\n",
    "month=''\n",
    "\n",
    "while True:\n",
    "    \n",
    "    inst=int(raw_input('Please input the number of the product you want to see the seasonals: 1) Brent 2) Gasoil 3) HO 4) RBOB 5) WTI: '))\n",
    "    \n",
    "    if inst==1:\n",
    "        product='B'\n",
    "        break\n",
    "    elif inst==2:\n",
    "        product='G'\n",
    "        break   \n",
    "    elif inst==3:\n",
    "        product='HO'\n",
    "        break      \n",
    "    elif inst==4:\n",
    "        product='RB'\n",
    "        break       \n",
    "    elif inst==5:\n",
    "        product='CL'\n",
    "        break       \n",
    "    else:\n",
    "        print 'You did not input a correct number. Please try again.'\n",
    "\n",
    "while True:\n",
    "    \n",
    "    Mth=int(raw_input('Please input the month of the contract which you wish to evaluate in numbers from 1-12: '))\n",
    "    \n",
    "    if Mth==1:\n",
    "        month='Jan'\n",
    "        break\n",
    "    elif Mth==2:\n",
    "        month='Feb'\n",
    "        break   \n",
    "    elif Mth==3:\n",
    "        month='Mar'\n",
    "        break   \n",
    "    elif Mth==4:\n",
    "        month='Apr'\n",
    "        break   \n",
    "    elif Mth==5:\n",
    "        month='May'\n",
    "        break          \n",
    "    elif Mth==6:\n",
    "        month='Jun'\n",
    "        break   \n",
    "    elif Mth==7:\n",
    "        month='Jul'\n",
    "        break   \n",
    "    elif Mth==8:\n",
    "        month='Aug'\n",
    "        break   \n",
    "    elif Mth==9:\n",
    "        month='Sep'\n",
    "        break   \n",
    "    elif Mth==10:\n",
    "        month='Oct'\n",
    "        break   \n",
    "    elif Mth==11:\n",
    "        month='Nov'\n",
    "        break   \n",
    "    elif Mth==12:\n",
    "        month='Dec'\n",
    "        break \n",
    "    else:\n",
    "        print 'You did not input a correct number. Please try again.'\n",
    "\n",
    "            \n",
    "\n"
   ]
  },
  {
   "cell_type": "code",
   "execution_count": 2,
   "metadata": {},
   "outputs": [
    {
     "name": "stdout",
     "output_type": "stream",
     "text": [
      "C:\\Users\\boonsin.teo\\Documents\\Quandl\n"
     ]
    }
   ],
   "source": [
    "cd Quandl"
   ]
  },
  {
   "cell_type": "code",
   "execution_count": 3,
   "metadata": {},
   "outputs": [
    {
     "name": "stdout",
     "output_type": "stream",
     "text": [
      "C:\\Users\\boonsin.teo\\Documents\\Quandl\\B\n"
     ]
    }
   ],
   "source": [
    "cd $product"
   ]
  },
  {
   "cell_type": "code",
   "execution_count": 4,
   "metadata": {},
   "outputs": [
    {
     "name": "stdout",
     "output_type": "stream",
     "text": [
      "C:\\Users\\boonsin.teo\\Documents\\Quandl\\B\\Mar\n"
     ]
    }
   ],
   "source": [
    "cd $month"
   ]
  },
  {
   "cell_type": "code",
   "execution_count": 5,
   "metadata": {},
   "outputs": [
    {
     "name": "stdout",
     "output_type": "stream",
     "text": [
      "Please indicate the number of days to loop forward/backward on start date: 2\n",
      "Please indicate the number of days to loop forward/backward on end date: 2\n",
      "Please input start mth of seasonal period in MM format: 01\n",
      "Please input start day of seasonal period in DD format: 02\n",
      "Please input 1 if seasonal period start on same year as contract year and 0 if not: 1\n",
      "Please input end mth of seasonal period in MM format: 01\n",
      "Please input end day of seasonal period in DD format: 08\n",
      "Please input 1 if seasonal period ends on same year as contract year and 0 if not: 1\n",
      "Please input 'y' if position is long and 'n' if position is short: y\n",
      "PnL will be calculated basis 1kb lot size for standardization purposes.\n"
     ]
    }
   ],
   "source": [
    "#create two lists to store the start dates and end dates - later to rename the multi-index table\n",
    "sd_list=[]\n",
    "ed_list=[]\n",
    "\n",
    "#indicate the days forward/backward to loop\n",
    "days_to_loop_start=int(raw_input('Please indicate the number of days to loop forward/backward on start date: '))\n",
    "days_to_loop_end=int(raw_input('Please indicate the number of days to loop forward/backward on end date: '))\n",
    "\n",
    "#used to loop - starting value\n",
    "loop_start=-days_to_loop_start\n",
    "loop_end=-days_to_loop_end\n",
    "\n",
    "#indicate evaluation dates\n",
    "\n",
    "start_mth=raw_input('Please input start mth of seasonal period in MM format: ')\n",
    "start_day=raw_input('Please input start day of seasonal period in DD format: ')\n",
    "\n",
    "i=int(raw_input('Please input 1 if seasonal period start on same year as contract year and 0 if not: '))\n",
    "            \n",
    "end_mth=raw_input('Please input end mth of seasonal period in MM format: ')\n",
    "end_day=raw_input('Please input end day of seasonal period in DD format: ')\n",
    "\n",
    "j=int(raw_input('Please input 1 if seasonal period ends on same year as contract year and 0 if not: '))\n",
    "\n",
    "pos=1\n",
    "\n",
    "while True:\n",
    "\n",
    "    a=raw_input(\"Please input 'y' if position is long and 'n' if position is short: \").lower()\n",
    "    \n",
    "    if a=='y':\n",
    "        break\n",
    "    if a=='n':\n",
    "        pos=pos*(-1)\n",
    "        break\n",
    "    else:\n",
    "        print \"Please input either 'y' or 'n' for position\"\n",
    "\n",
    "print 'PnL will be calculated basis 1kb lot size for standardization purposes.'\n",
    "\n",
    "\n",
    "outside=[a for a in range(loop_start,-loop_start+1)]\n",
    "len_outside=len(outside)\n",
    "outside=outside*len_outside\n",
    "outside.sort()\n",
    "inside=[a for a in range(loop_end,-loop_end+1)]\n",
    "inside=inside*len_outside\n",
    "hier_index=list(zip(outside, inside))\n",
    "hier_index=pd.MultiIndex.from_tuples(hier_index)\n",
    "\n",
    "years_list=[]\n",
    "\n",
    "path = os.getcwd()\n",
    "listing = os.listdir(path)\n",
    "\n",
    "for infile in listing: # get list of all years to build dataframe\n",
    "    \n",
    "    rd_file=pd.read_excel(infile) #read each file into panda dataframe\n",
    "    yr_str=infile[-8:-4] # get the contract year\n",
    "    years_list.append(yr_str)\n",
    "\n",
    "Seasonal_Combi=pd.DataFrame(np.random.randn(len(inside),len(years_list)),hier_index,years_list) \n",
    "#Multi index dataframe created. now to replace the values\n",
    "\n",
    "first_index=0\n",
    "second_index=0\n",
    "\n",
    "while first_index<=days_to_loop_start*2: # loop for start dates\n",
    "    second_index=0\n",
    "    loop_end=-days_to_loop_end\n",
    "    \n",
    "    while second_index<=days_to_loop_end*2: #loop for end dates\n",
    "        \n",
    " \n",
    "        for infile in listing:\n",
    "\n",
    "            temp=pd.read_excel(infile) #read each file into panda dataframe\n",
    "\n",
    "            contract_yr_str=infile[-8:-4] # get the contract year\n",
    "\n",
    "            seasonal_year=int(contract_yr_str)-1 # get the seasonal year to create the index - prev year\n",
    "            seasonal_year=str(seasonal_year) # convert to string\n",
    "\n",
    "            start_date=str(int(seasonal_year)+i)+'-'+start_mth+'-'+start_day # create start date\n",
    "            end_date=str(int(seasonal_year)+j)+'-'+end_mth+'-'+end_day # create end date\n",
    "\n",
    "            dates=pd.date_range(start_date, end_date) # range of dates for date axis\n",
    "\n",
    "            start_date_new=dates[0]+loop_start # loop first date\n",
    "            end_date_new=dates[-1]+loop_end # loop end date\n",
    "\n",
    "\n",
    "            #start date cannot be greater than end date\n",
    "            if start_date_new<dates[-1]:\n",
    "\n",
    "                #create a new_dates dataframe - or else dates will be changed to an array at second line\n",
    "                new_dates=pd.date_range(start_date_new,end_date_new)\n",
    "\n",
    "                new_dates=new_dates.strftime('%Y-%m-%d') #make sure no left out dates\n",
    "\n",
    "                sample_data=np.arange(0,len(new_dates)) #just sample numbers to create dataframe\n",
    "\n",
    "                dates_dataframe=pd.DataFrame({'Date':new_dates,'data':sample_data}) # create dates dataframe\n",
    "                dates_dataframe=dates_dataframe.set_index('Date') # set index as Date to facilitate joining\n",
    "\n",
    "                temp=temp.set_index('Date') # set index as Date to facilitate joining\n",
    "\n",
    "                temp=dates_dataframe.join(temp) # join dataframes together on Date\n",
    "\n",
    "\n",
    "                temp.reset_index(inplace=True)\n",
    "\n",
    "                temp=temp[temp['Date']>=start_date_new] # filter for start date\n",
    "\n",
    "                temp=temp[temp['Date']<=end_date_new] # filter for end date\n",
    "\n",
    "                temp=temp.set_index('Date') # creating new index as Date\n",
    "\n",
    "                temp=pd.DataFrame(temp['Settle'],columns=['Settle']) \n",
    "\n",
    "\n",
    "                #fillna values with values of forward value\n",
    "                temp.fillna(method='bfill',inplace=True)\n",
    "                #fillna values with values of back value\n",
    "                temp.fillna(method='ffill',inplace=True)\n",
    "\n",
    "                #PnL - use last value vs first value\n",
    "\n",
    "                z=1\n",
    "                factor=1000\n",
    "                if product =='RB':\n",
    "                    z=42\n",
    "                elif product=='HO':\n",
    "                    z=42\n",
    "                elif product=='G':\n",
    "                    factor=100\n",
    "                else:\n",
    "                    z=1\n",
    "                    factor=1000\n",
    "\n",
    "                pnl=(temp.iloc[-1]-temp.iloc[0])*z*pos*factor \n",
    "\n",
    "                #put inside created table\n",
    "                Seasonal_Combi.loc[loop_start].loc[loop_end][str(int(seasonal_year)+i)]=pnl\n",
    "\n",
    "\n",
    "            else:\n",
    "                print 'Start date cannot be greater than end date. Loop dates end one day before end date.'\n",
    "                break\n",
    "            \n",
    "        loop_end+=1\n",
    "        second_index+=1\n",
    "        ed_list.append(end_date_new.strftime('%m-%d'))\n",
    "            \n",
    "    loop_start+=1\n",
    "    first_index+=1 #looping the first index\n",
    "    sd_list.append(start_date_new.strftime('%m-%d'))\n",
    "\n",
    "Seasonal_Combi.index.names=['Start', 'End']\n",
    "Seasonal_Combi.index.set_levels([sd_list,ed_list],inplace=True)\n",
    "    "
   ]
  },
  {
   "cell_type": "code",
   "execution_count": 6,
   "metadata": {},
   "outputs": [
    {
     "name": "stdout",
     "output_type": "stream",
     "text": [
      "C:\\Users\\boonsin.teo\\Documents\\Quandl\\B\n"
     ]
    }
   ],
   "source": [
    "cd .."
   ]
  },
  {
   "cell_type": "code",
   "execution_count": 7,
   "metadata": {},
   "outputs": [
    {
     "name": "stdout",
     "output_type": "stream",
     "text": [
      "C:\\Users\\boonsin.teo\\Documents\\Quandl\n"
     ]
    }
   ],
   "source": [
    "cd .."
   ]
  },
  {
   "cell_type": "code",
   "execution_count": 8,
   "metadata": {},
   "outputs": [
    {
     "name": "stdout",
     "output_type": "stream",
     "text": [
      "C:\\Users\\boonsin.teo\\Documents\n"
     ]
    }
   ],
   "source": [
    "cd .."
   ]
  },
  {
   "cell_type": "code",
   "execution_count": 9,
   "metadata": {},
   "outputs": [
    {
     "data": {
      "text/html": [
       "<div>\n",
       "<style scoped>\n",
       "    .dataframe tbody tr th:only-of-type {\n",
       "        vertical-align: middle;\n",
       "    }\n",
       "\n",
       "    .dataframe tbody tr th {\n",
       "        vertical-align: top;\n",
       "    }\n",
       "\n",
       "    .dataframe thead th {\n",
       "        text-align: right;\n",
       "    }\n",
       "</style>\n",
       "<table border=\"1\" class=\"dataframe\">\n",
       "  <thead>\n",
       "    <tr style=\"text-align: right;\">\n",
       "      <th></th>\n",
       "      <th></th>\n",
       "      <th>1996</th>\n",
       "      <th>1997</th>\n",
       "      <th>1998</th>\n",
       "      <th>1999</th>\n",
       "      <th>2000</th>\n",
       "      <th>2001</th>\n",
       "      <th>2002</th>\n",
       "      <th>2003</th>\n",
       "      <th>2004</th>\n",
       "      <th>2005</th>\n",
       "      <th>...</th>\n",
       "      <th>2009</th>\n",
       "      <th>2010</th>\n",
       "      <th>2011</th>\n",
       "      <th>2012</th>\n",
       "      <th>2013</th>\n",
       "      <th>2014</th>\n",
       "      <th>2015</th>\n",
       "      <th>2016</th>\n",
       "      <th>2017</th>\n",
       "      <th>2018</th>\n",
       "    </tr>\n",
       "    <tr>\n",
       "      <th>Start</th>\n",
       "      <th>End</th>\n",
       "      <th></th>\n",
       "      <th></th>\n",
       "      <th></th>\n",
       "      <th></th>\n",
       "      <th></th>\n",
       "      <th></th>\n",
       "      <th></th>\n",
       "      <th></th>\n",
       "      <th></th>\n",
       "      <th></th>\n",
       "      <th></th>\n",
       "      <th></th>\n",
       "      <th></th>\n",
       "      <th></th>\n",
       "      <th></th>\n",
       "      <th></th>\n",
       "      <th></th>\n",
       "      <th></th>\n",
       "      <th></th>\n",
       "      <th></th>\n",
       "      <th></th>\n",
       "    </tr>\n",
       "  </thead>\n",
       "  <tbody>\n",
       "    <tr>\n",
       "      <th rowspan=\"5\" valign=\"top\">12-31</th>\n",
       "      <th>01-06</th>\n",
       "      <td>400.0</td>\n",
       "      <td>850.0</td>\n",
       "      <td>-880.0</td>\n",
       "      <td>940.0</td>\n",
       "      <td>-620.0</td>\n",
       "      <td>730.0</td>\n",
       "      <td>1860.0</td>\n",
       "      <td>1130.0</td>\n",
       "      <td>730.0</td>\n",
       "      <td>1980.0</td>\n",
       "      <td>...</td>\n",
       "      <td>4450.0</td>\n",
       "      <td>3840.0</td>\n",
       "      <td>-300.0</td>\n",
       "      <td>1280.0</td>\n",
       "      <td>210.0</td>\n",
       "      <td>-4110.0</td>\n",
       "      <td>-6080.0</td>\n",
       "      <td>-3040.0</td>\n",
       "      <td>280.0</td>\n",
       "      <td>1050.0</td>\n",
       "    </tr>\n",
       "    <tr>\n",
       "      <th>01-07</th>\n",
       "      <td>400.0</td>\n",
       "      <td>720.0</td>\n",
       "      <td>-1030.0</td>\n",
       "      <td>940.0</td>\n",
       "      <td>-1040.0</td>\n",
       "      <td>730.0</td>\n",
       "      <td>1630.0</td>\n",
       "      <td>580.0</td>\n",
       "      <td>620.0</td>\n",
       "      <td>2120.0</td>\n",
       "      <td>...</td>\n",
       "      <td>-150.0</td>\n",
       "      <td>3320.0</td>\n",
       "      <td>-1490.0</td>\n",
       "      <td>1280.0</td>\n",
       "      <td>530.0</td>\n",
       "      <td>-3540.0</td>\n",
       "      <td>-6040.0</td>\n",
       "      <td>-3580.0</td>\n",
       "      <td>280.0</td>\n",
       "      <td>1050.0</td>\n",
       "    </tr>\n",
       "    <tr>\n",
       "      <th>01-08</th>\n",
       "      <td>500.0</td>\n",
       "      <td>950.0</td>\n",
       "      <td>-910.0</td>\n",
       "      <td>1010.0</td>\n",
       "      <td>-1040.0</td>\n",
       "      <td>-130.0</td>\n",
       "      <td>1420.0</td>\n",
       "      <td>160.0</td>\n",
       "      <td>840.0</td>\n",
       "      <td>2120.0</td>\n",
       "      <td>...</td>\n",
       "      <td>-1270.0</td>\n",
       "      <td>3290.0</td>\n",
       "      <td>-1490.0</td>\n",
       "      <td>1280.0</td>\n",
       "      <td>1130.0</td>\n",
       "      <td>-3820.0</td>\n",
       "      <td>-6180.0</td>\n",
       "      <td>-3740.0</td>\n",
       "      <td>280.0</td>\n",
       "      <td>1210.0</td>\n",
       "    </tr>\n",
       "    <tr>\n",
       "      <th>01-09</th>\n",
       "      <td>140.0</td>\n",
       "      <td>760.0</td>\n",
       "      <td>-1140.0</td>\n",
       "      <td>1010.0</td>\n",
       "      <td>-1040.0</td>\n",
       "      <td>240.0</td>\n",
       "      <td>600.0</td>\n",
       "      <td>1150.0</td>\n",
       "      <td>1060.0</td>\n",
       "      <td>2120.0</td>\n",
       "      <td>...</td>\n",
       "      <td>-1580.0</td>\n",
       "      <td>3290.0</td>\n",
       "      <td>-1490.0</td>\n",
       "      <td>790.0</td>\n",
       "      <td>980.0</td>\n",
       "      <td>-4570.0</td>\n",
       "      <td>-6910.0</td>\n",
       "      <td>-3740.0</td>\n",
       "      <td>-1880.0</td>\n",
       "      <td>2250.0</td>\n",
       "    </tr>\n",
       "    <tr>\n",
       "      <th>01-10</th>\n",
       "      <td>-30.0</td>\n",
       "      <td>600.0</td>\n",
       "      <td>-1140.0</td>\n",
       "      <td>1010.0</td>\n",
       "      <td>-520.0</td>\n",
       "      <td>860.0</td>\n",
       "      <td>770.0</td>\n",
       "      <td>940.0</td>\n",
       "      <td>1060.0</td>\n",
       "      <td>1790.0</td>\n",
       "      <td>...</td>\n",
       "      <td>-1580.0</td>\n",
       "      <td>3290.0</td>\n",
       "      <td>820.0</td>\n",
       "      <td>1430.0</td>\n",
       "      <td>1230.0</td>\n",
       "      <td>-3920.0</td>\n",
       "      <td>-6910.0</td>\n",
       "      <td>-3740.0</td>\n",
       "      <td>-3180.0</td>\n",
       "      <td>2630.0</td>\n",
       "    </tr>\n",
       "  </tbody>\n",
       "</table>\n",
       "<p>5 rows × 23 columns</p>\n",
       "</div>"
      ],
      "text/plain": [
       "              1996   1997    1998    1999    2000   2001    2002    2003  \\\n",
       "Start End                                                                  \n",
       "12-31 01-06  400.0  850.0  -880.0   940.0  -620.0  730.0  1860.0  1130.0   \n",
       "      01-07  400.0  720.0 -1030.0   940.0 -1040.0  730.0  1630.0   580.0   \n",
       "      01-08  500.0  950.0  -910.0  1010.0 -1040.0 -130.0  1420.0   160.0   \n",
       "      01-09  140.0  760.0 -1140.0  1010.0 -1040.0  240.0   600.0  1150.0   \n",
       "      01-10  -30.0  600.0 -1140.0  1010.0  -520.0  860.0   770.0   940.0   \n",
       "\n",
       "               2004    2005   ...      2009    2010    2011    2012    2013  \\\n",
       "Start End                     ...                                             \n",
       "12-31 01-06   730.0  1980.0   ...    4450.0  3840.0  -300.0  1280.0   210.0   \n",
       "      01-07   620.0  2120.0   ...    -150.0  3320.0 -1490.0  1280.0   530.0   \n",
       "      01-08   840.0  2120.0   ...   -1270.0  3290.0 -1490.0  1280.0  1130.0   \n",
       "      01-09  1060.0  2120.0   ...   -1580.0  3290.0 -1490.0   790.0   980.0   \n",
       "      01-10  1060.0  1790.0   ...   -1580.0  3290.0   820.0  1430.0  1230.0   \n",
       "\n",
       "               2014    2015    2016    2017    2018  \n",
       "Start End                                            \n",
       "12-31 01-06 -4110.0 -6080.0 -3040.0   280.0  1050.0  \n",
       "      01-07 -3540.0 -6040.0 -3580.0   280.0  1050.0  \n",
       "      01-08 -3820.0 -6180.0 -3740.0   280.0  1210.0  \n",
       "      01-09 -4570.0 -6910.0 -3740.0 -1880.0  2250.0  \n",
       "      01-10 -3920.0 -6910.0 -3740.0 -3180.0  2630.0  \n",
       "\n",
       "[5 rows x 23 columns]"
      ]
     },
     "execution_count": 9,
     "metadata": {},
     "output_type": "execute_result"
    }
   ],
   "source": [
    "Seasonal_Combi.head()"
   ]
  },
  {
   "cell_type": "code",
   "execution_count": 71,
   "metadata": {},
   "outputs": [],
   "source": [
    "Win_Percent=(Seasonal_Combi[Seasonal_Combi>0].count(axis=1))/(Seasonal_Combi.count(axis=1))"
   ]
  },
  {
   "cell_type": "code",
   "execution_count": 78,
   "metadata": {},
   "outputs": [
    {
     "data": {
      "text/plain": [
       "Start  End  \n",
       "12-31  01-06    0.695652\n",
       "       01-07    0.652174\n",
       "01-02  01-06    0.608696\n",
       "12-31  01-08    0.608696\n",
       "       01-09    0.608696\n",
       "01-01  01-06    0.608696\n",
       "01-03  01-10    0.565217\n",
       "12-31  01-10    0.565217\n",
       "01-03  01-08    0.521739\n",
       "01-01  01-07    0.521739\n",
       "01-02  01-07    0.521739\n",
       "01-01  01-08    0.478261\n",
       "       01-09    0.478261\n",
       "       01-10    0.478261\n",
       "01-02  01-08    0.478261\n",
       "       01-09    0.478261\n",
       "       01-10    0.478261\n",
       "01-04  01-08    0.478261\n",
       "       01-09    0.434783\n",
       "01-03  01-06    0.434783\n",
       "       01-07    0.434783\n",
       "       01-09    0.391304\n",
       "01-04  01-06    0.391304\n",
       "       01-07    0.391304\n",
       "       01-10    0.391304\n",
       "dtype: float64"
      ]
     },
     "execution_count": 78,
     "metadata": {},
     "output_type": "execute_result"
    }
   ],
   "source": [
    "Win_Percent.sort_values(ascending=False)"
   ]
  },
  {
   "cell_type": "code",
   "execution_count": 79,
   "metadata": {},
   "outputs": [
    {
     "data": {
      "text/plain": [
       "u'C:\\\\Users\\\\boonsin.teo\\\\Documents'"
      ]
     },
     "execution_count": 79,
     "metadata": {},
     "output_type": "execute_result"
    }
   ],
   "source": [
    "pwd"
   ]
  },
  {
   "cell_type": "code",
   "execution_count": null,
   "metadata": {},
   "outputs": [],
   "source": []
  },
  {
   "cell_type": "code",
   "execution_count": null,
   "metadata": {},
   "outputs": [],
   "source": []
  },
  {
   "cell_type": "raw",
   "metadata": {},
   "source": []
  },
  {
   "cell_type": "code",
   "execution_count": null,
   "metadata": {},
   "outputs": [],
   "source": []
  },
  {
   "cell_type": "code",
   "execution_count": null,
   "metadata": {},
   "outputs": [],
   "source": []
  },
  {
   "cell_type": "code",
   "execution_count": null,
   "metadata": {
    "collapsed": true
   },
   "outputs": [],
   "source": []
  },
  {
   "cell_type": "code",
   "execution_count": null,
   "metadata": {
    "collapsed": true
   },
   "outputs": [],
   "source": []
  },
  {
   "cell_type": "code",
   "execution_count": null,
   "metadata": {
    "collapsed": true
   },
   "outputs": [],
   "source": []
  },
  {
   "cell_type": "code",
   "execution_count": null,
   "metadata": {
    "collapsed": true
   },
   "outputs": [],
   "source": []
  },
  {
   "cell_type": "code",
   "execution_count": null,
   "metadata": {
    "collapsed": true
   },
   "outputs": [],
   "source": []
  },
  {
   "cell_type": "code",
   "execution_count": null,
   "metadata": {
    "collapsed": true
   },
   "outputs": [],
   "source": []
  },
  {
   "cell_type": "code",
   "execution_count": null,
   "metadata": {
    "collapsed": true
   },
   "outputs": [],
   "source": []
  },
  {
   "cell_type": "code",
   "execution_count": null,
   "metadata": {
    "collapsed": true
   },
   "outputs": [],
   "source": []
  }
 ],
 "metadata": {
  "kernelspec": {
   "display_name": "Python 2",
   "language": "python",
   "name": "python2"
  },
  "language_info": {
   "codemirror_mode": {
    "name": "ipython",
    "version": 2
   },
   "file_extension": ".py",
   "mimetype": "text/x-python",
   "name": "python",
   "nbconvert_exporter": "python",
   "pygments_lexer": "ipython2",
   "version": "2.7.13"
  }
 },
 "nbformat": 4,
 "nbformat_minor": 2
}
