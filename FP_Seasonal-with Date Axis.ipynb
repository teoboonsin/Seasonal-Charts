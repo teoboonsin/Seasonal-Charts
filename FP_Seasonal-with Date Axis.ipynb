{
 "cells": [
  {
   "cell_type": "code",
   "execution_count": 61,
   "metadata": {},
   "outputs": [
    {
     "name": "stdout",
     "output_type": "stream",
     "text": [
      "Please input the number of the product you want to see the seasonals: 1) Brent 2) Gasoil 3) HO 4) RBOB 5) WTI: 3\n",
      "Please input the month of the contract which you wish to evaluate in numbers from 1-12: 3\n"
     ]
    }
   ],
   "source": [
    "import numpy as np\n",
    "import pandas as pd\n",
    "import os\n",
    "\n",
    "%matplotlib inline\n",
    "\n",
    "#user specify instrument and contract month\n",
    "\n",
    "product=''\n",
    "month=''\n",
    "\n",
    "while True:\n",
    "    inst=int(raw_input('Please input the number of the product you want to see the seasonals: 1) Brent 2) Gasoil 3) HO 4) RBOB 5) WTI: '))\n",
    "    \n",
    "    if inst==1:\n",
    "        product='Brent'\n",
    "        break\n",
    "    elif inst==2:\n",
    "        product='Gasoil'\n",
    "        break   \n",
    "    elif inst==3:\n",
    "        product='HO'\n",
    "        break      \n",
    "    elif inst==4:\n",
    "        product='RBOB'\n",
    "        break       \n",
    "    elif inst==5:\n",
    "        product='WTI'\n",
    "        break       \n",
    "    else:\n",
    "        print 'You did not input a correct number. Please try again.'\n",
    "\n",
    "while True:\n",
    "    Mth=int(raw_input('Please input the month of the contract which you wish to evaluate in numbers from 1-12: '))\n",
    "    \n",
    "    if Mth==1:\n",
    "        month='Jan'\n",
    "        break\n",
    "    elif Mth==2:\n",
    "        month='Feb'\n",
    "        break   \n",
    "    elif Mth==3:\n",
    "        month='Mar'\n",
    "        break   \n",
    "    elif Mth==4:\n",
    "        month='Apr'\n",
    "        break   \n",
    "    elif Mth==5:\n",
    "        month='May'\n",
    "        break          \n",
    "    elif Mth==6:\n",
    "        month='Jun'\n",
    "        break   \n",
    "    elif Mth==7:\n",
    "        month='Jul'\n",
    "        break   \n",
    "    elif Mth==8:\n",
    "        month='Aug'\n",
    "        break   \n",
    "    elif Mth==9:\n",
    "        month='Sep'\n",
    "        break   \n",
    "    elif Mth==10:\n",
    "        month='Oct'\n",
    "        break   \n",
    "    elif Mth==11:\n",
    "        month='Nov'\n",
    "        break   \n",
    "    elif Mth==12:\n",
    "        month='Dec'\n",
    "        break \n",
    "    else:\n",
    "        print 'You did not input a correct number. Please try again.'\n",
    "        "
   ]
  },
  {
   "cell_type": "code",
   "execution_count": 62,
   "metadata": {},
   "outputs": [
    {
     "name": "stdout",
     "output_type": "stream",
     "text": [
      "C:\\Users\\boonsin.teo\\Documents\\Quandl\n"
     ]
    }
   ],
   "source": [
    "cd Quandl"
   ]
  },
  {
   "cell_type": "code",
   "execution_count": 63,
   "metadata": {},
   "outputs": [
    {
     "name": "stdout",
     "output_type": "stream",
     "text": [
      "C:\\Users\\boonsin.teo\\Documents\\Quandl\\HO\n"
     ]
    }
   ],
   "source": [
    "cd $product"
   ]
  },
  {
   "cell_type": "code",
   "execution_count": 64,
   "metadata": {},
   "outputs": [
    {
     "name": "stdout",
     "output_type": "stream",
     "text": [
      "C:\\Users\\boonsin.teo\\Documents\\Quandl\\HO\\Mar\n"
     ]
    }
   ],
   "source": [
    "cd $month"
   ]
  },
  {
   "cell_type": "code",
   "execution_count": 65,
   "metadata": {},
   "outputs": [
    {
     "name": "stdout",
     "output_type": "stream",
     "text": [
      "Please input start mth of seasonal period in MM format: 03\n",
      "Please input start day of seasonal period in DD format: 01\n",
      "Please input 1 if seasonal period starts on same year as contract year and 0 if not: 0\n",
      "Please input end mth of seasonal period in MM format: 02\n",
      "Please input end day of seasonal period in DD format: 28\n",
      "Please input 1 if seasonal period ends on same year as contract year and 0 if not: 1\n"
     ]
    },
    {
     "data": {
      "text/plain": [
       "<matplotlib.legend.Legend at 0x903e470>"
      ]
     },
     "execution_count": 65,
     "metadata": {},
     "output_type": "execute_result"
    },
    {
     "data": {
      "image/png": "[encoded data removed]",
      "text/plain": [
       "<matplotlib.figure.Figure at 0x903e190>"
      ]
     },
     "metadata": {},
     "output_type": "display_data"
    }
   ],
   "source": [
    "\n",
    "count=0\n",
    "path = os.getcwd()\n",
    "\n",
    "start_mth=raw_input('Please input start mth of seasonal period in MM format: ')\n",
    "start_day=raw_input('Please input start day of seasonal period in DD format: ')\n",
    "i=int(raw_input('Please input 1 if seasonal period starts on same year as contract year and 0 if not: '))\n",
    "\n",
    "end_mth=raw_input('Please input end mth of seasonal period in MM format: ')\n",
    "end_day=raw_input('Please input end day of seasonal period in DD format: ')\n",
    "j=int(raw_input('Please input 1 if seasonal period ends on same year as contract year and 0 if not: '))            \n",
    "\n",
    "listing = os.listdir(path)\n",
    "for infile in listing:\n",
    "    temp=pd.read_excel(infile) #read each file into panda dataframe\n",
    "    \n",
    "    contract_yr_str=infile[-8:-4] # get the contract year\n",
    "    \n",
    "    seasonal_year=int(contract_yr_str)-1 # get the seasonal year to create the index - prev year\n",
    "    seasonal_year=str(seasonal_year) # convert to string\n",
    "    \n",
    "    start_date=str(int(seasonal_year)+i)+'-'+start_mth+'-'+start_day # create start date\n",
    "    end_date=str(int(seasonal_year)+j)+'-'+end_mth+'-'+end_day # create end date\n",
    "    \n",
    "    dates=pd.date_range(start_date, end_date) # range of dates for date axis\n",
    "    dates=dates.strftime('%Y-%m-%d') #make sure no left out dates\n",
    "    sample_data=np.arange(0,len(dates)) #just sample numbers to create dataframe\n",
    "    \n",
    "    dates_dataframe=pd.DataFrame({'Date':dates,'data':sample_data}) # create dates dataframe\n",
    "    dates_dataframe=dates_dataframe.set_index('Date') # set index as Date to facilitate joining\n",
    "    \n",
    "    temp=temp.set_index('Date') # set index as Date to facilitate joining\n",
    "    \n",
    "    temp=dates_dataframe.join(temp) # join dataframes together on Date\n",
    "   \n",
    "\n",
    "    temp.reset_index(inplace=True)\n",
    "    \n",
    "    temp=temp[temp['Date']>=start_date] # filter for start date\n",
    "\n",
    "    temp=temp[temp['Date']<=end_date] # filter for end date\n",
    " \n",
    "\n",
    "    temp=temp.set_index('Date') # creating new index as Date\n",
    "    \n",
    "    \n",
    "    temp=temp.reset_index() # putting date back out into col\n",
    "    temp['Date']=pd.to_datetime(temp['Date']).dt.strftime('%m/%d')\n",
    "    temp=temp.set_index('Date')\n",
    "    \n",
    "    upper=temp['Settle'].max() # get max value\n",
    "    lower=temp['Settle'].min() # get min value\n",
    "    \n",
    "    temp['SI']=((temp['Settle']-lower)/(upper-lower))*100 # create seasonal index column\n",
    "\n",
    "    temp=pd.DataFrame(temp['SI'],columns=['SI']) \n",
    "    \n",
    "\n",
    "    #combine into seasonal index table\n",
    "    \n",
    "    if count==0:\n",
    "        Seasonal_Combi=temp\n",
    "        seasonal_year=str(int(seasonal_year)+1)\n",
    "        Seasonal_Combi.columns=[seasonal_year]\n",
    "        \n",
    "        count+=1\n",
    "        \n",
    "    else:\n",
    "        \n",
    "        seasonal_year=str(int(seasonal_year)+1)\n",
    "        Seasonal_Combi[seasonal_year]=temp['SI']\n",
    "\n",
    "\n",
    "#remove columns that are all NA\n",
    "Seasonal_Combi.dropna(axis=1,how='all',inplace=True)\n",
    "\n",
    "#remove rows that are all NA\n",
    "Seasonal_Combi.dropna(axis=0,how='all',inplace=True)\n",
    "\n",
    "#fillna values with values of forward value\n",
    "Seasonal_Combi.fillna(method='bfill',inplace=True)\n",
    "#fillna values with values of back value\n",
    "Seasonal_Combi.fillna(method='ffill',inplace=True)\n",
    "\n",
    "      \n",
    "#row-wise average    \n",
    "Seasonal_Combi['SI_avg']=Seasonal_Combi.mean(axis=1)\n",
    "\n",
    "#normalize the seasonal index\n",
    "\n",
    "upper_sc=Seasonal_Combi['SI_avg'].max()\n",
    "lower_sc=Seasonal_Combi['SI_avg'].min()\n",
    "Seasonal_Combi['SI_avg_normalized']=((Seasonal_Combi['SI_avg']-lower_sc)/(upper_sc-lower_sc))*100\n",
    "#Seasonal_Combi['SI_avg_rolling']=Seasonal_Combi['SI_avg_normalized'].rolling(5).mean() #take a 5-day rolling average to smmooth this out\n",
    "\n",
    "#plot on line chart\n",
    "ax=Seasonal_Combi.plot.line(x=Seasonal_Combi.index, y='SI_avg_normalized',figsize=(20,5),xticks=[x for x in range(0,365,20)],title=month+\" \"+product)\n",
    "ax.set_xlabel('Date')\n",
    "ax.set_ylabel('Seasonal Index')\n",
    "ax.legend(loc=2)\n"
   ]
  },
  {
   "cell_type": "code",
   "execution_count": 66,
   "metadata": {},
   "outputs": [
    {
     "name": "stdout",
     "output_type": "stream",
     "text": [
      "C:\\Users\\boonsin.teo\\Documents\\Quandl\\HO\n"
     ]
    }
   ],
   "source": [
    "cd .."
   ]
  },
  {
   "cell_type": "code",
   "execution_count": 67,
   "metadata": {},
   "outputs": [
    {
     "name": "stdout",
     "output_type": "stream",
     "text": [
      "C:\\Users\\boonsin.teo\\Documents\\Quandl\n"
     ]
    }
   ],
   "source": [
    "cd .."
   ]
  },
  {
   "cell_type": "code",
   "execution_count": 68,
   "metadata": {},
   "outputs": [
    {
     "name": "stdout",
     "output_type": "stream",
     "text": [
      "C:\\Users\\boonsin.teo\\Documents\n"
     ]
    }
   ],
   "source": [
    "cd .."
   ]
  },
  {
   "cell_type": "code",
   "execution_count": null,
   "metadata": {},
   "outputs": [],
   "source": []
  },
  {
   "cell_type": "code",
   "execution_count": null,
   "metadata": {},
   "outputs": [],
   "source": []
  },
  {
   "cell_type": "code",
   "execution_count": null,
   "metadata": {
    "collapsed": true
   },
   "outputs": [],
   "source": []
  },
  {
   "cell_type": "code",
   "execution_count": null,
   "metadata": {
    "collapsed": true
   },
   "outputs": [],
   "source": []
  }
 ],
 "metadata": {
  "kernelspec": {
   "display_name": "Python 2",
   "language": "python",
   "name": "python2"
  },
  "language_info": {
   "codemirror_mode": {
    "name": "ipython",
    "version": 2
   },
   "file_extension": ".py",
   "mimetype": "text/x-python",
   "name": "python",
   "nbconvert_exporter": "python",
   "pygments_lexer": "ipython2",
   "version": "2.7.13"
  }
 },
 "nbformat": 4,
 "nbformat_minor": 2
}
