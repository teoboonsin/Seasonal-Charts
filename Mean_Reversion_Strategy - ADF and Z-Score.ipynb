{
 "cells": [
  {
   "cell_type": "code",
   "execution_count": 1442,
   "metadata": {},
   "outputs": [
    {
     "name": "stdout",
     "output_type": "stream",
     "text": [
      "Please input the number of the product you want to see the seasonals: 1) Brent 2) Gasoil 3) HO 4) RBOB 5) WTI: 3\n",
      "Please input the month of the contract which you wish to evaluate in numbers from 1-12: 7\n",
      "Please input the number of the product you want to see the seasonals: 1) Brent 2) Gasoil 3) HO 4) RBOB 5) WTI: 2\n",
      "Please input the month of the contract which you wish to evaluate in numbers from 1-12: 7\n"
     ]
    }
   ],
   "source": [
    "\n",
    "def z_factor(product1,product2):\n",
    "    z=1\n",
    "    y=1\n",
    "    factor=1000\n",
    "    if product1=='RB' and product2 =='RB':\n",
    "        z=42\n",
    "        y=42\n",
    "    elif product1=='HO' and product2 =='HO':\n",
    "        z=42\n",
    "        y=42\n",
    "    elif product1=='RB' and product2 =='HO':\n",
    "        z=42\n",
    "        y=42\n",
    "    elif product1=='HO' and product2 =='RB':\n",
    "        z=42\n",
    "        y=42\n",
    "    elif product1=='G' and product2 =='G':\n",
    "        factor=100\n",
    "    elif product1=='G' and product2 =='B':\n",
    "        z=(1/7.45)\n",
    "    elif product1==\"HO\" and product2=='G':\n",
    "        z=1\n",
    "        y=1\n",
    "    \n",
    "    else:\n",
    "        z=1\n",
    "        y=1\n",
    "        factor=1000\n",
    "    \n",
    "    return z,y, factor\n",
    "        \n",
    "def create_sprd(dataframe1, dataframe2):\n",
    "   \n",
    "    dataframe1.reset_index(inplace=True)\n",
    "    dataframe2.reset_index(inplace=True)\n",
    "    date=dataframe1['Date']\n",
    "    \n",
    "    dataframe1.drop(columns=['Date'],inplace=True)\n",
    "    dataframe2.drop(columns=['Date'],inplace=True)\n",
    "    \n",
    "    while True:\n",
    "        sprd_type=int(raw_input('Please indicate if this is a 1) Crack or 2) Spread 3) HOGO Sprd - please input integer 1,2, or 3: '))\n",
    "        \n",
    "        if sprd_type==1:\n",
    "            \n",
    "            new_df=dataframe1*42-dataframe2\n",
    "            new_df['Date']=date\n",
    "            new_df.set_index('Date',inplace=True)\n",
    "            new_df.fillna(method='ffill',inplace=True)\n",
    "            new_df.fillna(method='bfill',inplace=True)\n",
    "            \n",
    "            return new_df\n",
    "            break\n",
    "        \n",
    "        elif sprd_type==2:\n",
    "            \n",
    "            new_df= dataframe1-dataframe2\n",
    "            new_df['Date']=date\n",
    "            new_df.set_index('Date',inplace=True)\n",
    "            new_df.fillna(method='ffill',inplace=True)\n",
    "            new_df.fillna(method='bfill',inplace=True)\n",
    "            \n",
    "            return new_df\n",
    "            break\n",
    "        \n",
    "        elif sprd_type==3:\n",
    "            \n",
    "            new_df=dataframe1*42-dataframe2/7.45\n",
    "            new_df['Date']=date\n",
    "            new_df.set_index('Date',inplace=True)\n",
    "            new_df.fillna(method='ffill',inplace=True)\n",
    "            new_df.fillna(method='bfill',inplace=True)\n",
    "            \n",
    "            return new_df\n",
    "            break\n",
    "        \n",
    "        else:\n",
    "            print 'You have inputted incorrectly. Please try again and enter either integer 1,2, or 3.'\n",
    "    \n",
    "\n",
    "class Mth_1(object):\n",
    "    \n",
    "    def __init__(self):\n",
    "        pass\n",
    "        \n",
    "    def pdt_type1(self):\n",
    "        \n",
    "        product=''\n",
    "        while True:\n",
    "            inst=int(raw_input('Please input the number of the product you want to see the seasonals: 1) Brent 2) Gasoil 3) HO 4) RBOB 5) WTI: '))\n",
    "    \n",
    "            if inst==1:\n",
    "                product='B'\n",
    "                break\n",
    "            elif inst==2:\n",
    "                product='G'\n",
    "                break   \n",
    "            elif inst==3:\n",
    "                product='HO'\n",
    "                break      \n",
    "            elif inst==4:\n",
    "                product='RB'\n",
    "                break       \n",
    "            elif inst==5:\n",
    "                product='CL'\n",
    "                break       \n",
    "            else:\n",
    "                print 'You did not input a correct number. Please try again.'\n",
    "        \n",
    "        return product\n",
    "        \n",
    "    \n",
    "    def mth_no1(self):\n",
    "        month=''\n",
    "        while True:\n",
    "            Mth=int(raw_input('Please input the month of the contract which you wish to evaluate in numbers from 1-12: '))\n",
    "    \n",
    "            if Mth==1:\n",
    "                month='Jan'\n",
    "                break\n",
    "            elif Mth==2:\n",
    "                month='Feb'\n",
    "                break   \n",
    "            elif Mth==3:\n",
    "                month='Mar'\n",
    "                break   \n",
    "            elif Mth==4:\n",
    "                month='Apr'\n",
    "                break   \n",
    "            elif Mth==5:\n",
    "                month='May'\n",
    "                break          \n",
    "            elif Mth==6:\n",
    "                month='Jun'\n",
    "                break   \n",
    "            elif Mth==7:\n",
    "                month='Jul'\n",
    "                break   \n",
    "            elif Mth==8:\n",
    "                month='Aug'\n",
    "                break   \n",
    "            elif Mth==9:\n",
    "                month='Sep'\n",
    "                break   \n",
    "            elif Mth==10:\n",
    "                month='Oct'\n",
    "                break   \n",
    "            elif Mth==11:\n",
    "                month='Nov'\n",
    "                break   \n",
    "            elif Mth==12:\n",
    "                month='Dec'\n",
    "                break \n",
    "            else:\n",
    "                print 'You did not input a correct number. Please try again.'\n",
    "        \n",
    "        return month\n",
    "\n",
    "    def dataframe_create(self,start_mth,start_day,end_mth,end_day,i,j):\n",
    "\n",
    "        count=0\n",
    "        path = os.getcwd()\n",
    "        \n",
    "        listing = os.listdir(path)\n",
    "        for infile in listing:\n",
    "            temp=pd.read_excel(infile) #read each file into panda dataframe\n",
    "    \n",
    "            contract_yr_str=infile[-8:-4] # get the contract year\n",
    "    \n",
    "            seasonal_year=int(contract_yr_str)-1 # get the seasonal year to create the index - prev year\n",
    "            seasonal_year=str(seasonal_year) # convert to string\n",
    "\n",
    "            start_date=str(int(seasonal_year)+i)+'-'+start_mth+'-'+start_day # create start date\n",
    "            end_date=str(int(seasonal_year)+j)+'-'+end_mth+'-'+end_day # create end date\n",
    "            \n",
    "            #Join a date dataframe and the temp dataframe together\n",
    "            \n",
    "            dates=pd.date_range(start_date, end_date) # range of dates for date axis\n",
    "            dates=dates.strftime('%Y-%m-%d') #make sure no left out dates\n",
    "            sample_data=np.arange(0,len(dates)) #just sample numbers to create dataframe\n",
    "    \n",
    "            dates_dataframe=pd.DataFrame({'Date':dates,'data':sample_data}) # create dates dataframe\n",
    "            dates_dataframe=dates_dataframe.set_index('Date') # set index as Date to facilitate joining\n",
    "    \n",
    "            temp=temp.set_index('Date') # set index as Date to facilitate joining\n",
    "    \n",
    "            temp=dates_dataframe.join(temp) # join dataframes together on Date\n",
    "               \n",
    "            #filter dates by the start and end date\n",
    "            temp.reset_index(inplace=True)\n",
    "    \n",
    "            temp=temp[temp['Date']>=start_date] # filter for start date\n",
    "\n",
    "            temp=temp[temp['Date']<=end_date] # filter for end date\n",
    "\n",
    "            temp['Date']=pd.to_datetime(temp['Date']).dt.strftime('%m/%d') # putting date in mm/dd form\n",
    "            temp=temp.set_index('Date') # putting date back as index\n",
    "            temp=pd.DataFrame(temp['Settle'],columns=['Settle']) # setting dataframe with date and settle only\n",
    "\n",
    "    \n",
    "            if count==0:\n",
    "                Seasonal_Combi=temp\n",
    "                seasonal_year=str(int(seasonal_year)+1)\n",
    "                Seasonal_Combi.rename(columns={'Settle':seasonal_year},inplace=True)\n",
    "        \n",
    "                count+=1\n",
    "        \n",
    "            else:\n",
    "    \n",
    "                seasonal_year=str(int(seasonal_year)+1)\n",
    "                Seasonal_Combi['Settle']=temp['Settle']\n",
    "                Seasonal_Combi.rename(columns={'Settle':seasonal_year},inplace=True)\n",
    "\n",
    "        #don't need this, i believe\n",
    "        #Seasonal_Combi.drop(columns=['Open','High','Low','Last','Change', 'Volume','Prev. Day Open Interest'],inplace=True)   \n",
    "\n",
    "        \n",
    "        return Seasonal_Combi\n",
    "            \n",
    "            \n",
    "\n",
    "class Mth_2(object):\n",
    "    \n",
    "    def __init__(self):\n",
    "        pass\n",
    "        \n",
    "    def pdt_type2(self):\n",
    "        \n",
    "        product=''\n",
    "        while True:\n",
    "            inst=int(raw_input('Please input the number of the product you want to see the seasonals: 1) Brent 2) Gasoil 3) HO 4) RBOB 5) WTI: '))\n",
    "    \n",
    "            if inst==1:\n",
    "                product='B'\n",
    "                break\n",
    "            elif inst==2:\n",
    "                product='G'\n",
    "                break   \n",
    "            elif inst==3:\n",
    "                product='HO'\n",
    "                break      \n",
    "            elif inst==4:\n",
    "                product='RB'\n",
    "                break       \n",
    "            elif inst==5:\n",
    "                product='CL'\n",
    "                break       \n",
    "            else:\n",
    "                print 'You did not input a correct number. Please try again.'\n",
    "        \n",
    "        return product\n",
    "        \n",
    "    \n",
    "    def mth_no2(self):\n",
    "        month=''\n",
    "        while True:\n",
    "            Mth=int(raw_input('Please input the month of the contract which you wish to evaluate in numbers from 1-12: '))\n",
    "    \n",
    "            if Mth==1:\n",
    "                month='Jan'\n",
    "                break\n",
    "            elif Mth==2:\n",
    "                month='Feb'\n",
    "                break   \n",
    "            elif Mth==3:\n",
    "                month='Mar'\n",
    "                break   \n",
    "            elif Mth==4:\n",
    "                month='Apr'\n",
    "                break   \n",
    "            elif Mth==5:\n",
    "                month='May'\n",
    "                break          \n",
    "            elif Mth==6:\n",
    "                month='Jun'\n",
    "                break   \n",
    "            elif Mth==7:\n",
    "                month='Jul'\n",
    "                break   \n",
    "            elif Mth==8:\n",
    "                month='Aug'\n",
    "                break   \n",
    "            elif Mth==9:\n",
    "                month='Sep'\n",
    "                break   \n",
    "            elif Mth==10:\n",
    "                month='Oct'\n",
    "                break   \n",
    "            elif Mth==11:\n",
    "                month='Nov'\n",
    "                break   \n",
    "            elif Mth==12:\n",
    "                month='Dec'\n",
    "                break \n",
    "            else:\n",
    "                print 'You did not input a correct number. Please try again.'\n",
    "        \n",
    "        return month\n",
    "\n",
    "    def dataframe_create(self, start_mth, start_day, end_mth,end_day,i,j):\n",
    "\n",
    "        count=0\n",
    "        path = os.getcwd()\n",
    "\n",
    "        listing = os.listdir(path)\n",
    "        for infile in listing:\n",
    "            temp=pd.read_excel(infile) #read each file into panda dataframe\n",
    "    \n",
    "            contract_yr_str=infile[-8:-4] # get the contract year\n",
    "    \n",
    "            seasonal_year=int(contract_yr_str)-1 # get the seasonal year to create the index - prev year\n",
    "            seasonal_year=str(seasonal_year) # convert to string\n",
    "     \n",
    "            start_date=str(int(seasonal_year)+i)+'-'+start_mth+'-'+start_day # create start date\n",
    "            end_date=str(int(seasonal_year)+j)+'-'+end_mth+'-'+end_day # create end date\n",
    "            \n",
    "            #Join a date dataframe and the temp dataframe together\n",
    "            \n",
    "            dates=pd.date_range(start_date, end_date) # range of dates for date axis\n",
    "            dates=dates.strftime('%Y-%m-%d') #make sure no left out dates\n",
    "            sample_data=np.arange(0,len(dates)) #just sample numbers to create dataframe\n",
    "    \n",
    "            dates_dataframe=pd.DataFrame({'Date':dates,'data':sample_data}) # create dates dataframe\n",
    "            dates_dataframe=dates_dataframe.set_index('Date') # set index as Date to facilitate joining\n",
    "    \n",
    "            temp=temp.set_index('Date') # set index as Date to facilitate joining\n",
    "    \n",
    "            temp=dates_dataframe.join(temp) # join dataframes together on Date\n",
    "               \n",
    "            #filter dates by the start and end date\n",
    "            temp.reset_index(inplace=True)\n",
    "    \n",
    "            temp=temp[temp['Date']>=start_date] # filter for start date\n",
    "\n",
    "            temp=temp[temp['Date']<=end_date] # filter for end date\n",
    "\n",
    "            temp['Date']=pd.to_datetime(temp['Date']).dt.strftime('%m/%d') # putting date in mm/dd form\n",
    "            temp=temp.set_index('Date') # putting date back as index\n",
    "            temp=pd.DataFrame(temp['Settle'],columns=['Settle']) # setting dataframe with date and settle only\n",
    "    \n",
    "            if count==0:\n",
    "                Seasonal_Combi=temp\n",
    "                seasonal_year=str(int(seasonal_year)+1)\n",
    "                Seasonal_Combi.rename(columns={'Settle':seasonal_year},inplace=True)\n",
    "        \n",
    "                count+=1\n",
    "        \n",
    "            else:\n",
    "    \n",
    "                seasonal_year=str(int(seasonal_year)+1)\n",
    "                Seasonal_Combi['Settle']=temp['Settle']\n",
    "                Seasonal_Combi.rename(columns={'Settle':seasonal_year},inplace=True)\n",
    "\n",
    "        #Seasonal_Combi.drop(columns=['Open','High','Low','Last','Change','Volume','Prev. Day Open Interest'],inplace=True)   \n",
    "\n",
    "        \n",
    "        return Seasonal_Combi\n",
    "    \n",
    "\n",
    "        \n",
    "    \n",
    "import numpy as np\n",
    "import pandas as pd\n",
    "import os\n",
    "import statsmodels.tsa.stattools as ts\n",
    "import matplotlib.pyplot as plt  \n",
    "%matplotlib inline\n",
    "\n",
    "#user specify instrument and contract month\n",
    "\n",
    "product1=''\n",
    "month1=''\n",
    "product2=''\n",
    "month2=''\n",
    "\n",
    "front_mth=Mth_1()\n",
    "product1 = front_mth.pdt_type1()\n",
    "month1=front_mth.mth_no1()\n",
    "\n",
    "back_mth=Mth_2()\n",
    "product2=back_mth.pdt_type2()\n",
    "month2=back_mth.mth_no2()\n",
    "\n",
    "        "
   ]
  },
  {
   "cell_type": "code",
   "execution_count": 1443,
   "metadata": {},
   "outputs": [
    {
     "name": "stdout",
     "output_type": "stream",
     "text": [
      "C:\\Users\\boonsin.teo\\Documents\\Quandl\n"
     ]
    }
   ],
   "source": [
    "cd Quandl"
   ]
  },
  {
   "cell_type": "code",
   "execution_count": 1444,
   "metadata": {},
   "outputs": [
    {
     "name": "stdout",
     "output_type": "stream",
     "text": [
      "C:\\Users\\boonsin.teo\\Documents\\Quandl\\HO\n"
     ]
    }
   ],
   "source": [
    "cd $product1"
   ]
  },
  {
   "cell_type": "code",
   "execution_count": 1445,
   "metadata": {},
   "outputs": [
    {
     "name": "stdout",
     "output_type": "stream",
     "text": [
      "C:\\Users\\boonsin.teo\\Documents\\Quandl\\HO\\Jul\n"
     ]
    }
   ],
   "source": [
    "cd $month1"
   ]
  },
  {
   "cell_type": "code",
   "execution_count": 1446,
   "metadata": {},
   "outputs": [
    {
     "name": "stdout",
     "output_type": "stream",
     "text": [
      "Please input start mth of seasonal period in MM format: 01\n",
      "Please input start day of seasonal period in DD format: 01\n",
      "Please input 1 if start mth is the same as contract year and 0 if not: 1\n",
      "Please input end mth of seasonal period in MM format: 05\n",
      "Please input end day of seasonal period in DD format: 31\n",
      "Please input 1 if end mth is the same as contract year and 0 if not: 1\n"
     ]
    }
   ],
   "source": [
    "start_mth=raw_input('Please input start mth of seasonal period in MM format: ')\n",
    "start_day=raw_input('Please input start day of seasonal period in DD format: ')\n",
    "i=int(raw_input('Please input 1 if start mth is the same as contract year and 0 if not: '))\n",
    "            \n",
    "end_mth=raw_input('Please input end mth of seasonal period in MM format: ')\n",
    "end_day=raw_input('Please input end day of seasonal period in DD format: ')\n",
    "            \n",
    "j=int(raw_input('Please input 1 if end mth is the same as contract year and 0 if not: '))\n",
    "\n",
    "\n",
    "front_month=front_mth.dataframe_create(start_mth,start_day,end_mth,end_day,i,j)"
   ]
  },
  {
   "cell_type": "code",
   "execution_count": 1447,
   "metadata": {},
   "outputs": [
    {
     "name": "stdout",
     "output_type": "stream",
     "text": [
      "C:\\Users\\boonsin.teo\\Documents\\Quandl\\HO\n"
     ]
    }
   ],
   "source": [
    "cd .."
   ]
  },
  {
   "cell_type": "code",
   "execution_count": 1448,
   "metadata": {},
   "outputs": [
    {
     "name": "stdout",
     "output_type": "stream",
     "text": [
      "C:\\Users\\boonsin.teo\\Documents\\Quandl\n"
     ]
    }
   ],
   "source": [
    "cd .."
   ]
  },
  {
   "cell_type": "code",
   "execution_count": 1449,
   "metadata": {},
   "outputs": [
    {
     "name": "stdout",
     "output_type": "stream",
     "text": [
      "C:\\Users\\boonsin.teo\\Documents\n"
     ]
    }
   ],
   "source": [
    "cd .."
   ]
  },
  {
   "cell_type": "code",
   "execution_count": 1450,
   "metadata": {},
   "outputs": [
    {
     "name": "stdout",
     "output_type": "stream",
     "text": [
      "C:\\Users\\boonsin.teo\\Documents\\Quandl\n"
     ]
    }
   ],
   "source": [
    "cd Quandl"
   ]
  },
  {
   "cell_type": "code",
   "execution_count": 1451,
   "metadata": {},
   "outputs": [
    {
     "name": "stdout",
     "output_type": "stream",
     "text": [
      "C:\\Users\\boonsin.teo\\Documents\\Quandl\\G\n"
     ]
    }
   ],
   "source": [
    "cd $product2"
   ]
  },
  {
   "cell_type": "code",
   "execution_count": 1452,
   "metadata": {},
   "outputs": [
    {
     "name": "stdout",
     "output_type": "stream",
     "text": [
      "C:\\Users\\boonsin.teo\\Documents\\Quandl\\G\\Jul\n"
     ]
    }
   ],
   "source": [
    "cd $month2"
   ]
  },
  {
   "cell_type": "code",
   "execution_count": 1453,
   "metadata": {
    "collapsed": true
   },
   "outputs": [],
   "source": [
    "back_month=back_mth.dataframe_create(start_mth, start_day,end_mth,end_day,i,j)"
   ]
  },
  {
   "cell_type": "code",
   "execution_count": 1454,
   "metadata": {},
   "outputs": [
    {
     "name": "stdout",
     "output_type": "stream",
     "text": [
      "C:\\Users\\boonsin.teo\\Documents\\Quandl\\G\n"
     ]
    }
   ],
   "source": [
    "cd .."
   ]
  },
  {
   "cell_type": "code",
   "execution_count": 1455,
   "metadata": {},
   "outputs": [
    {
     "name": "stdout",
     "output_type": "stream",
     "text": [
      "C:\\Users\\boonsin.teo\\Documents\\Quandl\n"
     ]
    }
   ],
   "source": [
    "cd .."
   ]
  },
  {
   "cell_type": "code",
   "execution_count": 1456,
   "metadata": {},
   "outputs": [
    {
     "name": "stdout",
     "output_type": "stream",
     "text": [
      "C:\\Users\\boonsin.teo\\Documents\n"
     ]
    }
   ],
   "source": [
    "cd .."
   ]
  },
  {
   "cell_type": "code",
   "execution_count": 1457,
   "metadata": {},
   "outputs": [
    {
     "data": {
      "text/html": [
       "<div>\n",
       "<style scoped>\n",
       "    .dataframe tbody tr th:only-of-type {\n",
       "        vertical-align: middle;\n",
       "    }\n",
       "\n",
       "    .dataframe tbody tr th {\n",
       "        vertical-align: top;\n",
       "    }\n",
       "\n",
       "    .dataframe thead th {\n",
       "        text-align: right;\n",
       "    }\n",
       "</style>\n",
       "<table border=\"1\" class=\"dataframe\">\n",
       "  <thead>\n",
       "    <tr style=\"text-align: right;\">\n",
       "      <th></th>\n",
       "      <th>1996</th>\n",
       "      <th>1997</th>\n",
       "      <th>1998</th>\n",
       "      <th>1999</th>\n",
       "      <th>2000</th>\n",
       "      <th>2001</th>\n",
       "      <th>2002</th>\n",
       "      <th>2003</th>\n",
       "      <th>2004</th>\n",
       "      <th>2005</th>\n",
       "      <th>...</th>\n",
       "      <th>2009</th>\n",
       "      <th>2010</th>\n",
       "      <th>2011</th>\n",
       "      <th>2012</th>\n",
       "      <th>2013</th>\n",
       "      <th>2014</th>\n",
       "      <th>2015</th>\n",
       "      <th>2016</th>\n",
       "      <th>2017</th>\n",
       "      <th>2018</th>\n",
       "    </tr>\n",
       "    <tr>\n",
       "      <th>Date</th>\n",
       "      <th></th>\n",
       "      <th></th>\n",
       "      <th></th>\n",
       "      <th></th>\n",
       "      <th></th>\n",
       "      <th></th>\n",
       "      <th></th>\n",
       "      <th></th>\n",
       "      <th></th>\n",
       "      <th></th>\n",
       "      <th></th>\n",
       "      <th></th>\n",
       "      <th></th>\n",
       "      <th></th>\n",
       "      <th></th>\n",
       "      <th></th>\n",
       "      <th></th>\n",
       "      <th></th>\n",
       "      <th></th>\n",
       "      <th></th>\n",
       "      <th></th>\n",
       "    </tr>\n",
       "  </thead>\n",
       "  <tbody>\n",
       "    <tr>\n",
       "      <th>01/01</th>\n",
       "      <td>NaN</td>\n",
       "      <td>NaN</td>\n",
       "      <td>NaN</td>\n",
       "      <td>NaN</td>\n",
       "      <td>NaN</td>\n",
       "      <td>NaN</td>\n",
       "      <td>NaN</td>\n",
       "      <td>NaN</td>\n",
       "      <td>NaN</td>\n",
       "      <td>NaN</td>\n",
       "      <td>...</td>\n",
       "      <td>NaN</td>\n",
       "      <td>NaN</td>\n",
       "      <td>NaN</td>\n",
       "      <td>NaN</td>\n",
       "      <td>NaN</td>\n",
       "      <td>NaN</td>\n",
       "      <td>NaN</td>\n",
       "      <td>NaN</td>\n",
       "      <td>NaN</td>\n",
       "      <td>NaN</td>\n",
       "    </tr>\n",
       "    <tr>\n",
       "      <th>01/02</th>\n",
       "      <td>0.4959</td>\n",
       "      <td>0.5977</td>\n",
       "      <td>0.5002</td>\n",
       "      <td>NaN</td>\n",
       "      <td>NaN</td>\n",
       "      <td>0.7014</td>\n",
       "      <td>0.5776</td>\n",
       "      <td>0.7145</td>\n",
       "      <td>NaN</td>\n",
       "      <td>NaN</td>\n",
       "      <td>...</td>\n",
       "      <td>1.5908</td>\n",
       "      <td>NaN</td>\n",
       "      <td>NaN</td>\n",
       "      <td>NaN</td>\n",
       "      <td>3.0195</td>\n",
       "      <td>2.9392</td>\n",
       "      <td>1.8052</td>\n",
       "      <td>NaN</td>\n",
       "      <td>NaN</td>\n",
       "      <td>1.9615</td>\n",
       "    </tr>\n",
       "    <tr>\n",
       "      <th>01/03</th>\n",
       "      <td>0.4916</td>\n",
       "      <td>0.5948</td>\n",
       "      <td>NaN</td>\n",
       "      <td>NaN</td>\n",
       "      <td>NaN</td>\n",
       "      <td>0.7091</td>\n",
       "      <td>0.5624</td>\n",
       "      <td>0.7224</td>\n",
       "      <td>NaN</td>\n",
       "      <td>1.1020</td>\n",
       "      <td>...</td>\n",
       "      <td>NaN</td>\n",
       "      <td>NaN</td>\n",
       "      <td>2.5644</td>\n",
       "      <td>2.9607</td>\n",
       "      <td>3.0018</td>\n",
       "      <td>2.8967</td>\n",
       "      <td>NaN</td>\n",
       "      <td>NaN</td>\n",
       "      <td>1.7214</td>\n",
       "      <td>1.9930</td>\n",
       "    </tr>\n",
       "    <tr>\n",
       "      <th>01/04</th>\n",
       "      <td>0.4943</td>\n",
       "      <td>NaN</td>\n",
       "      <td>NaN</td>\n",
       "      <td>0.3739</td>\n",
       "      <td>0.5728</td>\n",
       "      <td>0.7077</td>\n",
       "      <td>0.5885</td>\n",
       "      <td>NaN</td>\n",
       "      <td>NaN</td>\n",
       "      <td>1.1423</td>\n",
       "      <td>...</td>\n",
       "      <td>NaN</td>\n",
       "      <td>2.2106</td>\n",
       "      <td>2.5334</td>\n",
       "      <td>3.0224</td>\n",
       "      <td>2.9825</td>\n",
       "      <td>NaN</td>\n",
       "      <td>NaN</td>\n",
       "      <td>1.2366</td>\n",
       "      <td>1.7389</td>\n",
       "      <td>1.9919</td>\n",
       "    </tr>\n",
       "    <tr>\n",
       "      <th>01/05</th>\n",
       "      <td>0.4989</td>\n",
       "      <td>NaN</td>\n",
       "      <td>0.4898</td>\n",
       "      <td>0.3660</td>\n",
       "      <td>0.5647</td>\n",
       "      <td>0.7022</td>\n",
       "      <td>NaN</td>\n",
       "      <td>NaN</td>\n",
       "      <td>0.8085</td>\n",
       "      <td>1.1293</td>\n",
       "      <td>...</td>\n",
       "      <td>1.6733</td>\n",
       "      <td>2.2175</td>\n",
       "      <td>2.5660</td>\n",
       "      <td>2.9970</td>\n",
       "      <td>NaN</td>\n",
       "      <td>NaN</td>\n",
       "      <td>1.7476</td>\n",
       "      <td>1.2227</td>\n",
       "      <td>1.7404</td>\n",
       "      <td>1.9811</td>\n",
       "    </tr>\n",
       "  </tbody>\n",
       "</table>\n",
       "<p>5 rows × 23 columns</p>\n",
       "</div>"
      ],
      "text/plain": [
       "         1996    1997    1998    1999    2000    2001    2002    2003    2004  \\\n",
       "Date                                                                            \n",
       "01/01     NaN     NaN     NaN     NaN     NaN     NaN     NaN     NaN     NaN   \n",
       "01/02  0.4959  0.5977  0.5002     NaN     NaN  0.7014  0.5776  0.7145     NaN   \n",
       "01/03  0.4916  0.5948     NaN     NaN     NaN  0.7091  0.5624  0.7224     NaN   \n",
       "01/04  0.4943     NaN     NaN  0.3739  0.5728  0.7077  0.5885     NaN     NaN   \n",
       "01/05  0.4989     NaN  0.4898  0.3660  0.5647  0.7022     NaN     NaN  0.8085   \n",
       "\n",
       "         2005   ...      2009    2010    2011    2012    2013    2014    2015  \\\n",
       "Date            ...                                                             \n",
       "01/01     NaN   ...       NaN     NaN     NaN     NaN     NaN     NaN     NaN   \n",
       "01/02     NaN   ...    1.5908     NaN     NaN     NaN  3.0195  2.9392  1.8052   \n",
       "01/03  1.1020   ...       NaN     NaN  2.5644  2.9607  3.0018  2.8967     NaN   \n",
       "01/04  1.1423   ...       NaN  2.2106  2.5334  3.0224  2.9825     NaN     NaN   \n",
       "01/05  1.1293   ...    1.6733  2.2175  2.5660  2.9970     NaN     NaN  1.7476   \n",
       "\n",
       "         2016    2017    2018  \n",
       "Date                           \n",
       "01/01     NaN     NaN     NaN  \n",
       "01/02     NaN     NaN  1.9615  \n",
       "01/03     NaN  1.7214  1.9930  \n",
       "01/04  1.2366  1.7389  1.9919  \n",
       "01/05  1.2227  1.7404  1.9811  \n",
       "\n",
       "[5 rows x 23 columns]"
      ]
     },
     "execution_count": 1457,
     "metadata": {},
     "output_type": "execute_result"
    }
   ],
   "source": [
    "front_month.head()"
   ]
  },
  {
   "cell_type": "code",
   "execution_count": 1458,
   "metadata": {},
   "outputs": [
    {
     "data": {
      "text/html": [
       "<div>\n",
       "<style scoped>\n",
       "    .dataframe tbody tr th:only-of-type {\n",
       "        vertical-align: middle;\n",
       "    }\n",
       "\n",
       "    .dataframe tbody tr th {\n",
       "        vertical-align: top;\n",
       "    }\n",
       "\n",
       "    .dataframe thead th {\n",
       "        text-align: right;\n",
       "    }\n",
       "</style>\n",
       "<table border=\"1\" class=\"dataframe\">\n",
       "  <thead>\n",
       "    <tr style=\"text-align: right;\">\n",
       "      <th></th>\n",
       "      <th>1996</th>\n",
       "      <th>1997</th>\n",
       "      <th>1998</th>\n",
       "      <th>1999</th>\n",
       "      <th>2000</th>\n",
       "      <th>2001</th>\n",
       "      <th>2002</th>\n",
       "      <th>2003</th>\n",
       "      <th>2004</th>\n",
       "      <th>2005</th>\n",
       "      <th>...</th>\n",
       "      <th>2009</th>\n",
       "      <th>2010</th>\n",
       "      <th>2011</th>\n",
       "      <th>2012</th>\n",
       "      <th>2013</th>\n",
       "      <th>2014</th>\n",
       "      <th>2015</th>\n",
       "      <th>2016</th>\n",
       "      <th>2017</th>\n",
       "      <th>2018</th>\n",
       "    </tr>\n",
       "    <tr>\n",
       "      <th>Date</th>\n",
       "      <th></th>\n",
       "      <th></th>\n",
       "      <th></th>\n",
       "      <th></th>\n",
       "      <th></th>\n",
       "      <th></th>\n",
       "      <th></th>\n",
       "      <th></th>\n",
       "      <th></th>\n",
       "      <th></th>\n",
       "      <th></th>\n",
       "      <th></th>\n",
       "      <th></th>\n",
       "      <th></th>\n",
       "      <th></th>\n",
       "      <th></th>\n",
       "      <th></th>\n",
       "      <th></th>\n",
       "      <th></th>\n",
       "      <th></th>\n",
       "      <th></th>\n",
       "    </tr>\n",
       "  </thead>\n",
       "  <tbody>\n",
       "    <tr>\n",
       "      <th>01/01</th>\n",
       "      <td>NaN</td>\n",
       "      <td>NaN</td>\n",
       "      <td>NaN</td>\n",
       "      <td>NaN</td>\n",
       "      <td>NaN</td>\n",
       "      <td>NaN</td>\n",
       "      <td>NaN</td>\n",
       "      <td>NaN</td>\n",
       "      <td>NaN</td>\n",
       "      <td>NaN</td>\n",
       "      <td>...</td>\n",
       "      <td>NaN</td>\n",
       "      <td>NaN</td>\n",
       "      <td>NaN</td>\n",
       "      <td>NaN</td>\n",
       "      <td>910.25</td>\n",
       "      <td>NaN</td>\n",
       "      <td>NaN</td>\n",
       "      <td>NaN</td>\n",
       "      <td>NaN</td>\n",
       "      <td>NaN</td>\n",
       "    </tr>\n",
       "    <tr>\n",
       "      <th>01/02</th>\n",
       "      <td>154.75</td>\n",
       "      <td>188.75</td>\n",
       "      <td>157.0</td>\n",
       "      <td>NaN</td>\n",
       "      <td>NaN</td>\n",
       "      <td>210.00</td>\n",
       "      <td>178.50</td>\n",
       "      <td>220.25</td>\n",
       "      <td>241.25</td>\n",
       "      <td>NaN</td>\n",
       "      <td>...</td>\n",
       "      <td>485.50</td>\n",
       "      <td>NaN</td>\n",
       "      <td>NaN</td>\n",
       "      <td>NaN</td>\n",
       "      <td>927.25</td>\n",
       "      <td>924.50</td>\n",
       "      <td>551.75</td>\n",
       "      <td>NaN</td>\n",
       "      <td>516.00</td>\n",
       "      <td>582.0</td>\n",
       "    </tr>\n",
       "    <tr>\n",
       "      <th>01/03</th>\n",
       "      <td>156.00</td>\n",
       "      <td>187.50</td>\n",
       "      <td>NaN</td>\n",
       "      <td>NaN</td>\n",
       "      <td>NaN</td>\n",
       "      <td>212.25</td>\n",
       "      <td>178.00</td>\n",
       "      <td>222.25</td>\n",
       "      <td>NaN</td>\n",
       "      <td>NaN</td>\n",
       "      <td>...</td>\n",
       "      <td>NaN</td>\n",
       "      <td>NaN</td>\n",
       "      <td>812.00</td>\n",
       "      <td>923.75</td>\n",
       "      <td>923.75</td>\n",
       "      <td>912.25</td>\n",
       "      <td>NaN</td>\n",
       "      <td>NaN</td>\n",
       "      <td>511.50</td>\n",
       "      <td>590.0</td>\n",
       "    </tr>\n",
       "    <tr>\n",
       "      <th>01/04</th>\n",
       "      <td>154.50</td>\n",
       "      <td>NaN</td>\n",
       "      <td>NaN</td>\n",
       "      <td>110.75</td>\n",
       "      <td>174.5</td>\n",
       "      <td>217.25</td>\n",
       "      <td>179.25</td>\n",
       "      <td>NaN</td>\n",
       "      <td>NaN</td>\n",
       "      <td>351.5</td>\n",
       "      <td>...</td>\n",
       "      <td>NaN</td>\n",
       "      <td>688.50</td>\n",
       "      <td>791.75</td>\n",
       "      <td>944.50</td>\n",
       "      <td>915.75</td>\n",
       "      <td>NaN</td>\n",
       "      <td>NaN</td>\n",
       "      <td>373.0</td>\n",
       "      <td>509.50</td>\n",
       "      <td>590.5</td>\n",
       "    </tr>\n",
       "    <tr>\n",
       "      <th>01/05</th>\n",
       "      <td>155.75</td>\n",
       "      <td>NaN</td>\n",
       "      <td>155.0</td>\n",
       "      <td>110.25</td>\n",
       "      <td>177.0</td>\n",
       "      <td>219.00</td>\n",
       "      <td>NaN</td>\n",
       "      <td>NaN</td>\n",
       "      <td>248.75</td>\n",
       "      <td>348.0</td>\n",
       "      <td>...</td>\n",
       "      <td>531.25</td>\n",
       "      <td>693.25</td>\n",
       "      <td>802.25</td>\n",
       "      <td>951.25</td>\n",
       "      <td>NaN</td>\n",
       "      <td>NaN</td>\n",
       "      <td>526.25</td>\n",
       "      <td>370.0</td>\n",
       "      <td>508.75</td>\n",
       "      <td>589.0</td>\n",
       "    </tr>\n",
       "  </tbody>\n",
       "</table>\n",
       "<p>5 rows × 23 columns</p>\n",
       "</div>"
      ],
      "text/plain": [
       "         1996    1997   1998    1999   2000    2001    2002    2003    2004  \\\n",
       "Date                                                                          \n",
       "01/01     NaN     NaN    NaN     NaN    NaN     NaN     NaN     NaN     NaN   \n",
       "01/02  154.75  188.75  157.0     NaN    NaN  210.00  178.50  220.25  241.25   \n",
       "01/03  156.00  187.50    NaN     NaN    NaN  212.25  178.00  222.25     NaN   \n",
       "01/04  154.50     NaN    NaN  110.75  174.5  217.25  179.25     NaN     NaN   \n",
       "01/05  155.75     NaN  155.0  110.25  177.0  219.00     NaN     NaN  248.75   \n",
       "\n",
       "        2005  ...      2009    2010    2011    2012    2013    2014    2015  \\\n",
       "Date          ...                                                             \n",
       "01/01    NaN  ...       NaN     NaN     NaN     NaN  910.25     NaN     NaN   \n",
       "01/02    NaN  ...    485.50     NaN     NaN     NaN  927.25  924.50  551.75   \n",
       "01/03    NaN  ...       NaN     NaN  812.00  923.75  923.75  912.25     NaN   \n",
       "01/04  351.5  ...       NaN  688.50  791.75  944.50  915.75     NaN     NaN   \n",
       "01/05  348.0  ...    531.25  693.25  802.25  951.25     NaN     NaN  526.25   \n",
       "\n",
       "        2016    2017   2018  \n",
       "Date                         \n",
       "01/01    NaN     NaN    NaN  \n",
       "01/02    NaN  516.00  582.0  \n",
       "01/03    NaN  511.50  590.0  \n",
       "01/04  373.0  509.50  590.5  \n",
       "01/05  370.0  508.75  589.0  \n",
       "\n",
       "[5 rows x 23 columns]"
      ]
     },
     "execution_count": 1458,
     "metadata": {},
     "output_type": "execute_result"
    }
   ],
   "source": [
    "back_month.head()"
   ]
  },
  {
   "cell_type": "code",
   "execution_count": 1459,
   "metadata": {},
   "outputs": [
    {
     "name": "stdout",
     "output_type": "stream",
     "text": [
      "Please indicate if this is a 1) Crack or 2) Spread 3) HOGO Sprd - please input integer 1,2, or 3: 3\n"
     ]
    }
   ],
   "source": [
    "Spread_Combi=create_sprd(front_month, back_month)"
   ]
  },
  {
   "cell_type": "code",
   "execution_count": 1460,
   "metadata": {
    "collapsed": true
   },
   "outputs": [],
   "source": [
    "Spread_Combi.dropna(axis=0,how='all',inplace=True) # drop rows with all NAs"
   ]
  },
  {
   "cell_type": "code",
   "execution_count": 1461,
   "metadata": {
    "collapsed": true
   },
   "outputs": [],
   "source": [
    "Spread_Combi.dropna(axis=1,how='all',inplace=True)# drop columns with all NAs"
   ]
  },
  {
   "cell_type": "code",
   "execution_count": null,
   "metadata": {
    "collapsed": true
   },
   "outputs": [],
   "source": []
  },
  {
   "cell_type": "code",
   "execution_count": null,
   "metadata": {
    "collapsed": true
   },
   "outputs": [],
   "source": []
  },
  {
   "cell_type": "code",
   "execution_count": 1462,
   "metadata": {},
   "outputs": [
    {
     "name": "stdout",
     "output_type": "stream",
     "text": [
      "Please input the lookback period: 20\n"
     ]
    }
   ],
   "source": [
    "lookback=int(raw_input('Please input the lookback period: '))\n",
    "df_ma=Spread_Combi\n",
    "df_std=Spread_Combi\n",
    "\n"
   ]
  },
  {
   "cell_type": "code",
   "execution_count": null,
   "metadata": {
    "collapsed": true
   },
   "outputs": [],
   "source": []
  },
  {
   "cell_type": "code",
   "execution_count": null,
   "metadata": {
    "collapsed": true
   },
   "outputs": [],
   "source": []
  },
  {
   "cell_type": "code",
   "execution_count": 1463,
   "metadata": {},
   "outputs": [
    {
     "name": "stderr",
     "output_type": "stream",
     "text": [
      "C:\\Anaconda\\lib\\site-packages\\ipykernel_launcher.py:1: FutureWarning: pd.rolling_mean is deprecated for DataFrame and will be removed in a future version, replace with \n",
      "\tDataFrame.rolling(window=20,center=False).mean()\n",
      "  \"\"\"Entry point for launching an IPython kernel.\n",
      "C:\\Anaconda\\lib\\site-packages\\ipykernel_launcher.py:2: FutureWarning: pd.rolling_std is deprecated for DataFrame and will be removed in a future version, replace with \n",
      "\tDataFrame.rolling(window=20,center=False).std()\n",
      "  \n"
     ]
    }
   ],
   "source": [
    "df_ma=pd.rolling_mean(Spread_Combi,lookback)\n",
    "df_std=pd.rolling_std(Spread_Combi,lookback)"
   ]
  },
  {
   "cell_type": "code",
   "execution_count": 1464,
   "metadata": {
    "collapsed": true
   },
   "outputs": [],
   "source": [
    "z_score=(Spread_Combi-df_ma)/df_std"
   ]
  },
  {
   "cell_type": "code",
   "execution_count": 1465,
   "metadata": {},
   "outputs": [
    {
     "name": "stdout",
     "output_type": "stream",
     "text": [
      "Please input the z score for trade entry as a positive float number: 2.1\n",
      "Please input the z score for trade exit as a positive float number: 1\n"
     ]
    }
   ],
   "source": [
    "z_score_entry=float(raw_input('Please input the z score for trade entry as a positive float number: '))\n",
    "z_score_exit=float(raw_input('Please input the z score for trade exit as a positive float number: '))\n",
    "\n",
    "df_long_entry=z_score <= -z_score_entry\n",
    "df_long_exit=z_score>=-z_score_exit\n",
    "df_short_entry=z_score>=z_score_entry\n",
    "df_short_exit=z_score<=z_score_exit"
   ]
  },
  {
   "cell_type": "code",
   "execution_count": 1466,
   "metadata": {
    "collapsed": true
   },
   "outputs": [],
   "source": [
    "rows=Spread_Combi.shape[0]\n",
    "cols=Spread_Combi.shape[1]"
   ]
  },
  {
   "cell_type": "code",
   "execution_count": 1467,
   "metadata": {
    "collapsed": true
   },
   "outputs": [],
   "source": [
    "df_long_positions=pd.DataFrame(np.nan,index=range(0,rows),columns=range(0,cols))\n",
    "df_short_positions=pd.DataFrame(np.nan,index=range(0,rows),columns=range(0,cols))"
   ]
  },
  {
   "cell_type": "code",
   "execution_count": 1468,
   "metadata": {
    "collapsed": true
   },
   "outputs": [],
   "source": [
    "df_long_entry[df_long_entry==True]=2\n",
    "df_long_exit[df_long_exit==True]=-1\n",
    "df_long_positions=df_long_entry+df_long_exit\n",
    "\n",
    "df_long_positions[df_long_positions==0]=np.nan\n",
    "df_long_positions[df_long_positions==-1]=0\n",
    "df_long_positions[df_long_positions==2]=1\n",
    "\n",
    "df_long_positions=df_long_positions.fillna(method='ffill')"
   ]
  },
  {
   "cell_type": "code",
   "execution_count": 1469,
   "metadata": {},
   "outputs": [],
   "source": [
    "df_short_entry[df_short_entry==True]=-2\n",
    "df_short_exit[df_short_exit==True]=1\n",
    "df_short_positions=df_short_entry+df_short_exit\n",
    "\n",
    "df_short_positions[df_short_positions==0]=np.nan\n",
    "df_short_positions[df_short_positions==1]=0\n",
    "df_short_positions[df_short_positions==-2]=-1\n",
    "\n",
    "df_short_positions=df_short_positions.fillna(method='ffill')"
   ]
  },
  {
   "cell_type": "code",
   "execution_count": 1470,
   "metadata": {
    "collapsed": true
   },
   "outputs": [],
   "source": [
    "df_positions=df_long_positions+df_short_positions"
   ]
  },
  {
   "cell_type": "code",
   "execution_count": 1471,
   "metadata": {
    "collapsed": true
   },
   "outputs": [],
   "source": [
    "zf=z_factor(product1, product2)"
   ]
  },
  {
   "cell_type": "code",
   "execution_count": 1472,
   "metadata": {
    "collapsed": true
   },
   "outputs": [],
   "source": [
    "df_pnl=df_positions.shift(1)*(Spread_Combi*zf[0]-Spread_Combi.shift(1)*zf[1])*zf[2]"
   ]
  },
  {
   "cell_type": "code",
   "execution_count": 1473,
   "metadata": {
    "collapsed": true
   },
   "outputs": [],
   "source": [
    "df_cumpnl=df_pnl.cumsum()"
   ]
  },
  {
   "cell_type": "code",
   "execution_count": 1474,
   "metadata": {},
   "outputs": [
    {
     "data": {
      "text/plain": [
       "1996     2656.795973\n",
       "1997     3162.934228\n",
       "1998     3564.673826\n",
       "1999     3101.781208\n",
       "2000     5197.485906\n",
       "2001     4938.846980\n",
       "2002     8359.527517\n",
       "2003     4943.863087\n",
       "2004     5594.390604\n",
       "2005     8310.817450\n",
       "2006     8436.664430\n",
       "2007    14955.656376\n",
       "2008    19948.993289\n",
       "2009    11382.153020\n",
       "2010     7947.178523\n",
       "2011    12918.060403\n",
       "2012    10955.314094\n",
       "2013     6681.355705\n",
       "2014     3079.955705\n",
       "2015     9065.289933\n",
       "2016    10849.507383\n",
       "2017     4282.100671\n",
       "2018     5311.907383\n",
       "dtype: float64"
      ]
     },
     "execution_count": 1474,
     "metadata": {},
     "output_type": "execute_result"
    }
   ],
   "source": [
    "final_pnl=df_cumpnl.tail(1)\n",
    "final_pnl.sum()"
   ]
  },
  {
   "cell_type": "code",
   "execution_count": 1475,
   "metadata": {},
   "outputs": [],
   "source": [
    "win_percent=float(float((final_pnl[final_pnl>=0].count().sum()))/float((final_pnl.count().sum())))*100"
   ]
  },
  {
   "cell_type": "code",
   "execution_count": 1476,
   "metadata": {},
   "outputs": [
    {
     "name": "stdout",
     "output_type": "stream",
     "text": [
      "The winning percentage is 100.00 percent.\n",
      "The sample size is 23.\n"
     ]
    }
   ],
   "source": [
    "print 'The winning percentage is %.2f percent.' %win_percent\n",
    "print 'The sample size is %.0f.' %final_pnl.count().sum()"
   ]
  },
  {
   "cell_type": "code",
   "execution_count": 1477,
   "metadata": {},
   "outputs": [
    {
     "name": "stdout",
     "output_type": "stream",
     "text": [
      "Total pnl over 23 years is $175645.25.\n"
     ]
    }
   ],
   "source": [
    "print 'Total pnl over 23 years is $%.2f.'%final_pnl.sum().sum()"
   ]
  },
  {
   "cell_type": "code",
   "execution_count": 1478,
   "metadata": {
    "scrolled": true
   },
   "outputs": [
    {
     "name": "stdout",
     "output_type": "stream",
     "text": [
      "Please input the date to check in mm/dd format: 05/07\n"
     ]
    }
   ],
   "source": [
    "z_score_date=raw_input(\"Please input the date to check in mm/dd format: \")"
   ]
  },
  {
   "cell_type": "code",
   "execution_count": 1479,
   "metadata": {},
   "outputs": [
    {
     "name": "stdout",
     "output_type": "stream",
     "text": [
      "Please input the year of the date in which you are in: 2018\n"
     ]
    }
   ],
   "source": [
    "z_score_year=raw_input('Please input the year of the date in which you are in: ')"
   ]
  },
  {
   "cell_type": "code",
   "execution_count": 1480,
   "metadata": {},
   "outputs": [
    {
     "name": "stdout",
     "output_type": "stream",
     "text": [
      "No entry signal. Please check for exit signal if already in the trade.\n",
      "The z-score is -0.17.\n"
     ]
    }
   ],
   "source": [
    "if z_score[z_score_year].loc[z_score_date]<=-z_score_entry or z_score[z_score_year].loc[z_score_date]>=z_score_entry:\n",
    "    print \"Trade Entry Check!\"\n",
    "    print 'The z-score is %.2f.' %z_score[z_score_year].loc[z_score_date] \n",
    "else:\n",
    "    print 'No entry signal. Please check for exit signal if already in the trade.'\n",
    "    print 'The z-score is %.2f.' %z_score[z_score_year].loc[z_score_date] "
   ]
  },
  {
   "cell_type": "code",
   "execution_count": 1481,
   "metadata": {},
   "outputs": [
    {
     "data": {
      "text/plain": [
       "<matplotlib.axes._subplots.AxesSubplot at 0x156125d0>"
      ]
     },
     "execution_count": 1481,
     "metadata": {},
     "output_type": "execute_result"
    },
    {
     "data": {
      "image/png": "[encoded data removed]",
      "text/plain": [
       "<matplotlib.figure.Figure at 0x156126d0>"
      ]
     },
     "metadata": {},
     "output_type": "display_data"
    }
   ],
   "source": [
    "#to plot equity curve\n",
    "df_cumpnl['2016'].plot()"
   ]
  },
  {
   "cell_type": "code",
   "execution_count": 1482,
   "metadata": {},
   "outputs": [
    {
     "data": {
      "text/plain": [
       "1996    0.0\n",
       "1997    0.0\n",
       "1998    0.0\n",
       "1999    0.0\n",
       "2000    0.0\n",
       "2001    0.0\n",
       "2002    0.0\n",
       "2003    0.0\n",
       "2004    0.0\n",
       "2005    0.0\n",
       "2006    0.0\n",
       "2007    0.0\n",
       "2008    0.0\n",
       "2009    0.0\n",
       "2010    0.0\n",
       "2011    0.0\n",
       "2012    0.0\n",
       "2013    0.0\n",
       "2014    0.0\n",
       "2015    0.0\n",
       "2016    0.0\n",
       "2017    0.0\n",
       "2018    0.0\n",
       "dtype: float64"
      ]
     },
     "execution_count": 1482,
     "metadata": {},
     "output_type": "execute_result"
    }
   ],
   "source": [
    "df_cumpnl.min()"
   ]
  },
  {
   "cell_type": "code",
   "execution_count": 1483,
   "metadata": {},
   "outputs": [],
   "source": [
    "#adf calculation\n",
    "adf=final_pnl"
   ]
  },
  {
   "cell_type": "code",
   "execution_count": 1484,
   "metadata": {},
   "outputs": [],
   "source": [
    "i=0\n",
    "while i<cols:\n",
    "    adf.iloc[:,i]=float(ts.adfuller(Spread_Combi.iloc[:,i])[0])\n",
    "    i+=1"
   ]
  },
  {
   "cell_type": "code",
   "execution_count": 1485,
   "metadata": {},
   "outputs": [
    {
     "data": {
      "text/plain": [
       "1996   -2.077312\n",
       "1997   -2.166814\n",
       "1998   -8.062564\n",
       "1999   -2.895233\n",
       "2000   -2.693352\n",
       "2001   -1.457745\n",
       "2002   -2.525537\n",
       "2003   -3.465212\n",
       "2004   -2.149877\n",
       "2005   -3.843761\n",
       "2006   -4.480386\n",
       "2007   -7.400788\n",
       "2008    1.043047\n",
       "2009   -6.637287\n",
       "2010   -1.116509\n",
       "2011   -3.512750\n",
       "2012   -1.226729\n",
       "2013   -1.918624\n",
       "2014   -2.495515\n",
       "2015   -5.095344\n",
       "2016   -7.245021\n",
       "2017   -2.453058\n",
       "2018   -1.913217\n",
       "dtype: float64"
      ]
     },
     "execution_count": 1485,
     "metadata": {},
     "output_type": "execute_result"
    }
   ],
   "source": [
    "adf.sum()"
   ]
  },
  {
   "cell_type": "code",
   "execution_count": null,
   "metadata": {},
   "outputs": [],
   "source": []
  },
  {
   "cell_type": "code",
   "execution_count": null,
   "metadata": {},
   "outputs": [],
   "source": []
  },
  {
   "cell_type": "code",
   "execution_count": null,
   "metadata": {},
   "outputs": [],
   "source": []
  },
  {
   "cell_type": "code",
   "execution_count": null,
   "metadata": {
    "collapsed": true
   },
   "outputs": [],
   "source": []
  }
 ],
 "metadata": {
  "kernelspec": {
   "display_name": "Python 2",
   "language": "python",
   "name": "python2"
  },
  "language_info": {
   "codemirror_mode": {
    "name": "ipython",
    "version": 2
   },
   "file_extension": ".py",
   "mimetype": "text/x-python",
   "name": "python",
   "nbconvert_exporter": "python",
   "pygments_lexer": "ipython2",
   "version": "2.7.13"
  }
 },
 "nbformat": 4,
 "nbformat_minor": 2
}
