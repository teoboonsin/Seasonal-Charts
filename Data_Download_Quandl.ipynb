{
 "cells": [
  {
   "cell_type": "code",
   "execution_count": 91,
   "metadata": {},
   "outputs": [
    {
     "name": "stdout",
     "output_type": "stream",
     "text": [
      "Please key in your API Key: DXujoq54thGqHhYq78-x\n"
     ]
    }
   ],
   "source": [
    "import quandl\n",
    "import pandas as pd\n",
    "\n",
    "#Get API Key from Quandl account\n",
    "API_KEY=raw_input('Please key in your API Key: ')\n",
    "quandl.ApiConfig.api_key = API_KEY"
   ]
  },
  {
   "cell_type": "code",
   "execution_count": 92,
   "metadata": {},
   "outputs": [
    {
     "name": "stdout",
     "output_type": "stream",
     "text": [
      "Please input the database code that identifies where the data comes from (CME, ICE): CME\n",
      "Please input the product you want in database code (HO,CL,RB,B,G): HO\n",
      "Please input the symbol for futures delivery month: H\n",
      "Please input the contract year in YYYY format: 2018\n"
     ]
    }
   ],
   "source": [
    "\n",
    "\n",
    "data_code_loc=raw_input('Please input the database code that identifies where the data comes from (CME, ICE): ')\n",
    "data_code_ts=raw_input('Please input the product you want in database code (HO,CL,RB,B,G): ')\n",
    "\n",
    "mth=''\n",
    "while True:\n",
    "\n",
    "    futures_delivery_month=raw_input('Please input the symbol for futures delivery month: ')\n",
    "    \n",
    "    if futures_delivery_month=='F':\n",
    "        mth='Jan'\n",
    "        break\n",
    "    elif futures_delivery_month=='G':\n",
    "        mth='Feb'\n",
    "        break\n",
    "    elif futures_delivery_month=='H':\n",
    "        mth='Mar'\n",
    "        break\n",
    "    elif futures_delivery_month=='J':\n",
    "        mth='Apr'\n",
    "        break\n",
    "    elif futures_delivery_month=='K':\n",
    "        mth='May'\n",
    "        break\n",
    "    elif futures_delivery_month=='M':\n",
    "        mth='Jun'\n",
    "        break\n",
    "    elif futures_delivery_month=='N':\n",
    "        mth='Jul'\n",
    "        break\n",
    "    elif futures_delivery_month=='Q':\n",
    "        mth='Aug'\n",
    "        break\n",
    "    elif futures_delivery_month=='U':\n",
    "        mth='Sep'\n",
    "        break\n",
    "    elif futures_delivery_month=='V':\n",
    "        mth='Oct'\n",
    "        break\n",
    "    elif futures_delivery_month=='X':\n",
    "        mth='Nov'\n",
    "        break\n",
    "    elif futures_delivery_month=='Z':\n",
    "        mth='Dec'\n",
    "        break\n",
    "    else:\n",
    "        print 'You have not entered a correct symbol. Pleas re-enter: '\n",
    "\n",
    "\n",
    "year=raw_input('Please input the contract year in YYYY format: ')\n",
    "\n",
    "file_format='xls'\n",
    "\n",
    "\n",
    "#data_loc\n",
    "#CME\n",
    "#ICE\n",
    "\n",
    "#data_ts\n",
    "#Product + Futures Delivery Month + YYYY \n",
    "#HO\n",
    "#CL\n",
    "#RB\n",
    "#B\n",
    "#G\n",
    "\n",
    "\n",
    "mydata=quandl.get(data_code_loc+'/'+data_code_ts + futures_delivery_month+year)\n",
    "\n"
   ]
  },
  {
   "cell_type": "code",
   "execution_count": 93,
   "metadata": {},
   "outputs": [
    {
     "name": "stdout",
     "output_type": "stream",
     "text": [
      "C:\\Users\\boonsin.teo\\Documents\\Quandl\n"
     ]
    }
   ],
   "source": [
    "cd Quandl"
   ]
  },
  {
   "cell_type": "code",
   "execution_count": 94,
   "metadata": {},
   "outputs": [
    {
     "name": "stdout",
     "output_type": "stream",
     "text": [
      "C:\\Users\\boonsin.teo\\Documents\\Quandl\\HO\n"
     ]
    }
   ],
   "source": [
    "cd $data_code_ts"
   ]
  },
  {
   "cell_type": "code",
   "execution_count": 95,
   "metadata": {},
   "outputs": [
    {
     "name": "stdout",
     "output_type": "stream",
     "text": [
      "C:\\Users\\boonsin.teo\\Documents\\Quandl\\HO\\Mar\n"
     ]
    }
   ],
   "source": [
    "cd $mth"
   ]
  },
  {
   "cell_type": "code",
   "execution_count": 96,
   "metadata": {
    "collapsed": true
   },
   "outputs": [],
   "source": [
    "mydata.to_excel(mth+\" \"+year+\".\"+file_format)"
   ]
  },
  {
   "cell_type": "code",
   "execution_count": 97,
   "metadata": {},
   "outputs": [
    {
     "name": "stdout",
     "output_type": "stream",
     "text": [
      "C:\\Users\\boonsin.teo\\Documents\\Quandl\\HO\n"
     ]
    }
   ],
   "source": [
    "cd .."
   ]
  },
  {
   "cell_type": "code",
   "execution_count": 98,
   "metadata": {},
   "outputs": [
    {
     "name": "stdout",
     "output_type": "stream",
     "text": [
      "C:\\Users\\boonsin.teo\\Documents\\Quandl\n"
     ]
    }
   ],
   "source": [
    "cd .."
   ]
  },
  {
   "cell_type": "code",
   "execution_count": 99,
   "metadata": {},
   "outputs": [
    {
     "name": "stdout",
     "output_type": "stream",
     "text": [
      "C:\\Users\\boonsin.teo\\Documents\n"
     ]
    }
   ],
   "source": [
    "cd .."
   ]
  },
  {
   "cell_type": "code",
   "execution_count": null,
   "metadata": {
    "collapsed": true
   },
   "outputs": [],
   "source": []
  }
 ],
 "metadata": {
  "kernelspec": {
   "display_name": "Python 2",
   "language": "python",
   "name": "python2"
  },
  "language_info": {
   "codemirror_mode": {
    "name": "ipython",
    "version": 2
   },
   "file_extension": ".py",
   "mimetype": "text/x-python",
   "name": "python",
   "nbconvert_exporter": "python",
   "pygments_lexer": "ipython2",
   "version": "2.7.13"
  }
 },
 "nbformat": 4,
 "nbformat_minor": 2
}
