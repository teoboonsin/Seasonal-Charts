{
 "cells": [
  {
   "cell_type": "code",
   "execution_count": 791,
   "metadata": {
    "collapsed": true
   },
   "outputs": [],
   "source": [
    "\n",
    "def apply_factor(product1,product2):\n",
    "    z=1\n",
    "    y=1\n",
    "\n",
    "    if product1=='RB' and product2 =='RB':\n",
    "        z=42\n",
    "        y=42\n",
    "    elif product1=='HO' and product2 =='HO':\n",
    "        z=42\n",
    "        y=42\n",
    "    elif product1=='RB' and product2 =='HO':\n",
    "        z=42\n",
    "        y=42\n",
    "    elif product1=='HO' and product2 =='RB':\n",
    "        z=42\n",
    "        y=42\n",
    "    elif product1=='HO' and product2 =='CL':\n",
    "        z=42\n",
    "        y=1  \n",
    "    elif product1=='RB' and product2 =='CL':\n",
    "        z=42\n",
    "        y=1          \n",
    "    elif product1=='CL' and product2 =='B':\n",
    "        z=1\n",
    "        y=1       \n",
    "    elif product1=='G' and product2 =='G':\n",
    "        z=(1/7.45)\n",
    "        y=(1/7.45)\n",
    "    elif product1=='G' and product2 =='B':\n",
    "        z=(1/7.45)\n",
    "    elif product1==\"HO\" and product2=='G':\n",
    "        z=42\n",
    "        y=(1/7.45)\n",
    "    \n",
    "    else:\n",
    "        pass\n",
    "\n",
    "    return z,y\n",
    "\n",
    "\n",
    "\n",
    "\n",
    "class Mth_1(object):\n",
    "    \n",
    "    def __init__(self):\n",
    "        pass\n",
    "        \n",
    "    def pdt_type1(self):\n",
    "        \n",
    "        product=''\n",
    "        while True:\n",
    "            inst=int(raw_input('Please input the number of the product you want to see the seasonals: 1) Brent 2) Gasoil 3) HO 4) RBOB 5) WTI: '))\n",
    "    \n",
    "            if inst==1:\n",
    "                product='B'\n",
    "                break\n",
    "            elif inst==2:\n",
    "                product='G'\n",
    "                break   \n",
    "            elif inst==3:\n",
    "                product='HO'\n",
    "                break      \n",
    "            elif inst==4:\n",
    "                product='RB'\n",
    "                break       \n",
    "            elif inst==5:\n",
    "                product='CL'\n",
    "                break       \n",
    "            else:\n",
    "                print 'You did not input a correct number. Please try again.'\n",
    "        \n",
    "        return product\n",
    "    \n",
    "    def mth_no1(self):\n",
    "        month=''\n",
    "        while True:\n",
    "            Mth=int(raw_input('Please input the month of the contract which you wish to evaluate in numbers from 1-12: '))\n",
    "    \n",
    "            if Mth==1:\n",
    "                month='Jan'\n",
    "                break\n",
    "            elif Mth==2:\n",
    "                month='Feb'\n",
    "                break   \n",
    "            elif Mth==3:\n",
    "                month='Mar'\n",
    "                break   \n",
    "            elif Mth==4:\n",
    "                month='Apr'\n",
    "                break   \n",
    "            elif Mth==5:\n",
    "                month='May'\n",
    "                break          \n",
    "            elif Mth==6:\n",
    "                month='Jun'\n",
    "                break   \n",
    "            elif Mth==7:\n",
    "                month='Jul'\n",
    "                break   \n",
    "            elif Mth==8:\n",
    "                month='Aug'\n",
    "                break   \n",
    "            elif Mth==9:\n",
    "                month='Sep'\n",
    "                break   \n",
    "            elif Mth==10:\n",
    "                month='Oct'\n",
    "                break   \n",
    "            elif Mth==11:\n",
    "                month='Nov'\n",
    "                break   \n",
    "            elif Mth==12:\n",
    "                month='Dec'\n",
    "                break \n",
    "            else:\n",
    "                print 'You did not input a correct number. Please try again.'\n",
    "        \n",
    "        return month      \n",
    "\n",
    "    \n",
    "class Mth_2(object):\n",
    "    \n",
    "    def __init__(self):\n",
    "        pass\n",
    "        \n",
    "    def pdt_type2(self):\n",
    "        \n",
    "        product=''\n",
    "        while True:\n",
    "            inst=int(raw_input('Please input the number of the product you want to see the seasonals: 1) Brent 2) Gasoil 3) HO 4) RBOB 5) WTI: '))\n",
    "    \n",
    "            if inst==1:\n",
    "                product='B'\n",
    "                break\n",
    "            elif inst==2:\n",
    "                product='G'\n",
    "                break   \n",
    "            elif inst==3:\n",
    "                product='HO'\n",
    "                break      \n",
    "            elif inst==4:\n",
    "                product='RB'\n",
    "                break       \n",
    "            elif inst==5:\n",
    "                product='CL'\n",
    "                break       \n",
    "            else:\n",
    "                print 'You did not input a correct number. Please try again.'\n",
    "        \n",
    "        return product\n",
    "        \n",
    "    \n",
    "    def mth_no2(self):\n",
    "        month=''\n",
    "        while True:\n",
    "            Mth=int(raw_input('Please input the month of the contract which you wish to evaluate in numbers from 1-12: '))\n",
    "    \n",
    "            if Mth==1:\n",
    "                month='Jan'\n",
    "                break\n",
    "            elif Mth==2:\n",
    "                month='Feb'\n",
    "                break   \n",
    "            elif Mth==3:\n",
    "                month='Mar'\n",
    "                break   \n",
    "            elif Mth==4:\n",
    "                month='Apr'\n",
    "                break   \n",
    "            elif Mth==5:\n",
    "                month='May'\n",
    "                break          \n",
    "            elif Mth==6:\n",
    "                month='Jun'\n",
    "                break   \n",
    "            elif Mth==7:\n",
    "                month='Jul'\n",
    "                break   \n",
    "            elif Mth==8:\n",
    "                month='Aug'\n",
    "                break   \n",
    "            elif Mth==9:\n",
    "                month='Sep'\n",
    "                break   \n",
    "            elif Mth==10:\n",
    "                month='Oct'\n",
    "                break   \n",
    "            elif Mth==11:\n",
    "                month='Nov'\n",
    "                break   \n",
    "            elif Mth==12:\n",
    "                month='Dec'\n",
    "                break \n",
    "            else:\n",
    "                print 'You did not input a correct number. Please try again.'\n",
    "        \n",
    "        return month    \n"
   ]
  },
  {
   "cell_type": "code",
   "execution_count": 792,
   "metadata": {},
   "outputs": [],
   "source": [
    "import numpy as np\n",
    "import pandas as pd\n",
    "import os\n",
    "import statsmodels.tsa.stattools as ts\n",
    "import statsmodels.api as sm\n",
    "import matplotlib.pyplot as plt  \n",
    "%matplotlib inline"
   ]
  },
  {
   "cell_type": "code",
   "execution_count": null,
   "metadata": {
    "collapsed": true
   },
   "outputs": [],
   "source": []
  },
  {
   "cell_type": "code",
   "execution_count": 793,
   "metadata": {},
   "outputs": [
    {
     "name": "stdout",
     "output_type": "stream",
     "text": [
      "Please input the number of the product you want to see the seasonals: 1) Brent 2) Gasoil 3) HO 4) RBOB 5) WTI: 3\n",
      "Please input the month of the contract which you wish to evaluate in numbers from 1-12: 8\n",
      "Please specify the contract year: 2018\n",
      "Please input the number of the product you want to see the seasonals: 1) Brent 2) Gasoil 3) HO 4) RBOB 5) WTI: 5\n",
      "Please input the month of the contract which you wish to evaluate in numbers from 1-12: 8\n",
      "Please specify the contract year: 2018\n",
      "Please input start mth of seasonal period in MM format: 01\n",
      "Please input start day of seasonal period in DD format: 01\n",
      "Please input end mth of seasonal period in MM format: 06\n",
      "Please input end day of seasonal period in DD format: 25\n"
     ]
    }
   ],
   "source": [
    "###user specify instrument and contract month\n",
    "\n",
    "product1=''\n",
    "month1=''\n",
    "product2=''\n",
    "month2=''\n",
    "\n",
    "front_mth=Mth_1()\n",
    "product1 = front_mth.pdt_type1()\n",
    "month1=front_mth.mth_no1()\n",
    "seasonal_year1=str(raw_input('Please specify the contract year: '))\n",
    "\n",
    "back_mth=Mth_2()\n",
    "product2=back_mth.pdt_type2()\n",
    "month2=back_mth.mth_no2()\n",
    "seasonal_year2=str(raw_input('Please specify the contract year: '))\n",
    "\n",
    "#user specify period\n",
    "start_mth=raw_input('Please input start mth of seasonal period in MM format: ')\n",
    "start_day=raw_input('Please input start day of seasonal period in DD format: ')\n",
    "#i=int(raw_input('Please input 1 if start mth is the same as contract year and 0 if not: '))\n",
    "            \n",
    "end_mth=raw_input('Please input end mth of seasonal period in MM format: ')\n",
    "end_day=raw_input('Please input end day of seasonal period in DD format: ')\n",
    "            \n",
    "#j=int(raw_input('Please input 1 if end mth is the same as contract year and 0 if not: '))\n",
    "\n"
   ]
  },
  {
   "cell_type": "code",
   "execution_count": 794,
   "metadata": {},
   "outputs": [
    {
     "name": "stdout",
     "output_type": "stream",
     "text": [
      "C:\\Users\\boonsin.teo\\Documents\\Quandl\n"
     ]
    }
   ],
   "source": [
    "cd Quandl"
   ]
  },
  {
   "cell_type": "code",
   "execution_count": 795,
   "metadata": {},
   "outputs": [
    {
     "name": "stdout",
     "output_type": "stream",
     "text": [
      "C:\\Users\\boonsin.teo\\Documents\\Quandl\\HO\n"
     ]
    }
   ],
   "source": [
    "cd $product1"
   ]
  },
  {
   "cell_type": "code",
   "execution_count": 796,
   "metadata": {},
   "outputs": [
    {
     "name": "stdout",
     "output_type": "stream",
     "text": [
      "C:\\Users\\boonsin.teo\\Documents\\Quandl\\HO\\Aug\n"
     ]
    }
   ],
   "source": [
    "cd $month1"
   ]
  },
  {
   "cell_type": "code",
   "execution_count": null,
   "metadata": {
    "collapsed": true
   },
   "outputs": [],
   "source": []
  },
  {
   "cell_type": "code",
   "execution_count": 797,
   "metadata": {
    "collapsed": true
   },
   "outputs": [],
   "source": [
    "#read files - #front month\n",
    "\n",
    "path = os.getcwd()\n",
    "listing = os.listdir(path)\n",
    "\n",
    "month=month1+\" \"+seasonal_year1+\".xls\"\n",
    "\n",
    "for infile in listing:\n",
    "    if infile==month:\n",
    "        temp=pd.read_excel(infile)\n",
    "    else:\n",
    "        pass\n",
    "\n",
    "start_date=seasonal_year1+'-'+start_mth+'-'+start_day # create start date # assume same year\n",
    "end_date=seasonal_year1+'-'+end_mth+'-'+end_day # create end date # assume same year\n",
    "\n",
    "#Join a date series and temp together\n",
    "\n",
    "dates=pd.date_range(start_date, end_date) # range of dates for date axis\n",
    "dates=dates.strftime('%Y-%m-%d') #make sure no left out dates\n",
    "sample_data=np.arange(0,len(dates)) #just sample numbers to create dataframe\n",
    "\n",
    "dates_dataframe=pd.DataFrame({'Date':dates,'data':sample_data}) # create dates dataframe\n",
    "dates_dataframe=dates_dataframe.set_index('Date') # set index as Date to facilitate joining\n",
    "\n",
    "temp=temp.set_index('Date') # set index as Date to facilitate joining via dates\n",
    "temp=dates_dataframe.join(temp) # join dataframes together on Date\n",
    "\n",
    "#filter dates by the start and end date\n",
    "temp.reset_index(inplace=True)\n",
    "    \n",
    "temp=temp[temp['Date']>=start_date] # filter for start date\n",
    "\n",
    "temp=temp[temp['Date']<=end_date] # filter for end date\n",
    "\n",
    "temp['Date']=pd.to_datetime(temp['Date']).dt.strftime('%m/%d') # putting date in mm/dd form\n",
    "temp=temp.set_index('Date') # putting date back as index\n",
    "\n",
    "temp=pd.DataFrame(temp['Settle'],columns=['Settle']) # setting dataframe with date and settle only\n",
    "temp=temp.rename(index=str,columns={\"Settle\":\"Front_Month_Settle\"})\n",
    "\n"
   ]
  },
  {
   "cell_type": "code",
   "execution_count": 798,
   "metadata": {},
   "outputs": [
    {
     "data": {
      "text/html": [
       "<div>\n",
       "<style scoped>\n",
       "    .dataframe tbody tr th:only-of-type {\n",
       "        vertical-align: middle;\n",
       "    }\n",
       "\n",
       "    .dataframe tbody tr th {\n",
       "        vertical-align: top;\n",
       "    }\n",
       "\n",
       "    .dataframe thead th {\n",
       "        text-align: right;\n",
       "    }\n",
       "</style>\n",
       "<table border=\"1\" class=\"dataframe\">\n",
       "  <thead>\n",
       "    <tr style=\"text-align: right;\">\n",
       "      <th></th>\n",
       "      <th>Front_Month_Settle</th>\n",
       "    </tr>\n",
       "    <tr>\n",
       "      <th>Date</th>\n",
       "      <th></th>\n",
       "    </tr>\n",
       "  </thead>\n",
       "  <tbody>\n",
       "    <tr>\n",
       "      <th>01/01</th>\n",
       "      <td>NaN</td>\n",
       "    </tr>\n",
       "    <tr>\n",
       "      <th>01/02</th>\n",
       "      <td>1.9556</td>\n",
       "    </tr>\n",
       "    <tr>\n",
       "      <th>01/03</th>\n",
       "      <td>1.9871</td>\n",
       "    </tr>\n",
       "    <tr>\n",
       "      <th>01/04</th>\n",
       "      <td>1.9867</td>\n",
       "    </tr>\n",
       "    <tr>\n",
       "      <th>01/05</th>\n",
       "      <td>1.9774</td>\n",
       "    </tr>\n",
       "  </tbody>\n",
       "</table>\n",
       "</div>"
      ],
      "text/plain": [
       "       Front_Month_Settle\n",
       "Date                     \n",
       "01/01                 NaN\n",
       "01/02              1.9556\n",
       "01/03              1.9871\n",
       "01/04              1.9867\n",
       "01/05              1.9774"
      ]
     },
     "execution_count": 798,
     "metadata": {},
     "output_type": "execute_result"
    }
   ],
   "source": [
    "temp.head()"
   ]
  },
  {
   "cell_type": "code",
   "execution_count": 799,
   "metadata": {},
   "outputs": [
    {
     "name": "stdout",
     "output_type": "stream",
     "text": [
      "C:\\Users\\boonsin.teo\\Documents\\Quandl\\HO\n"
     ]
    }
   ],
   "source": [
    "cd .."
   ]
  },
  {
   "cell_type": "code",
   "execution_count": 800,
   "metadata": {},
   "outputs": [
    {
     "name": "stdout",
     "output_type": "stream",
     "text": [
      "C:\\Users\\boonsin.teo\\Documents\\Quandl\n"
     ]
    }
   ],
   "source": [
    "cd .."
   ]
  },
  {
   "cell_type": "code",
   "execution_count": 801,
   "metadata": {},
   "outputs": [
    {
     "name": "stdout",
     "output_type": "stream",
     "text": [
      "C:\\Users\\boonsin.teo\\Documents\n"
     ]
    }
   ],
   "source": [
    "cd .."
   ]
  },
  {
   "cell_type": "code",
   "execution_count": 802,
   "metadata": {},
   "outputs": [
    {
     "name": "stdout",
     "output_type": "stream",
     "text": [
      "C:\\Users\\boonsin.teo\\Documents\\Quandl\n"
     ]
    }
   ],
   "source": [
    "cd Quandl"
   ]
  },
  {
   "cell_type": "code",
   "execution_count": 803,
   "metadata": {},
   "outputs": [
    {
     "name": "stdout",
     "output_type": "stream",
     "text": [
      "C:\\Users\\boonsin.teo\\Documents\\Quandl\\CL\n"
     ]
    }
   ],
   "source": [
    "cd $product2"
   ]
  },
  {
   "cell_type": "code",
   "execution_count": 804,
   "metadata": {},
   "outputs": [
    {
     "name": "stdout",
     "output_type": "stream",
     "text": [
      "C:\\Users\\boonsin.teo\\Documents\\Quandl\\CL\\Aug\n"
     ]
    }
   ],
   "source": [
    "cd $month2"
   ]
  },
  {
   "cell_type": "code",
   "execution_count": 805,
   "metadata": {
    "collapsed": true
   },
   "outputs": [],
   "source": [
    "#read files - #back month\n",
    "\n",
    "path = os.getcwd()\n",
    "listing = os.listdir(path)\n",
    "\n",
    "month=month1+\" \"+seasonal_year1+\".xls\"\n",
    "\n",
    "for infile in listing:\n",
    "    if infile==month:\n",
    "        temp1=pd.read_excel(infile)\n",
    "    else:\n",
    "        pass\n",
    "\n",
    "start_date=seasonal_year1+'-'+start_mth+'-'+start_day # create start date # assume same year\n",
    "end_date=seasonal_year1+'-'+end_mth+'-'+end_day # create end date # assume same year\n",
    "\n",
    "\n",
    "#Join a date dataframe and the temp dataframe together\n",
    "            \n",
    "dates=pd.date_range(start_date, end_date) # range of dates for date axis\n",
    "dates=dates.strftime('%Y-%m-%d') #make sure no left out dates\n",
    "sample_data=np.arange(0,len(dates)) #just sample numbers to create dataframe\n",
    "    \n",
    "dates_dataframe=pd.DataFrame({'Date':dates,'data':sample_data}) # create dates dataframe\n",
    "dates_dataframe=dates_dataframe.set_index('Date') # set index as Date to facilitate joining\n",
    "    \n",
    "temp1=temp1.set_index('Date') # set index as Date to facilitate joining\n",
    "\n",
    "temp1=dates_dataframe.join(temp1) # join dataframes together on Date\n",
    "\n",
    "#filter dates by the start and end date\n",
    "temp1.reset_index(inplace=True)\n",
    "    \n",
    "temp1=temp1[temp1['Date']>=start_date] # filter for start date\n",
    "\n",
    "temp1=temp1[temp1['Date']<=end_date] # filter for end date\n",
    "\n",
    "temp1['Date']=pd.to_datetime(temp1['Date']).dt.strftime('%m/%d') # putting date in mm/dd form\n",
    "temp1=temp1.set_index('Date') # putting date back as index\n",
    "temp1=pd.DataFrame(temp1['Settle'],columns=['Settle'])\n",
    "temp1=temp1.rename(index=str,columns={\"Settle\":\"Back_Month_Settle\"})\n",
    "\n",
    "#join front month and back month\n",
    "\n",
    "temp=temp.join(temp1)\n"
   ]
  },
  {
   "cell_type": "code",
   "execution_count": null,
   "metadata": {
    "collapsed": true
   },
   "outputs": [],
   "source": []
  },
  {
   "cell_type": "code",
   "execution_count": 806,
   "metadata": {},
   "outputs": [
    {
     "name": "stdout",
     "output_type": "stream",
     "text": [
      "C:\\Users\\boonsin.teo\\Documents\\Quandl\\CL\n"
     ]
    }
   ],
   "source": [
    "cd .."
   ]
  },
  {
   "cell_type": "code",
   "execution_count": 807,
   "metadata": {},
   "outputs": [
    {
     "name": "stdout",
     "output_type": "stream",
     "text": [
      "C:\\Users\\boonsin.teo\\Documents\\Quandl\n"
     ]
    }
   ],
   "source": [
    "cd .."
   ]
  },
  {
   "cell_type": "code",
   "execution_count": 808,
   "metadata": {},
   "outputs": [
    {
     "name": "stdout",
     "output_type": "stream",
     "text": [
      "C:\\Users\\boonsin.teo\\Documents\n"
     ]
    }
   ],
   "source": [
    "cd .."
   ]
  },
  {
   "cell_type": "code",
   "execution_count": 809,
   "metadata": {
    "collapsed": true
   },
   "outputs": [],
   "source": [
    "#drop rows with all NAs\n",
    "temp.dropna(axis=0,how='any',inplace=True) # drop rows with all NAs"
   ]
  },
  {
   "cell_type": "code",
   "execution_count": 810,
   "metadata": {
    "collapsed": true
   },
   "outputs": [],
   "source": [
    "zf=apply_factor(product1,product2)"
   ]
  },
  {
   "cell_type": "code",
   "execution_count": 811,
   "metadata": {},
   "outputs": [],
   "source": [
    "#adf calculation\n",
    "temp['Spread']=temp['Front_Month_Settle']*zf[0]-temp['Back_Month_Settle']*zf[1]\n",
    "\n",
    "adf=float(ts.adfuller(temp['Spread'])[0])"
   ]
  },
  {
   "cell_type": "code",
   "execution_count": 812,
   "metadata": {},
   "outputs": [
    {
     "name": "stdout",
     "output_type": "stream",
     "text": [
      "Please input the lookback period: 20\n"
     ]
    },
    {
     "name": "stderr",
     "output_type": "stream",
     "text": [
      "C:\\Anaconda\\lib\\site-packages\\ipykernel_launcher.py:2: FutureWarning: pd.rolling_mean is deprecated for Series and will be removed in a future version, replace with \n",
      "\tSeries.rolling(window=20,center=False).mean()\n",
      "  \n",
      "C:\\Anaconda\\lib\\site-packages\\ipykernel_launcher.py:3: FutureWarning: pd.rolling_std is deprecated for Series and will be removed in a future version, replace with \n",
      "\tSeries.rolling(window=20,center=False).std()\n",
      "  This is separate from the ipykernel package so we can avoid doing imports until\n"
     ]
    }
   ],
   "source": [
    "lookback=int(raw_input('Please input the lookback period: '))\n",
    "temp['MA']=pd.rolling_mean(temp['Spread'],lookback)\n",
    "temp['M_STD']=pd.rolling_std(temp['Spread'],lookback)"
   ]
  },
  {
   "cell_type": "code",
   "execution_count": 813,
   "metadata": {
    "collapsed": true
   },
   "outputs": [],
   "source": [
    "temp['z_score']=(temp['Spread']-temp['MA'])/temp['M_STD']"
   ]
  },
  {
   "cell_type": "code",
   "execution_count": 814,
   "metadata": {},
   "outputs": [
    {
     "name": "stdout",
     "output_type": "stream",
     "text": [
      "Please input the z score for trade entry as a positive float number: 2.1\n",
      "Please input the z score for trade exit as a positive float number: 1\n"
     ]
    }
   ],
   "source": [
    "z_score_entry=float(raw_input('Please input the z score for trade entry as a positive float number: '))\n",
    "z_score_exit=float(raw_input('Please input the z score for trade exit as a positive float number: '))\n",
    "\n",
    "temp['long_entry']=temp['z_score'] <= -z_score_entry\n",
    "temp['long_exit']=temp['z_score']>=-z_score_exit\n",
    "temp['short_entry']=temp['z_score']>=z_score_entry\n",
    "temp['short_exit']=temp['z_score']<=z_score_exit"
   ]
  },
  {
   "cell_type": "code",
   "execution_count": 815,
   "metadata": {},
   "outputs": [
    {
     "name": "stderr",
     "output_type": "stream",
     "text": [
      "C:\\Anaconda\\lib\\site-packages\\ipykernel_launcher.py:1: SettingWithCopyWarning: \n",
      "A value is trying to be set on a copy of a slice from a DataFrame\n",
      "\n",
      "See the caveats in the documentation: http://pandas.pydata.org/pandas-docs/stable/indexing.html#indexing-view-versus-copy\n",
      "  \"\"\"Entry point for launching an IPython kernel.\n",
      "C:\\Anaconda\\lib\\site-packages\\ipykernel_launcher.py:2: SettingWithCopyWarning: \n",
      "A value is trying to be set on a copy of a slice from a DataFrame\n",
      "\n",
      "See the caveats in the documentation: http://pandas.pydata.org/pandas-docs/stable/indexing.html#indexing-view-versus-copy\n",
      "  \n",
      "C:\\Anaconda\\lib\\site-packages\\ipykernel_launcher.py:4: SettingWithCopyWarning: \n",
      "A value is trying to be set on a copy of a slice from a DataFrame\n",
      "\n",
      "See the caveats in the documentation: http://pandas.pydata.org/pandas-docs/stable/indexing.html#indexing-view-versus-copy\n",
      "  after removing the cwd from sys.path.\n",
      "C:\\Anaconda\\lib\\site-packages\\ipykernel_launcher.py:5: SettingWithCopyWarning: \n",
      "A value is trying to be set on a copy of a slice from a DataFrame\n",
      "\n",
      "See the caveats in the documentation: http://pandas.pydata.org/pandas-docs/stable/indexing.html#indexing-view-versus-copy\n",
      "  \"\"\"\n"
     ]
    }
   ],
   "source": [
    "temp['long_entry'][temp['long_entry']==True]=2\n",
    "temp['long_exit'][temp['long_exit']==True]=-1\n",
    "\n",
    "temp['short_entry'][temp['short_entry']==True]=-2\n",
    "temp['short_exit'][temp['short_exit']==True]=1\n",
    "\n",
    "temp['long_positions']=temp['long_entry']+temp['long_exit']\n",
    "\n",
    "temp['long_positions'][temp['long_positions']==0]=np.nan\n",
    "temp['long_positions'][temp['long_positions']==-1]=0\n",
    "temp['long_positions'][temp['long_positions']==2]=1\n",
    "temp['long_positions']=temp['long_positions'].fillna(method='ffill')\n",
    "\n",
    "temp['short_positions']=temp['short_entry']+temp['short_exit']\n",
    "temp['short_positions'][temp['short_positions']==0]=np.nan\n",
    "temp['short_positions'][temp['short_positions']==1]=0\n",
    "temp['short_positions'][temp['short_positions']==-2]=-1\n",
    "temp['short_positions']=temp['short_positions'].fillna(method='ffill')\n",
    "                            \n",
    "temp['positions']=temp['long_positions']+temp['short_positions']                            "
   ]
  },
  {
   "cell_type": "code",
   "execution_count": null,
   "metadata": {
    "collapsed": true
   },
   "outputs": [],
   "source": []
  },
  {
   "cell_type": "code",
   "execution_count": 816,
   "metadata": {
    "collapsed": true
   },
   "outputs": [],
   "source": [
    "#hedge ratio calculation\n",
    "model=sm.OLS(temp['Front_Month_Settle']*zf[0], temp['Back_Month_Settle']*zf[1])\n",
    "model=model.fit()\n",
    "hedge_ratio=model.params[0]"
   ]
  },
  {
   "cell_type": "code",
   "execution_count": 817,
   "metadata": {
    "collapsed": true
   },
   "outputs": [],
   "source": [
    "temp['pnl']=temp['positions'].shift(1)*(temp['Spread']-temp['Spread'].shift(1))*1000"
   ]
  },
  {
   "cell_type": "code",
   "execution_count": 818,
   "metadata": {
    "collapsed": true
   },
   "outputs": [],
   "source": [
    "temp['cumpnl']=temp['pnl'].cumsum()"
   ]
  },
  {
   "cell_type": "code",
   "execution_count": 819,
   "metadata": {
    "collapsed": true
   },
   "outputs": [],
   "source": [
    "final_pnl=temp['cumpnl'].tail(1)"
   ]
  },
  {
   "cell_type": "code",
   "execution_count": 820,
   "metadata": {},
   "outputs": [
    {
     "name": "stdout",
     "output_type": "stream",
     "text": [
      "The adf is -1.62.\n",
      "The hedge ratio is 1.33\n",
      "The final pnl w/o using hedge ratio is -2123.40.\n"
     ]
    }
   ],
   "source": [
    "print 'The adf is %.2f.' %adf\n",
    "print 'The hedge ratio is %.2f' %hedge_ratio\n",
    "print 'The final pnl w/o using hedge ratio is %.2f.' %final_pnl.sum()"
   ]
  },
  {
   "cell_type": "code",
   "execution_count": null,
   "metadata": {
    "collapsed": true
   },
   "outputs": [],
   "source": []
  },
  {
   "cell_type": "code",
   "execution_count": 821,
   "metadata": {},
   "outputs": [
    {
     "name": "stdout",
     "output_type": "stream",
     "text": [
      "The adf with hedge ratio is -3.05.\n",
      "The final pnl using hedge ratio is -916.96.\n"
     ]
    }
   ],
   "source": [
    "#using hedge ratio\n",
    "temp['Spread_hr']=temp['Front_Month_Settle']*zf[0]-hedge_ratio*temp['Back_Month_Settle']*zf[1]\n",
    "\n",
    "adf_hr=float(ts.adfuller(temp['Spread_hr'])[0])\n",
    "temp['pnl_hr']=temp['positions'].shift(1)*(temp['Spread_hr']-temp['Spread_hr'].shift(1))*1000\n",
    "temp['cumpnl_hr']=temp['pnl_hr'].cumsum()\n",
    "final_pnl_hr=temp['cumpnl_hr'].tail(1)\n",
    "\n",
    "print 'The adf with hedge ratio is %.2f.' %adf_hr\n",
    "print 'The final pnl using hedge ratio is %.2f.' %final_pnl_hr.sum()\n"
   ]
  },
  {
   "cell_type": "code",
   "execution_count": 822,
   "metadata": {
    "scrolled": true
   },
   "outputs": [
    {
     "data": {
      "text/plain": [
       "<matplotlib.axes._subplots.AxesSubplot at 0x1256a310>"
      ]
     },
     "execution_count": 822,
     "metadata": {},
     "output_type": "execute_result"
    },
    {
     "data": {
      "image/png": "[encoded data removed]",
      "text/plain": [
       "<matplotlib.figure.Figure at 0x12719ed0>"
      ]
     },
     "metadata": {},
     "output_type": "display_data"
    }
   ],
   "source": [
    "#to plot equity curve\n",
    "temp['cumpnl'].plot()"
   ]
  },
  {
   "cell_type": "code",
   "execution_count": 823,
   "metadata": {},
   "outputs": [
    {
     "name": "stdout",
     "output_type": "stream",
     "text": [
      "Please input the date to check in mm/dd format: 05/14\n"
     ]
    }
   ],
   "source": [
    "z_score_date=raw_input(\"Please input the date to check in mm/dd format: \")"
   ]
  },
  {
   "cell_type": "code",
   "execution_count": 824,
   "metadata": {},
   "outputs": [
    {
     "name": "stdout",
     "output_type": "stream",
     "text": [
      "Trade Entry Check!\n",
      "The z-score is 2.50.\n"
     ]
    }
   ],
   "source": [
    "if temp['z_score'].loc[z_score_date]<=-z_score_entry or temp['z_score'].loc[z_score_date]>=z_score_entry:\n",
    "    print \"Trade Entry Check!\"\n",
    "    print 'The z-score is %.2f.' %temp['z_score'].loc[z_score_date] \n",
    "else:\n",
    "    print 'No entry signal. Please check for exit signal if already in the trade.'\n",
    "    print 'The z-score is %.2f.' %temp['z_score'].loc[z_score_date] "
   ]
  },
  {
   "cell_type": "code",
   "execution_count": null,
   "metadata": {
    "collapsed": true
   },
   "outputs": [],
   "source": []
  },
  {
   "cell_type": "code",
   "execution_count": null,
   "metadata": {
    "collapsed": true
   },
   "outputs": [],
   "source": []
  },
  {
   "cell_type": "code",
   "execution_count": null,
   "metadata": {
    "collapsed": true
   },
   "outputs": [],
   "source": []
  },
  {
   "cell_type": "code",
   "execution_count": null,
   "metadata": {
    "collapsed": true
   },
   "outputs": [],
   "source": []
  },
  {
   "cell_type": "code",
   "execution_count": null,
   "metadata": {
    "collapsed": true
   },
   "outputs": [],
   "source": []
  },
  {
   "cell_type": "code",
   "execution_count": null,
   "metadata": {
    "collapsed": true
   },
   "outputs": [],
   "source": []
  },
  {
   "cell_type": "code",
   "execution_count": null,
   "metadata": {
    "collapsed": true
   },
   "outputs": [],
   "source": []
  },
  {
   "cell_type": "code",
   "execution_count": null,
   "metadata": {
    "collapsed": true
   },
   "outputs": [],
   "source": []
  },
  {
   "cell_type": "code",
   "execution_count": null,
   "metadata": {
    "collapsed": true,
    "scrolled": true
   },
   "outputs": [],
   "source": []
  },
  {
   "cell_type": "code",
   "execution_count": null,
   "metadata": {
    "collapsed": true
   },
   "outputs": [],
   "source": []
  },
  {
   "cell_type": "code",
   "execution_count": null,
   "metadata": {
    "collapsed": true
   },
   "outputs": [],
   "source": []
  },
  {
   "cell_type": "code",
   "execution_count": null,
   "metadata": {
    "collapsed": true
   },
   "outputs": [],
   "source": []
  },
  {
   "cell_type": "code",
   "execution_count": null,
   "metadata": {
    "collapsed": true
   },
   "outputs": [],
   "source": []
  },
  {
   "cell_type": "code",
   "execution_count": null,
   "metadata": {
    "collapsed": true
   },
   "outputs": [],
   "source": []
  },
  {
   "cell_type": "code",
   "execution_count": null,
   "metadata": {
    "collapsed": true
   },
   "outputs": [],
   "source": []
  },
  {
   "cell_type": "code",
   "execution_count": null,
   "metadata": {
    "collapsed": true
   },
   "outputs": [],
   "source": []
  },
  {
   "cell_type": "code",
   "execution_count": null,
   "metadata": {
    "collapsed": true
   },
   "outputs": [],
   "source": []
  },
  {
   "cell_type": "code",
   "execution_count": null,
   "metadata": {
    "collapsed": true
   },
   "outputs": [],
   "source": []
  },
  {
   "cell_type": "code",
   "execution_count": null,
   "metadata": {
    "collapsed": true
   },
   "outputs": [],
   "source": []
  },
  {
   "cell_type": "code",
   "execution_count": null,
   "metadata": {
    "collapsed": true
   },
   "outputs": [],
   "source": []
  }
 ],
 "metadata": {
  "kernelspec": {
   "display_name": "Python 2",
   "language": "python",
   "name": "python2"
  },
  "language_info": {
   "codemirror_mode": {
    "name": "ipython",
    "version": 2
   },
   "file_extension": ".py",
   "mimetype": "text/x-python",
   "name": "python",
   "nbconvert_exporter": "python",
   "pygments_lexer": "ipython2",
   "version": "2.7.13"
  }
 },
 "nbformat": 4,
 "nbformat_minor": 2
}
