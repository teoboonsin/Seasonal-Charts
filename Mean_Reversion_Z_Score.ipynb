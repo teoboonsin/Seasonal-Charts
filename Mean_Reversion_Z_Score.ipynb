{
 "cells": [
  {
   "cell_type": "code",
   "execution_count": 801,
   "metadata": {},
   "outputs": [
    {
     "name": "stdout",
     "output_type": "stream",
     "text": [
      "Please input the number of the product you want to see the seasonals: 1) Brent 2) Gasoil 3) HO 4) RBOB 5) WTI: 5\n",
      "Please input the month of the contract which you wish to evaluate in numbers from 1-12: 8\n",
      "Please input the number of the product you want to see the seasonals: 1) Brent 2) Gasoil 3) HO 4) RBOB 5) WTI: 1\n",
      "Please input the month of the contract which you wish to evaluate in numbers from 1-12: 8\n"
     ]
    }
   ],
   "source": [
    "\n",
    "def z_factor(product1,product2):\n",
    "    z=1\n",
    "    y=1\n",
    "    factor=1000\n",
    "    if product1=='RB' and product2 =='RB':\n",
    "        z=42\n",
    "        y=42\n",
    "    elif product1=='HO' and product2 =='HO':\n",
    "        z=42\n",
    "        y=42\n",
    "    elif product1=='RB' and product2 =='HO':\n",
    "        z=42\n",
    "        y=42\n",
    "    elif product1=='HO' and product2 =='RB':\n",
    "        z=42\n",
    "        y=42\n",
    "    elif product1=='G' and product2 =='G':\n",
    "        factor=100\n",
    "    elif product1=='G' and product2 =='B':\n",
    "        z=(1/7.45)\n",
    "    elif product1==\"HO\" and product2=='G':\n",
    "        z=42\n",
    "        y=(1/7.45)\n",
    "    \n",
    "    else:\n",
    "        z=1\n",
    "        y=1\n",
    "        factor=1000\n",
    "    \n",
    "    return z,y, factor\n",
    "        \n",
    "def create_sprd(dataframe1, dataframe2):\n",
    "   \n",
    "    dataframe1.reset_index(inplace=True)\n",
    "    dataframe2.reset_index(inplace=True)\n",
    "    date=dataframe1['Date']\n",
    "    \n",
    "    dataframe1.drop(columns=['Date'],inplace=True)\n",
    "    dataframe2.drop(columns=['Date'],inplace=True)\n",
    "    \n",
    "    while True:\n",
    "        sprd_type=int(raw_input('Please indicate if this is a 1) Crack or 2) Spread - please input integer 1 or 2: '))\n",
    "        \n",
    "        if sprd_type==1:\n",
    "            \n",
    "            new_df=dataframe1*42-dataframe2\n",
    "            new_df['Date']=date\n",
    "            new_df.set_index('Date',inplace=True)\n",
    "            new_df.fillna(method='ffill',inplace=True)\n",
    "            new_df.fillna(method='bfill',inplace=True)\n",
    "            \n",
    "            return new_df\n",
    "            break\n",
    "        \n",
    "        elif sprd_type==2:\n",
    "            \n",
    "            new_df= dataframe1-dataframe2\n",
    "            new_df['Date']=date\n",
    "            new_df.set_index('Date',inplace=True)\n",
    "            new_df.fillna(method='ffill',inplace=True)\n",
    "            new_df.fillna(method='bfill',inplace=True)\n",
    "            \n",
    "            return new_df\n",
    "            break\n",
    "        \n",
    "        else:\n",
    "            print 'You have inputted incorrectly. Please try again and enter either integer 1 or 2.'\n",
    "    \n",
    "\n",
    "class Mth_1(object):\n",
    "    \n",
    "    def __init__(self):\n",
    "        pass\n",
    "        \n",
    "    def pdt_type1(self):\n",
    "        \n",
    "        product=''\n",
    "        while True:\n",
    "            inst=int(raw_input('Please input the number of the product you want to see the seasonals: 1) Brent 2) Gasoil 3) HO 4) RBOB 5) WTI: '))\n",
    "    \n",
    "            if inst==1:\n",
    "                product='B'\n",
    "                break\n",
    "            elif inst==2:\n",
    "                product='G'\n",
    "                break   \n",
    "            elif inst==3:\n",
    "                product='HO'\n",
    "                break      \n",
    "            elif inst==4:\n",
    "                product='RB'\n",
    "                break       \n",
    "            elif inst==5:\n",
    "                product='CL'\n",
    "                break       \n",
    "            else:\n",
    "                print 'You did not input a correct number. Please try again.'\n",
    "        \n",
    "        return product\n",
    "        \n",
    "    \n",
    "    def mth_no1(self):\n",
    "        month=''\n",
    "        while True:\n",
    "            Mth=int(raw_input('Please input the month of the contract which you wish to evaluate in numbers from 1-12: '))\n",
    "    \n",
    "            if Mth==1:\n",
    "                month='Jan'\n",
    "                break\n",
    "            elif Mth==2:\n",
    "                month='Feb'\n",
    "                break   \n",
    "            elif Mth==3:\n",
    "                month='Mar'\n",
    "                break   \n",
    "            elif Mth==4:\n",
    "                month='Apr'\n",
    "                break   \n",
    "            elif Mth==5:\n",
    "                month='May'\n",
    "                break          \n",
    "            elif Mth==6:\n",
    "                month='Jun'\n",
    "                break   \n",
    "            elif Mth==7:\n",
    "                month='Jul'\n",
    "                break   \n",
    "            elif Mth==8:\n",
    "                month='Aug'\n",
    "                break   \n",
    "            elif Mth==9:\n",
    "                month='Sep'\n",
    "                break   \n",
    "            elif Mth==10:\n",
    "                month='Oct'\n",
    "                break   \n",
    "            elif Mth==11:\n",
    "                month='Nov'\n",
    "                break   \n",
    "            elif Mth==12:\n",
    "                month='Dec'\n",
    "                break \n",
    "            else:\n",
    "                print 'You did not input a correct number. Please try again.'\n",
    "        \n",
    "        return month\n",
    "\n",
    "    def dataframe_create(self,start_mth,start_day,end_mth,end_day,i,j):\n",
    "\n",
    "        count=0\n",
    "        path = os.getcwd()\n",
    "        \n",
    "        listing = os.listdir(path)\n",
    "        for infile in listing:\n",
    "            temp=pd.read_excel(infile) #read each file into panda dataframe\n",
    "    \n",
    "            contract_yr_str=infile[-8:-4] # get the contract year\n",
    "    \n",
    "            seasonal_year=int(contract_yr_str)-1 # get the seasonal year to create the index - prev year\n",
    "            seasonal_year=str(seasonal_year) # convert to string\n",
    "\n",
    "            start_date=str(int(seasonal_year)+i)+'-'+start_mth+'-'+start_day # create start date\n",
    "            end_date=str(int(seasonal_year)+j)+'-'+end_mth+'-'+end_day # create end date\n",
    "            \n",
    "            #Join a date dataframe and the temp dataframe together\n",
    "            \n",
    "            dates=pd.date_range(start_date, end_date) # range of dates for date axis\n",
    "            dates=dates.strftime('%Y-%m-%d') #make sure no left out dates\n",
    "            sample_data=np.arange(0,len(dates)) #just sample numbers to create dataframe\n",
    "    \n",
    "            dates_dataframe=pd.DataFrame({'Date':dates,'data':sample_data}) # create dates dataframe\n",
    "            dates_dataframe=dates_dataframe.set_index('Date') # set index as Date to facilitate joining\n",
    "    \n",
    "            temp=temp.set_index('Date') # set index as Date to facilitate joining\n",
    "    \n",
    "            temp=dates_dataframe.join(temp) # join dataframes together on Date\n",
    "               \n",
    "            #filter dates by the start and end date\n",
    "            temp.reset_index(inplace=True)\n",
    "    \n",
    "            temp=temp[temp['Date']>=start_date] # filter for start date\n",
    "\n",
    "            temp=temp[temp['Date']<=end_date] # filter for end date\n",
    "\n",
    "            temp['Date']=pd.to_datetime(temp['Date']).dt.strftime('%m/%d') # putting date in mm/dd form\n",
    "            temp=temp.set_index('Date') # putting date back as index\n",
    "            temp=pd.DataFrame(temp['Settle'],columns=['Settle']) # setting dataframe with date and settle only\n",
    "\n",
    "    \n",
    "            if count==0:\n",
    "                Seasonal_Combi=temp\n",
    "                seasonal_year=str(int(seasonal_year)+1)\n",
    "                Seasonal_Combi.rename(columns={'Settle':seasonal_year},inplace=True)\n",
    "        \n",
    "                count+=1\n",
    "        \n",
    "            else:\n",
    "    \n",
    "                seasonal_year=str(int(seasonal_year)+1)\n",
    "                Seasonal_Combi['Settle']=temp['Settle']\n",
    "                Seasonal_Combi.rename(columns={'Settle':seasonal_year},inplace=True)\n",
    "\n",
    "        #don't need this, i believe\n",
    "        #Seasonal_Combi.drop(columns=['Open','High','Low','Last','Change', 'Volume','Prev. Day Open Interest'],inplace=True)   \n",
    "\n",
    "        \n",
    "        return Seasonal_Combi\n",
    "            \n",
    "            \n",
    "\n",
    "class Mth_2(object):\n",
    "    \n",
    "    def __init__(self):\n",
    "        pass\n",
    "        \n",
    "    def pdt_type2(self):\n",
    "        \n",
    "        product=''\n",
    "        while True:\n",
    "            inst=int(raw_input('Please input the number of the product you want to see the seasonals: 1) Brent 2) Gasoil 3) HO 4) RBOB 5) WTI: '))\n",
    "    \n",
    "            if inst==1:\n",
    "                product='B'\n",
    "                break\n",
    "            elif inst==2:\n",
    "                product='G'\n",
    "                break   \n",
    "            elif inst==3:\n",
    "                product='HO'\n",
    "                break      \n",
    "            elif inst==4:\n",
    "                product='RB'\n",
    "                break       \n",
    "            elif inst==5:\n",
    "                product='CL'\n",
    "                break       \n",
    "            else:\n",
    "                print 'You did not input a correct number. Please try again.'\n",
    "        \n",
    "        return product\n",
    "        \n",
    "    \n",
    "    def mth_no2(self):\n",
    "        month=''\n",
    "        while True:\n",
    "            Mth=int(raw_input('Please input the month of the contract which you wish to evaluate in numbers from 1-12: '))\n",
    "    \n",
    "            if Mth==1:\n",
    "                month='Jan'\n",
    "                break\n",
    "            elif Mth==2:\n",
    "                month='Feb'\n",
    "                break   \n",
    "            elif Mth==3:\n",
    "                month='Mar'\n",
    "                break   \n",
    "            elif Mth==4:\n",
    "                month='Apr'\n",
    "                break   \n",
    "            elif Mth==5:\n",
    "                month='May'\n",
    "                break          \n",
    "            elif Mth==6:\n",
    "                month='Jun'\n",
    "                break   \n",
    "            elif Mth==7:\n",
    "                month='Jul'\n",
    "                break   \n",
    "            elif Mth==8:\n",
    "                month='Aug'\n",
    "                break   \n",
    "            elif Mth==9:\n",
    "                month='Sep'\n",
    "                break   \n",
    "            elif Mth==10:\n",
    "                month='Oct'\n",
    "                break   \n",
    "            elif Mth==11:\n",
    "                month='Nov'\n",
    "                break   \n",
    "            elif Mth==12:\n",
    "                month='Dec'\n",
    "                break \n",
    "            else:\n",
    "                print 'You did not input a correct number. Please try again.'\n",
    "        \n",
    "        return month\n",
    "\n",
    "    def dataframe_create(self, start_mth, start_day, end_mth,end_day,i,j):\n",
    "\n",
    "        count=0\n",
    "        path = os.getcwd()\n",
    "\n",
    "        listing = os.listdir(path)\n",
    "        for infile in listing:\n",
    "            temp=pd.read_excel(infile) #read each file into panda dataframe\n",
    "    \n",
    "            contract_yr_str=infile[-8:-4] # get the contract year\n",
    "    \n",
    "            seasonal_year=int(contract_yr_str)-1 # get the seasonal year to create the index - prev year\n",
    "            seasonal_year=str(seasonal_year) # convert to string\n",
    "     \n",
    "            start_date=str(int(seasonal_year)+i)+'-'+start_mth+'-'+start_day # create start date\n",
    "            end_date=str(int(seasonal_year)+j)+'-'+end_mth+'-'+end_day # create end date\n",
    "            \n",
    "            #Join a date dataframe and the temp dataframe together\n",
    "            \n",
    "            dates=pd.date_range(start_date, end_date) # range of dates for date axis\n",
    "            dates=dates.strftime('%Y-%m-%d') #make sure no left out dates\n",
    "            sample_data=np.arange(0,len(dates)) #just sample numbers to create dataframe\n",
    "    \n",
    "            dates_dataframe=pd.DataFrame({'Date':dates,'data':sample_data}) # create dates dataframe\n",
    "            dates_dataframe=dates_dataframe.set_index('Date') # set index as Date to facilitate joining\n",
    "    \n",
    "            temp=temp.set_index('Date') # set index as Date to facilitate joining\n",
    "    \n",
    "            temp=dates_dataframe.join(temp) # join dataframes together on Date\n",
    "               \n",
    "            #filter dates by the start and end date\n",
    "            temp.reset_index(inplace=True)\n",
    "    \n",
    "            temp=temp[temp['Date']>=start_date] # filter for start date\n",
    "\n",
    "            temp=temp[temp['Date']<=end_date] # filter for end date\n",
    "\n",
    "            temp['Date']=pd.to_datetime(temp['Date']).dt.strftime('%m/%d') # putting date in mm/dd form\n",
    "            temp=temp.set_index('Date') # putting date back as index\n",
    "            temp=pd.DataFrame(temp['Settle'],columns=['Settle']) # setting dataframe with date and settle only\n",
    "    \n",
    "            if count==0:\n",
    "                Seasonal_Combi=temp\n",
    "                seasonal_year=str(int(seasonal_year)+1)\n",
    "                Seasonal_Combi.rename(columns={'Settle':seasonal_year},inplace=True)\n",
    "        \n",
    "                count+=1\n",
    "        \n",
    "            else:\n",
    "    \n",
    "                seasonal_year=str(int(seasonal_year)+1)\n",
    "                Seasonal_Combi['Settle']=temp['Settle']\n",
    "                Seasonal_Combi.rename(columns={'Settle':seasonal_year},inplace=True)\n",
    "\n",
    "        #Seasonal_Combi.drop(columns=['Open','High','Low','Last','Change','Volume','Prev. Day Open Interest'],inplace=True)   \n",
    "\n",
    "        \n",
    "        return Seasonal_Combi\n",
    "    \n",
    "\n",
    "        \n",
    "    \n",
    "import numpy as np\n",
    "import pandas as pd\n",
    "import os\n",
    "import statsmodels.tsa.stattools as ts\n",
    "import matplotlib.pyplot as plt  \n",
    "%matplotlib inline\n",
    "\n",
    "#user specify instrument and contract month\n",
    "\n",
    "product1=''\n",
    "month1=''\n",
    "product2=''\n",
    "month2=''\n",
    "\n",
    "front_mth=Mth_1()\n",
    "product1 = front_mth.pdt_type1()\n",
    "month1=front_mth.mth_no1()\n",
    "\n",
    "back_mth=Mth_2()\n",
    "product2=back_mth.pdt_type2()\n",
    "month2=back_mth.mth_no2()\n",
    "\n",
    "        "
   ]
  },
  {
   "cell_type": "code",
   "execution_count": 802,
   "metadata": {},
   "outputs": [
    {
     "name": "stdout",
     "output_type": "stream",
     "text": [
      "C:\\Users\\boonsin.teo\\Documents\\Quandl\n"
     ]
    }
   ],
   "source": [
    "cd Quandl"
   ]
  },
  {
   "cell_type": "code",
   "execution_count": 803,
   "metadata": {},
   "outputs": [
    {
     "name": "stdout",
     "output_type": "stream",
     "text": [
      "C:\\Users\\boonsin.teo\\Documents\\Quandl\\CL\n"
     ]
    }
   ],
   "source": [
    "cd $product1"
   ]
  },
  {
   "cell_type": "code",
   "execution_count": 804,
   "metadata": {},
   "outputs": [
    {
     "name": "stdout",
     "output_type": "stream",
     "text": [
      "C:\\Users\\boonsin.teo\\Documents\\Quandl\\CL\\Aug\n"
     ]
    }
   ],
   "source": [
    "cd $month1"
   ]
  },
  {
   "cell_type": "code",
   "execution_count": 805,
   "metadata": {},
   "outputs": [
    {
     "name": "stdout",
     "output_type": "stream",
     "text": [
      "Please input start mth of seasonal period in MM format: 08\n",
      "Please input start day of seasonal period in DD format: 01\n",
      "Please input 1 if start mth is the same as contract year and 0 if not: 0\n",
      "Please input end mth of seasonal period in MM format: 06\n",
      "Please input end day of seasonal period in DD format: 30\n",
      "Please input 1 if end mth is the same as contract year and 0 if not: 1\n"
     ]
    }
   ],
   "source": [
    "start_mth=raw_input('Please input start mth of seasonal period in MM format: ')\n",
    "start_day=raw_input('Please input start day of seasonal period in DD format: ')\n",
    "i=int(raw_input('Please input 1 if start mth is the same as contract year and 0 if not: '))\n",
    "            \n",
    "end_mth=raw_input('Please input end mth of seasonal period in MM format: ')\n",
    "end_day=raw_input('Please input end day of seasonal period in DD format: ')\n",
    "            \n",
    "j=int(raw_input('Please input 1 if end mth is the same as contract year and 0 if not: '))\n",
    "\n",
    "\n",
    "front_month=front_mth.dataframe_create(start_mth,start_day,end_mth,end_day,i,j)"
   ]
  },
  {
   "cell_type": "code",
   "execution_count": 806,
   "metadata": {},
   "outputs": [
    {
     "name": "stdout",
     "output_type": "stream",
     "text": [
      "C:\\Users\\boonsin.teo\\Documents\\Quandl\\CL\n"
     ]
    }
   ],
   "source": [
    "cd .."
   ]
  },
  {
   "cell_type": "code",
   "execution_count": 807,
   "metadata": {},
   "outputs": [
    {
     "name": "stdout",
     "output_type": "stream",
     "text": [
      "C:\\Users\\boonsin.teo\\Documents\\Quandl\n"
     ]
    }
   ],
   "source": [
    "cd .."
   ]
  },
  {
   "cell_type": "code",
   "execution_count": 808,
   "metadata": {},
   "outputs": [
    {
     "name": "stdout",
     "output_type": "stream",
     "text": [
      "C:\\Users\\boonsin.teo\\Documents\n"
     ]
    }
   ],
   "source": [
    "cd .."
   ]
  },
  {
   "cell_type": "code",
   "execution_count": 809,
   "metadata": {},
   "outputs": [
    {
     "name": "stdout",
     "output_type": "stream",
     "text": [
      "C:\\Users\\boonsin.teo\\Documents\\Quandl\n"
     ]
    }
   ],
   "source": [
    "cd Quandl"
   ]
  },
  {
   "cell_type": "code",
   "execution_count": 810,
   "metadata": {},
   "outputs": [
    {
     "name": "stdout",
     "output_type": "stream",
     "text": [
      "C:\\Users\\boonsin.teo\\Documents\\Quandl\\B\n"
     ]
    }
   ],
   "source": [
    "cd $product2"
   ]
  },
  {
   "cell_type": "code",
   "execution_count": 811,
   "metadata": {},
   "outputs": [
    {
     "name": "stdout",
     "output_type": "stream",
     "text": [
      "C:\\Users\\boonsin.teo\\Documents\\Quandl\\B\\Aug\n"
     ]
    }
   ],
   "source": [
    "cd $month2"
   ]
  },
  {
   "cell_type": "code",
   "execution_count": 812,
   "metadata": {
    "collapsed": true
   },
   "outputs": [],
   "source": [
    "back_month=back_mth.dataframe_create(start_mth, start_day,end_mth,end_day,i,j)"
   ]
  },
  {
   "cell_type": "code",
   "execution_count": 813,
   "metadata": {},
   "outputs": [
    {
     "name": "stdout",
     "output_type": "stream",
     "text": [
      "C:\\Users\\boonsin.teo\\Documents\\Quandl\\B\n"
     ]
    }
   ],
   "source": [
    "cd .."
   ]
  },
  {
   "cell_type": "code",
   "execution_count": 814,
   "metadata": {},
   "outputs": [
    {
     "name": "stdout",
     "output_type": "stream",
     "text": [
      "C:\\Users\\boonsin.teo\\Documents\\Quandl\n"
     ]
    }
   ],
   "source": [
    "cd .."
   ]
  },
  {
   "cell_type": "code",
   "execution_count": 815,
   "metadata": {},
   "outputs": [
    {
     "name": "stdout",
     "output_type": "stream",
     "text": [
      "C:\\Users\\boonsin.teo\\Documents\n"
     ]
    }
   ],
   "source": [
    "cd .."
   ]
  },
  {
   "cell_type": "code",
   "execution_count": 816,
   "metadata": {},
   "outputs": [
    {
     "data": {
      "text/html": [
       "<div>\n",
       "<style scoped>\n",
       "    .dataframe tbody tr th:only-of-type {\n",
       "        vertical-align: middle;\n",
       "    }\n",
       "\n",
       "    .dataframe tbody tr th {\n",
       "        vertical-align: top;\n",
       "    }\n",
       "\n",
       "    .dataframe thead th {\n",
       "        text-align: right;\n",
       "    }\n",
       "</style>\n",
       "<table border=\"1\" class=\"dataframe\">\n",
       "  <thead>\n",
       "    <tr style=\"text-align: right;\">\n",
       "      <th></th>\n",
       "      <th>1996</th>\n",
       "      <th>1997</th>\n",
       "      <th>1998</th>\n",
       "      <th>1999</th>\n",
       "      <th>2000</th>\n",
       "      <th>2001</th>\n",
       "      <th>2002</th>\n",
       "      <th>2003</th>\n",
       "      <th>2004</th>\n",
       "      <th>2005</th>\n",
       "      <th>...</th>\n",
       "      <th>2009</th>\n",
       "      <th>2010</th>\n",
       "      <th>2011</th>\n",
       "      <th>2012</th>\n",
       "      <th>2013</th>\n",
       "      <th>2014</th>\n",
       "      <th>2015</th>\n",
       "      <th>2016</th>\n",
       "      <th>2017</th>\n",
       "      <th>2018</th>\n",
       "    </tr>\n",
       "    <tr>\n",
       "      <th>Date</th>\n",
       "      <th></th>\n",
       "      <th></th>\n",
       "      <th></th>\n",
       "      <th></th>\n",
       "      <th></th>\n",
       "      <th></th>\n",
       "      <th></th>\n",
       "      <th></th>\n",
       "      <th></th>\n",
       "      <th></th>\n",
       "      <th></th>\n",
       "      <th></th>\n",
       "      <th></th>\n",
       "      <th></th>\n",
       "      <th></th>\n",
       "      <th></th>\n",
       "      <th></th>\n",
       "      <th></th>\n",
       "      <th></th>\n",
       "      <th></th>\n",
       "      <th></th>\n",
       "    </tr>\n",
       "  </thead>\n",
       "  <tbody>\n",
       "    <tr>\n",
       "      <th>08/01</th>\n",
       "      <td>17.31</td>\n",
       "      <td>18.35</td>\n",
       "      <td>20.14</td>\n",
       "      <td>NaN</td>\n",
       "      <td>NaN</td>\n",
       "      <td>NaN</td>\n",
       "      <td>24.42</td>\n",
       "      <td>24.21</td>\n",
       "      <td>27.16</td>\n",
       "      <td>NaN</td>\n",
       "      <td>...</td>\n",
       "      <td>125.97</td>\n",
       "      <td>NaN</td>\n",
       "      <td>NaN</td>\n",
       "      <td>99.44</td>\n",
       "      <td>91.25</td>\n",
       "      <td>95.17</td>\n",
       "      <td>92.58</td>\n",
       "      <td>NaN</td>\n",
       "      <td>45.78</td>\n",
       "      <td>49.89</td>\n",
       "    </tr>\n",
       "    <tr>\n",
       "      <th>08/02</th>\n",
       "      <td>17.34</td>\n",
       "      <td>18.40</td>\n",
       "      <td>NaN</td>\n",
       "      <td>NaN</td>\n",
       "      <td>18.76</td>\n",
       "      <td>NaN</td>\n",
       "      <td>24.83</td>\n",
       "      <td>24.55</td>\n",
       "      <td>NaN</td>\n",
       "      <td>39.12</td>\n",
       "      <td>...</td>\n",
       "      <td>NaN</td>\n",
       "      <td>NaN</td>\n",
       "      <td>85.80</td>\n",
       "      <td>98.32</td>\n",
       "      <td>89.71</td>\n",
       "      <td>95.04</td>\n",
       "      <td>NaN</td>\n",
       "      <td>NaN</td>\n",
       "      <td>45.40</td>\n",
       "      <td>50.22</td>\n",
       "    </tr>\n",
       "    <tr>\n",
       "      <th>08/03</th>\n",
       "      <td>17.33</td>\n",
       "      <td>NaN</td>\n",
       "      <td>NaN</td>\n",
       "      <td>16.08</td>\n",
       "      <td>18.72</td>\n",
       "      <td>NaN</td>\n",
       "      <td>24.87</td>\n",
       "      <td>NaN</td>\n",
       "      <td>NaN</td>\n",
       "      <td>39.58</td>\n",
       "      <td>...</td>\n",
       "      <td>NaN</td>\n",
       "      <td>79.19</td>\n",
       "      <td>86.80</td>\n",
       "      <td>96.51</td>\n",
       "      <td>93.14</td>\n",
       "      <td>NaN</td>\n",
       "      <td>NaN</td>\n",
       "      <td>51.20</td>\n",
       "      <td>46.36</td>\n",
       "      <td>49.76</td>\n",
       "    </tr>\n",
       "    <tr>\n",
       "      <th>08/04</th>\n",
       "      <td>17.36</td>\n",
       "      <td>NaN</td>\n",
       "      <td>20.56</td>\n",
       "      <td>16.14</td>\n",
       "      <td>18.81</td>\n",
       "      <td>NaN</td>\n",
       "      <td>NaN</td>\n",
       "      <td>NaN</td>\n",
       "      <td>26.95</td>\n",
       "      <td>38.44</td>\n",
       "      <td>...</td>\n",
       "      <td>122.09</td>\n",
       "      <td>79.88</td>\n",
       "      <td>86.69</td>\n",
       "      <td>91.52</td>\n",
       "      <td>NaN</td>\n",
       "      <td>NaN</td>\n",
       "      <td>93.08</td>\n",
       "      <td>51.47</td>\n",
       "      <td>47.17</td>\n",
       "      <td>50.25</td>\n",
       "    </tr>\n",
       "    <tr>\n",
       "      <th>08/05</th>\n",
       "      <td>NaN</td>\n",
       "      <td>18.31</td>\n",
       "      <td>20.50</td>\n",
       "      <td>16.13</td>\n",
       "      <td>18.91</td>\n",
       "      <td>NaN</td>\n",
       "      <td>NaN</td>\n",
       "      <td>24.34</td>\n",
       "      <td>27.15</td>\n",
       "      <td>39.47</td>\n",
       "      <td>...</td>\n",
       "      <td>119.12</td>\n",
       "      <td>80.57</td>\n",
       "      <td>86.21</td>\n",
       "      <td>91.98</td>\n",
       "      <td>NaN</td>\n",
       "      <td>95.23</td>\n",
       "      <td>92.82</td>\n",
       "      <td>50.98</td>\n",
       "      <td>47.17</td>\n",
       "      <td>NaN</td>\n",
       "    </tr>\n",
       "  </tbody>\n",
       "</table>\n",
       "<p>5 rows × 23 columns</p>\n",
       "</div>"
      ],
      "text/plain": [
       "        1996   1997   1998   1999   2000  2001   2002   2003   2004   2005  \\\n",
       "Date                                                                         \n",
       "08/01  17.31  18.35  20.14    NaN    NaN   NaN  24.42  24.21  27.16    NaN   \n",
       "08/02  17.34  18.40    NaN    NaN  18.76   NaN  24.83  24.55    NaN  39.12   \n",
       "08/03  17.33    NaN    NaN  16.08  18.72   NaN  24.87    NaN    NaN  39.58   \n",
       "08/04  17.36    NaN  20.56  16.14  18.81   NaN    NaN    NaN  26.95  38.44   \n",
       "08/05    NaN  18.31  20.50  16.13  18.91   NaN    NaN  24.34  27.15  39.47   \n",
       "\n",
       "       ...      2009   2010   2011   2012   2013   2014   2015   2016   2017  \\\n",
       "Date   ...                                                                     \n",
       "08/01  ...    125.97    NaN    NaN  99.44  91.25  95.17  92.58    NaN  45.78   \n",
       "08/02  ...       NaN    NaN  85.80  98.32  89.71  95.04    NaN    NaN  45.40   \n",
       "08/03  ...       NaN  79.19  86.80  96.51  93.14    NaN    NaN  51.20  46.36   \n",
       "08/04  ...    122.09  79.88  86.69  91.52    NaN    NaN  93.08  51.47  47.17   \n",
       "08/05  ...    119.12  80.57  86.21  91.98    NaN  95.23  92.82  50.98  47.17   \n",
       "\n",
       "        2018  \n",
       "Date          \n",
       "08/01  49.89  \n",
       "08/02  50.22  \n",
       "08/03  49.76  \n",
       "08/04  50.25  \n",
       "08/05    NaN  \n",
       "\n",
       "[5 rows x 23 columns]"
      ]
     },
     "execution_count": 816,
     "metadata": {},
     "output_type": "execute_result"
    }
   ],
   "source": [
    "front_month.head()"
   ]
  },
  {
   "cell_type": "code",
   "execution_count": 817,
   "metadata": {},
   "outputs": [
    {
     "data": {
      "text/html": [
       "<div>\n",
       "<style scoped>\n",
       "    .dataframe tbody tr th:only-of-type {\n",
       "        vertical-align: middle;\n",
       "    }\n",
       "\n",
       "    .dataframe tbody tr th {\n",
       "        vertical-align: top;\n",
       "    }\n",
       "\n",
       "    .dataframe thead th {\n",
       "        text-align: right;\n",
       "    }\n",
       "</style>\n",
       "<table border=\"1\" class=\"dataframe\">\n",
       "  <thead>\n",
       "    <tr style=\"text-align: right;\">\n",
       "      <th></th>\n",
       "      <th>1996</th>\n",
       "      <th>1997</th>\n",
       "      <th>1998</th>\n",
       "      <th>1999</th>\n",
       "      <th>2000</th>\n",
       "      <th>2001</th>\n",
       "      <th>2002</th>\n",
       "      <th>2003</th>\n",
       "      <th>2004</th>\n",
       "      <th>2005</th>\n",
       "      <th>...</th>\n",
       "      <th>2009</th>\n",
       "      <th>2010</th>\n",
       "      <th>2011</th>\n",
       "      <th>2012</th>\n",
       "      <th>2013</th>\n",
       "      <th>2014</th>\n",
       "      <th>2015</th>\n",
       "      <th>2016</th>\n",
       "      <th>2017</th>\n",
       "      <th>2018</th>\n",
       "    </tr>\n",
       "    <tr>\n",
       "      <th>Date</th>\n",
       "      <th></th>\n",
       "      <th></th>\n",
       "      <th></th>\n",
       "      <th></th>\n",
       "      <th></th>\n",
       "      <th></th>\n",
       "      <th></th>\n",
       "      <th></th>\n",
       "      <th></th>\n",
       "      <th></th>\n",
       "      <th></th>\n",
       "      <th></th>\n",
       "      <th></th>\n",
       "      <th></th>\n",
       "      <th></th>\n",
       "      <th></th>\n",
       "      <th></th>\n",
       "      <th></th>\n",
       "      <th></th>\n",
       "      <th></th>\n",
       "      <th></th>\n",
       "    </tr>\n",
       "  </thead>\n",
       "  <tbody>\n",
       "    <tr>\n",
       "      <th>08/01</th>\n",
       "      <td>16.13</td>\n",
       "      <td>17.19</td>\n",
       "      <td>18.83</td>\n",
       "      <td>NaN</td>\n",
       "      <td>NaN</td>\n",
       "      <td>24.14</td>\n",
       "      <td>23.23</td>\n",
       "      <td>23.33</td>\n",
       "      <td>26.10</td>\n",
       "      <td>NaN</td>\n",
       "      <td>...</td>\n",
       "      <td>129.06</td>\n",
       "      <td>NaN</td>\n",
       "      <td>NaN</td>\n",
       "      <td>115.67</td>\n",
       "      <td>101.47</td>\n",
       "      <td>102.68</td>\n",
       "      <td>105.09</td>\n",
       "      <td>NaN</td>\n",
       "      <td>46.65</td>\n",
       "      <td>52.82</td>\n",
       "    </tr>\n",
       "    <tr>\n",
       "      <th>08/02</th>\n",
       "      <td>16.18</td>\n",
       "      <td>17.12</td>\n",
       "      <td>NaN</td>\n",
       "      <td>NaN</td>\n",
       "      <td>17.42</td>\n",
       "      <td>24.23</td>\n",
       "      <td>23.72</td>\n",
       "      <td>23.59</td>\n",
       "      <td>NaN</td>\n",
       "      <td>36.28</td>\n",
       "      <td>...</td>\n",
       "      <td>NaN</td>\n",
       "      <td>NaN</td>\n",
       "      <td>85.55</td>\n",
       "      <td>115.32</td>\n",
       "      <td>100.66</td>\n",
       "      <td>102.45</td>\n",
       "      <td>NaN</td>\n",
       "      <td>NaN</td>\n",
       "      <td>46.26</td>\n",
       "      <td>53.13</td>\n",
       "    </tr>\n",
       "    <tr>\n",
       "      <th>08/03</th>\n",
       "      <td>16.25</td>\n",
       "      <td>NaN</td>\n",
       "      <td>NaN</td>\n",
       "      <td>14.71</td>\n",
       "      <td>17.41</td>\n",
       "      <td>24.24</td>\n",
       "      <td>23.56</td>\n",
       "      <td>NaN</td>\n",
       "      <td>NaN</td>\n",
       "      <td>36.59</td>\n",
       "      <td>...</td>\n",
       "      <td>NaN</td>\n",
       "      <td>79.38</td>\n",
       "      <td>86.91</td>\n",
       "      <td>112.51</td>\n",
       "      <td>103.63</td>\n",
       "      <td>NaN</td>\n",
       "      <td>NaN</td>\n",
       "      <td>56.20</td>\n",
       "      <td>47.24</td>\n",
       "      <td>52.68</td>\n",
       "    </tr>\n",
       "    <tr>\n",
       "      <th>08/04</th>\n",
       "      <td>16.28</td>\n",
       "      <td>NaN</td>\n",
       "      <td>19.04</td>\n",
       "      <td>14.78</td>\n",
       "      <td>17.65</td>\n",
       "      <td>24.86</td>\n",
       "      <td>NaN</td>\n",
       "      <td>NaN</td>\n",
       "      <td>25.47</td>\n",
       "      <td>35.74</td>\n",
       "      <td>...</td>\n",
       "      <td>125.53</td>\n",
       "      <td>80.21</td>\n",
       "      <td>86.82</td>\n",
       "      <td>106.99</td>\n",
       "      <td>NaN</td>\n",
       "      <td>NaN</td>\n",
       "      <td>105.24</td>\n",
       "      <td>56.71</td>\n",
       "      <td>48.05</td>\n",
       "      <td>53.16</td>\n",
       "    </tr>\n",
       "    <tr>\n",
       "      <th>08/05</th>\n",
       "      <td>NaN</td>\n",
       "      <td>16.88</td>\n",
       "      <td>19.14</td>\n",
       "      <td>14.65</td>\n",
       "      <td>17.61</td>\n",
       "      <td>NaN</td>\n",
       "      <td>NaN</td>\n",
       "      <td>23.45</td>\n",
       "      <td>25.67</td>\n",
       "      <td>36.67</td>\n",
       "      <td>...</td>\n",
       "      <td>122.70</td>\n",
       "      <td>81.26</td>\n",
       "      <td>86.40</td>\n",
       "      <td>109.18</td>\n",
       "      <td>NaN</td>\n",
       "      <td>102.29</td>\n",
       "      <td>104.74</td>\n",
       "      <td>56.25</td>\n",
       "      <td>48.05</td>\n",
       "      <td>NaN</td>\n",
       "    </tr>\n",
       "  </tbody>\n",
       "</table>\n",
       "<p>5 rows × 23 columns</p>\n",
       "</div>"
      ],
      "text/plain": [
       "        1996   1997   1998   1999   2000   2001   2002   2003   2004   2005  \\\n",
       "Date                                                                          \n",
       "08/01  16.13  17.19  18.83    NaN    NaN  24.14  23.23  23.33  26.10    NaN   \n",
       "08/02  16.18  17.12    NaN    NaN  17.42  24.23  23.72  23.59    NaN  36.28   \n",
       "08/03  16.25    NaN    NaN  14.71  17.41  24.24  23.56    NaN    NaN  36.59   \n",
       "08/04  16.28    NaN  19.04  14.78  17.65  24.86    NaN    NaN  25.47  35.74   \n",
       "08/05    NaN  16.88  19.14  14.65  17.61    NaN    NaN  23.45  25.67  36.67   \n",
       "\n",
       "       ...      2009   2010   2011    2012    2013    2014    2015   2016  \\\n",
       "Date   ...                                                                  \n",
       "08/01  ...    129.06    NaN    NaN  115.67  101.47  102.68  105.09    NaN   \n",
       "08/02  ...       NaN    NaN  85.55  115.32  100.66  102.45     NaN    NaN   \n",
       "08/03  ...       NaN  79.38  86.91  112.51  103.63     NaN     NaN  56.20   \n",
       "08/04  ...    125.53  80.21  86.82  106.99     NaN     NaN  105.24  56.71   \n",
       "08/05  ...    122.70  81.26  86.40  109.18     NaN  102.29  104.74  56.25   \n",
       "\n",
       "        2017   2018  \n",
       "Date                 \n",
       "08/01  46.65  52.82  \n",
       "08/02  46.26  53.13  \n",
       "08/03  47.24  52.68  \n",
       "08/04  48.05  53.16  \n",
       "08/05  48.05    NaN  \n",
       "\n",
       "[5 rows x 23 columns]"
      ]
     },
     "execution_count": 817,
     "metadata": {},
     "output_type": "execute_result"
    }
   ],
   "source": [
    "back_month.head()"
   ]
  },
  {
   "cell_type": "code",
   "execution_count": 818,
   "metadata": {},
   "outputs": [
    {
     "name": "stdout",
     "output_type": "stream",
     "text": [
      "Please indicate if this is a 1) Crack or 2) Spread - please input integer 1 or 2: 2\n"
     ]
    }
   ],
   "source": [
    "Spread_Combi=create_sprd(front_month, back_month)"
   ]
  },
  {
   "cell_type": "code",
   "execution_count": 819,
   "metadata": {
    "collapsed": true
   },
   "outputs": [],
   "source": [
    "Spread_Combi.dropna(axis=0,how='all',inplace=True) # drop rows with all NAs"
   ]
  },
  {
   "cell_type": "code",
   "execution_count": 820,
   "metadata": {
    "collapsed": true
   },
   "outputs": [],
   "source": [
    "Spread_Combi.dropna(axis=1,how='all',inplace=True)# drop columns with all NAs"
   ]
  },
  {
   "cell_type": "code",
   "execution_count": null,
   "metadata": {
    "collapsed": true
   },
   "outputs": [],
   "source": []
  },
  {
   "cell_type": "code",
   "execution_count": null,
   "metadata": {
    "collapsed": true
   },
   "outputs": [],
   "source": []
  },
  {
   "cell_type": "code",
   "execution_count": 821,
   "metadata": {},
   "outputs": [
    {
     "name": "stdout",
     "output_type": "stream",
     "text": [
      "Please input the lookback period: 20\n"
     ]
    }
   ],
   "source": [
    "lookback=int(raw_input('Please input the lookback period: '))\n",
    "df_ma=Spread_Combi\n",
    "df_std=Spread_Combi\n",
    "\n"
   ]
  },
  {
   "cell_type": "code",
   "execution_count": null,
   "metadata": {
    "collapsed": true
   },
   "outputs": [],
   "source": []
  },
  {
   "cell_type": "code",
   "execution_count": null,
   "metadata": {
    "collapsed": true
   },
   "outputs": [],
   "source": []
  },
  {
   "cell_type": "code",
   "execution_count": 822,
   "metadata": {},
   "outputs": [
    {
     "name": "stderr",
     "output_type": "stream",
     "text": [
      "C:\\Anaconda\\lib\\site-packages\\ipykernel_launcher.py:1: FutureWarning: pd.rolling_mean is deprecated for DataFrame and will be removed in a future version, replace with \n",
      "\tDataFrame.rolling(window=20,center=False).mean()\n",
      "  \"\"\"Entry point for launching an IPython kernel.\n",
      "C:\\Anaconda\\lib\\site-packages\\ipykernel_launcher.py:2: FutureWarning: pd.rolling_std is deprecated for DataFrame and will be removed in a future version, replace with \n",
      "\tDataFrame.rolling(window=20,center=False).std()\n",
      "  \n"
     ]
    }
   ],
   "source": [
    "df_ma=pd.rolling_mean(Spread_Combi,lookback)\n",
    "df_std=pd.rolling_std(Spread_Combi,lookback)"
   ]
  },
  {
   "cell_type": "code",
   "execution_count": 823,
   "metadata": {
    "collapsed": true
   },
   "outputs": [],
   "source": [
    "z_score=(Spread_Combi-df_ma)/df_std"
   ]
  },
  {
   "cell_type": "code",
   "execution_count": 824,
   "metadata": {},
   "outputs": [
    {
     "name": "stdout",
     "output_type": "stream",
     "text": [
      "Please input the z score for trade entry as a positive float number: 2.2\n",
      "Please input the z score for trade exit as a positive float number: 1\n"
     ]
    }
   ],
   "source": [
    "z_score_entry=float(raw_input('Please input the z score for trade entry as a positive float number: '))\n",
    "z_score_exit=float(raw_input('Please input the z score for trade exit as a positive float number: '))\n",
    "\n",
    "df_long_entry=z_score <= -z_score_entry\n",
    "df_long_exit=z_score>=-z_score_exit\n",
    "df_short_entry=z_score>=z_score_entry\n",
    "df_short_exit=z_score<=z_score_exit"
   ]
  },
  {
   "cell_type": "code",
   "execution_count": 825,
   "metadata": {
    "collapsed": true
   },
   "outputs": [],
   "source": [
    "rows=Spread_Combi.shape[0]\n",
    "cols=Spread_Combi.shape[1]"
   ]
  },
  {
   "cell_type": "code",
   "execution_count": 826,
   "metadata": {},
   "outputs": [],
   "source": [
    "df_long_positions=pd.DataFrame(np.nan,index=range(0,rows),columns=range(0,cols))\n",
    "df_short_positions=pd.DataFrame(np.nan,index=range(0,rows),columns=range(0,cols))"
   ]
  },
  {
   "cell_type": "code",
   "execution_count": 827,
   "metadata": {
    "collapsed": true
   },
   "outputs": [],
   "source": [
    "df_long_entry[df_long_entry==True]=2\n",
    "df_long_exit[df_long_exit==True]=-1\n",
    "df_long_positions=df_long_entry+df_long_exit\n",
    "\n",
    "df_long_positions[df_long_positions==0]=np.nan\n",
    "df_long_positions[df_long_positions==-1]=0\n",
    "df_long_positions[df_long_positions==2]=1\n",
    "\n",
    "df_long_positions=df_long_positions.fillna(method='ffill')"
   ]
  },
  {
   "cell_type": "code",
   "execution_count": 828,
   "metadata": {},
   "outputs": [],
   "source": [
    "df_short_entry[df_short_entry==True]=-2\n",
    "df_short_exit[df_short_exit==True]=1\n",
    "df_short_positions=df_short_entry+df_short_exit\n",
    "\n",
    "df_short_positions[df_short_positions==0]=np.nan\n",
    "df_short_positions[df_short_positions==1]=0\n",
    "df_short_positions[df_short_positions==-2]=-1\n",
    "\n",
    "df_short_positions=df_short_positions.fillna(method='ffill')"
   ]
  },
  {
   "cell_type": "code",
   "execution_count": 829,
   "metadata": {
    "collapsed": true
   },
   "outputs": [],
   "source": [
    "df_positions=df_long_positions+df_short_positions"
   ]
  },
  {
   "cell_type": "code",
   "execution_count": 830,
   "metadata": {},
   "outputs": [],
   "source": [
    "zf=z_factor(product1, product2)"
   ]
  },
  {
   "cell_type": "code",
   "execution_count": 831,
   "metadata": {
    "collapsed": true
   },
   "outputs": [],
   "source": [
    "df_pnl=df_positions.shift(1)*(Spread_Combi*zf[0]-Spread_Combi.shift(1)*zf[1])*zf[2]"
   ]
  },
  {
   "cell_type": "code",
   "execution_count": 832,
   "metadata": {
    "collapsed": true
   },
   "outputs": [],
   "source": [
    "df_cumpnl=df_pnl.cumsum()"
   ]
  },
  {
   "cell_type": "code",
   "execution_count": 833,
   "metadata": {
    "collapsed": true
   },
   "outputs": [],
   "source": [
    "final_pnl=df_cumpnl.tail(1)"
   ]
  },
  {
   "cell_type": "code",
   "execution_count": 834,
   "metadata": {
    "collapsed": true
   },
   "outputs": [],
   "source": [
    "win_percent=float(float((final_pnl[final_pnl>0].count().sum()))/float((final_pnl.count().sum())))*100"
   ]
  },
  {
   "cell_type": "code",
   "execution_count": 835,
   "metadata": {},
   "outputs": [
    {
     "name": "stdout",
     "output_type": "stream",
     "text": [
      "The winning percentage is 78.26 percent.\n",
      "The sample size is 23.\n"
     ]
    }
   ],
   "source": [
    "print 'The winning percentage is %.2f percent.' %win_percent\n",
    "print 'The sample size is %.0f.' %final_pnl.count().sum()"
   ]
  },
  {
   "cell_type": "code",
   "execution_count": 836,
   "metadata": {},
   "outputs": [
    {
     "name": "stdout",
     "output_type": "stream",
     "text": [
      "Total pnl over 23 years is $24670.00.\n"
     ]
    }
   ],
   "source": [
    "print 'Total pnl over 23 years is $%.2f.'%final_pnl.sum().sum()"
   ]
  },
  {
   "cell_type": "code",
   "execution_count": 837,
   "metadata": {
    "scrolled": true
   },
   "outputs": [
    {
     "name": "stdout",
     "output_type": "stream",
     "text": [
      "Please input the date to check in mm/dd format: 05/07\n"
     ]
    }
   ],
   "source": [
    "z_score_date=raw_input(\"Please input the date to check in mm/dd format: \")"
   ]
  },
  {
   "cell_type": "code",
   "execution_count": 838,
   "metadata": {},
   "outputs": [
    {
     "name": "stdout",
     "output_type": "stream",
     "text": [
      "Please input the year of the date in which you are in: 2018\n"
     ]
    }
   ],
   "source": [
    "z_score_year=raw_input('Please input the year of the date in which you are in: ')"
   ]
  },
  {
   "cell_type": "code",
   "execution_count": 839,
   "metadata": {},
   "outputs": [
    {
     "name": "stdout",
     "output_type": "stream",
     "text": [
      "The z-score is -0.55.\n"
     ]
    }
   ],
   "source": [
    "if z_score[z_score_year].loc[z_score_date]<=-z_score_entry or z_score[z_score_year].loc[z_score_date]>=z_score_entry:\n",
    "    print \"Trade Entry Check!\"\n",
    "    print 'The z-score is %.2f.' %z_score[z_score_year].loc[z_score_date] \n",
    "else:\n",
    "    print 'No entry signal. Please check for exit signal if already in the trade.'\n",
    "    print 'The z-score is %.2f.' %z_score[z_score_year].loc[z_score_date] "
   ]
  },
  {
   "cell_type": "code",
   "execution_count": null,
   "metadata": {},
   "outputs": [],
   "source": []
  },
  {
   "cell_type": "code",
   "execution_count": null,
   "metadata": {},
   "outputs": [],
   "source": []
  },
  {
   "cell_type": "code",
   "execution_count": null,
   "metadata": {
    "collapsed": true
   },
   "outputs": [],
   "source": []
  },
  {
   "cell_type": "code",
   "execution_count": null,
   "metadata": {
    "collapsed": true
   },
   "outputs": [],
   "source": []
  },
  {
   "cell_type": "code",
   "execution_count": null,
   "metadata": {
    "collapsed": true
   },
   "outputs": [],
   "source": []
  }
 ],
 "metadata": {
  "kernelspec": {
   "display_name": "Python 2",
   "language": "python",
   "name": "python2"
  },
  "language_info": {
   "codemirror_mode": {
    "name": "ipython",
    "version": 2
   },
   "file_extension": ".py",
   "mimetype": "text/x-python",
   "name": "python",
   "nbconvert_exporter": "python",
   "pygments_lexer": "ipython2",
   "version": "2.7.13"
  }
 },
 "nbformat": 4,
 "nbformat_minor": 2
}
