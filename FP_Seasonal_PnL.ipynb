{
 "cells": [
  {
   "cell_type": "code",
   "execution_count": 307,
   "metadata": {},
   "outputs": [
    {
     "name": "stdout",
     "output_type": "stream",
     "text": [
      "Please input the number of the product you want to see the seasonals: 1) Brent 2) Gasoil 3) HO 4) RBOB 5) WTI: 3\n",
      "Please input the month of the contract which you wish to evaluate in numbers from 1-12: 7\n"
     ]
    }
   ],
   "source": [
    "import numpy as np\n",
    "import pandas as pd\n",
    "import os\n",
    "\n",
    "%matplotlib inline\n",
    "\n",
    "#user specify instrument and contract month\n",
    "\n",
    "product=''\n",
    "month=''\n",
    "\n",
    "while True:\n",
    "    inst=int(raw_input('Please input the number of the product you want to see the seasonals: 1) Brent 2) Gasoil 3) HO 4) RBOB 5) WTI: '))\n",
    "    \n",
    "    if inst==1:\n",
    "        product='Brent'\n",
    "        break\n",
    "    elif inst==2:\n",
    "        product='Gasoil'\n",
    "        break   \n",
    "    elif inst==3:\n",
    "        product='HO'\n",
    "        break      \n",
    "    elif inst==4:\n",
    "        product='RBOB'\n",
    "        break       \n",
    "    elif inst==5:\n",
    "        product='WTI'\n",
    "        break       \n",
    "    else:\n",
    "        print 'You did not input a correct number. Please try again.'\n",
    "\n",
    "while True:\n",
    "    Mth=int(raw_input('Please input the month of the contract which you wish to evaluate in numbers from 1-12: '))\n",
    "    \n",
    "    if Mth==1:\n",
    "        month='Jan'\n",
    "        break\n",
    "    elif Mth==2:\n",
    "        month='Feb'\n",
    "        break   \n",
    "    elif Mth==3:\n",
    "        month='Mar'\n",
    "        break   \n",
    "    elif Mth==4:\n",
    "        month='Apr'\n",
    "        break   \n",
    "    elif Mth==5:\n",
    "        month='May'\n",
    "        break          \n",
    "    elif Mth==6:\n",
    "        month='Jun'\n",
    "        break   \n",
    "    elif Mth==7:\n",
    "        month='Jul'\n",
    "        break   \n",
    "    elif Mth==8:\n",
    "        month='Aug'\n",
    "        break   \n",
    "    elif Mth==9:\n",
    "        month='Sep'\n",
    "        break   \n",
    "    elif Mth==10:\n",
    "        month='Oct'\n",
    "        break   \n",
    "    elif Mth==11:\n",
    "        month='Nov'\n",
    "        break   \n",
    "    elif Mth==12:\n",
    "        month='Dec'\n",
    "        break \n",
    "    else:\n",
    "        print 'You did not input a correct number. Please try again.'\n",
    "        "
   ]
  },
  {
   "cell_type": "code",
   "execution_count": 308,
   "metadata": {},
   "outputs": [
    {
     "name": "stdout",
     "output_type": "stream",
     "text": [
      "C:\\Users\\boonsin.teo\\Documents\\Quandl\n"
     ]
    }
   ],
   "source": [
    "cd Quandl"
   ]
  },
  {
   "cell_type": "code",
   "execution_count": 309,
   "metadata": {},
   "outputs": [
    {
     "name": "stdout",
     "output_type": "stream",
     "text": [
      "C:\\Users\\boonsin.teo\\Documents\\Quandl\\HO\n"
     ]
    }
   ],
   "source": [
    "cd $product"
   ]
  },
  {
   "cell_type": "code",
   "execution_count": 310,
   "metadata": {},
   "outputs": [
    {
     "name": "stdout",
     "output_type": "stream",
     "text": [
      "C:\\Users\\boonsin.teo\\Documents\\Quandl\\HO\\Jul\n"
     ]
    }
   ],
   "source": [
    "cd $month"
   ]
  },
  {
   "cell_type": "code",
   "execution_count": 311,
   "metadata": {},
   "outputs": [
    {
     "name": "stdout",
     "output_type": "stream",
     "text": [
      "Please input start mth of seasonal period in MM format: 01\n",
      "Please input start day of seasonal period in DD format: 18\n",
      "Please input 1 if seasonal period start on same year as contract year and 0 if not: 1\n",
      "Please input end mth of seasonal period in MM format: 01\n",
      "Please input end day of seasonal period in DD format: 31\n",
      "Please input 1 if seasonal period ends on same year as contract year and 0 if not: 1\n",
      "Please input 'y' if position is long and 'n' if position is short: y\n",
      "PnL will be calculated basis 1kb lot size for standardization purposes.\n"
     ]
    },
    {
     "data": {
      "text/plain": [
       "'  \\n#plot on line chart\\nax=Seasonal_Combi.plot.line(x=Seasonal_Combi.index, y=\\'SI_avg_rolling\\',figsize=(20,5),xticks=[x for x in range(0,250,10)],title=month+\" \"+product)\\nax.set_xlabel(\\'Date\\')\\nax.set_ylabel(\\'Seasonal Index\\')\\nax.legend(loc=2)\\n'"
      ]
     },
     "execution_count": 311,
     "metadata": {},
     "output_type": "execute_result"
    }
   ],
   "source": [
    "\n",
    "count=0\n",
    "path = os.getcwd()\n",
    "\n",
    "#indicate evaluation dates\n",
    "\n",
    "start_mth=raw_input('Please input start mth of seasonal period in MM format: ')\n",
    "start_day=raw_input('Please input start day of seasonal period in DD format: ')\n",
    "\n",
    "i=int(raw_input('Please input 1 if seasonal period start on same year as contract year and 0 if not: '))\n",
    "            \n",
    "end_mth=raw_input('Please input end mth of seasonal period in MM format: ')\n",
    "end_day=raw_input('Please input end day of seasonal period in DD format: ')\n",
    "\n",
    "j=int(raw_input('Please input 1 if seasonal period ends on same year as contract year and 0 if not: '))\n",
    "\n",
    "while True:\n",
    "    pos=1\n",
    "    a=raw_input(\"Please input 'y' if position is long and 'n' if position is short: \").lower()\n",
    "    \n",
    "    if a=='y':\n",
    "        break\n",
    "    if a=='n':\n",
    "        pos=pos*(-1)\n",
    "        break\n",
    "    else:\n",
    "        print \"Please input either 'y' or 'n' for position\"\n",
    "\n",
    "print 'PnL will be calculated basis 1kb lot size for standardization purposes.'\n",
    "\n",
    "listing = os.listdir(path)\n",
    "for infile in listing:\n",
    "    temp=pd.read_excel(infile) #read each file into panda dataframe\n",
    "    \n",
    "    contract_yr_str=infile[-8:-4] # get the contract year\n",
    "    \n",
    "    seasonal_year=int(contract_yr_str)-1 # get the seasonal year to create the index - prev year\n",
    "    seasonal_year=str(seasonal_year) # convert to string\n",
    "    \n",
    "    start_date=str(int(seasonal_year)+i)+'-'+start_mth+'-'+start_day # create start date\n",
    "    end_date=str(int(seasonal_year)+j)+'-'+end_mth+'-'+end_day # create end date\n",
    "    \n",
    "    dates=pd.date_range(start_date, end_date) # range of dates for date axis\n",
    "    dates=dates.strftime('%Y-%m-%d') #make sure no left out dates\n",
    "    sample_data=np.arange(0,len(dates)) #just sample numbers to create dataframe\n",
    "    \n",
    "    dates_dataframe=pd.DataFrame({'Date':dates,'data':sample_data}) # create dates dataframe\n",
    "    dates_dataframe=dates_dataframe.set_index('Date') # set index as Date to facilitate joining\n",
    "    \n",
    "    temp=temp.set_index('Date') # set index as Date to facilitate joining\n",
    "    \n",
    "    temp=dates_dataframe.join(temp) # join dataframes together on Date\n",
    "   \n",
    "\n",
    "    temp.reset_index(inplace=True)\n",
    "    \n",
    "    temp=temp[temp['Date']>=start_date] # filter for start date\n",
    "    #temp.reset_index(inplace=True)\n",
    "    temp=temp[temp['Date']<=end_date] # filter for end date\n",
    "    #temp=temp.iloc[0:250]\n",
    "\n",
    "    temp=temp.set_index('Date') # creating new index as Date\n",
    "    \n",
    "    \n",
    "    temp=temp.reset_index() # putting date back out into col\n",
    "    temp['Date']=pd.to_datetime(temp['Date']).dt.strftime('%m/%d')\n",
    "    temp=temp.set_index('Date')\n",
    "    temp=pd.DataFrame(temp['Settle'],columns=['Settle']) # becomes a series, hwo to solve this again?\n",
    "\n",
    "    #combine into seasonal index table\n",
    "    \n",
    "    if count==0:\n",
    "        Seasonal_Combi=temp\n",
    "        seasonal_year=str(int(seasonal_year)+1)\n",
    "        Seasonal_Combi.columns=[seasonal_year]\n",
    "        \n",
    "        count+=1\n",
    "        \n",
    "    else:\n",
    "        \n",
    "        seasonal_year=str(int(seasonal_year)+1)\n",
    "        Seasonal_Combi[seasonal_year]=temp['Settle']\n",
    "\n",
    "#remove columns that are all NA\n",
    "Seasonal_Combi.dropna(axis=1,how='all',inplace=True)\n",
    "\n",
    "#remove rows that are all NA\n",
    "Seasonal_Combi.dropna(axis=0,how='all',inplace=True)\n",
    "\n",
    "#fillna values with values of forward value\n",
    "Seasonal_Combi.fillna(method='bfill',inplace=True)\n",
    "#fillna values with values of back value\n",
    "Seasonal_Combi.fillna(method='ffill',inplace=True)\n",
    "\n",
    "#Items to Create\n",
    "#PnL - use last value vs first value\n",
    "\n",
    "z=1\n",
    "factor=1000\n",
    "if product =='RBOB':\n",
    "    z=42\n",
    "elif product=='HO':\n",
    "    z=42\n",
    "elif product=='Gasoil':\n",
    "    factor=100\n",
    "else:\n",
    "    z=1\n",
    "    factor=1000\n",
    "\n",
    "pnl_series=(Seasonal_Combi.iloc[-1]-Seasonal_Combi.iloc[0])*z*pos*factor    \n",
    "\n",
    "# Win %\n",
    "Win_Percent=float(pnl_series[pnl_series>0].count())/float(pnl_series.count())*100\n",
    "    \n",
    "#Largest Drawdown - use max and min\n",
    "max_series=Seasonal_Combi.max()\n",
    "min_series=Seasonal_Combi.min()\n",
    "if pos==1:\n",
    "    max_drawdown=(min_series-Seasonal_Combi.iloc[0])*pos*z*factor\n",
    "else:\n",
    "    max_drawdown=(max_series-Seasonal_Combi.iloc[0])*pos*z*factor\n",
    "    \n",
    "\n",
    "#Plot Equity Curve - use plot below for all columns\n",
    "#% return - calculate using last value vs first value - similar to pnl calc\n",
    "percent_return=((Seasonal_Combi.iloc[-1]-Seasonal_Combi.iloc[0])/(Seasonal_Combi.iloc[0]))\n",
    "\n",
    "\n",
    "\n",
    "\"\"\"  \n",
    "#plot on line chart\n",
    "ax=Seasonal_Combi.plot.line(x=Seasonal_Combi.index, y='SI_avg_rolling',figsize=(20,5),xticks=[x for x in range(0,250,10)],title=month+\" \"+product)\n",
    "ax.set_xlabel('Date')\n",
    "ax.set_ylabel('Seasonal Index')\n",
    "ax.legend(loc=2)\n",
    "\"\"\""
   ]
  },
  {
   "cell_type": "code",
   "execution_count": 312,
   "metadata": {},
   "outputs": [
    {
     "name": "stdout",
     "output_type": "stream",
     "text": [
      "C:\\Users\\boonsin.teo\\Documents\\Quandl\\HO\n"
     ]
    }
   ],
   "source": [
    "cd .."
   ]
  },
  {
   "cell_type": "code",
   "execution_count": 313,
   "metadata": {},
   "outputs": [
    {
     "name": "stdout",
     "output_type": "stream",
     "text": [
      "C:\\Users\\boonsin.teo\\Documents\\Quandl\n"
     ]
    }
   ],
   "source": [
    "cd .."
   ]
  },
  {
   "cell_type": "code",
   "execution_count": 314,
   "metadata": {},
   "outputs": [
    {
     "name": "stdout",
     "output_type": "stream",
     "text": [
      "C:\\Users\\boonsin.teo\\Documents\n"
     ]
    }
   ],
   "source": [
    "cd .."
   ]
  },
  {
   "cell_type": "code",
   "execution_count": 315,
   "metadata": {},
   "outputs": [
    {
     "data": {
      "text/html": [
       "<div>\n",
       "<style scoped>\n",
       "    .dataframe tbody tr th:only-of-type {\n",
       "        vertical-align: middle;\n",
       "    }\n",
       "\n",
       "    .dataframe tbody tr th {\n",
       "        vertical-align: top;\n",
       "    }\n",
       "\n",
       "    .dataframe thead th {\n",
       "        text-align: right;\n",
       "    }\n",
       "</style>\n",
       "<table border=\"1\" class=\"dataframe\">\n",
       "  <thead>\n",
       "    <tr style=\"text-align: right;\">\n",
       "      <th></th>\n",
       "      <th>1996</th>\n",
       "      <th>1997</th>\n",
       "      <th>1998</th>\n",
       "      <th>1999</th>\n",
       "      <th>2000</th>\n",
       "      <th>2001</th>\n",
       "      <th>2002</th>\n",
       "      <th>2003</th>\n",
       "      <th>2004</th>\n",
       "      <th>2005</th>\n",
       "      <th>...</th>\n",
       "      <th>2008</th>\n",
       "      <th>2009</th>\n",
       "      <th>2010</th>\n",
       "      <th>2011</th>\n",
       "      <th>2012</th>\n",
       "      <th>2013</th>\n",
       "      <th>2014</th>\n",
       "      <th>2015</th>\n",
       "      <th>2016</th>\n",
       "      <th>2017</th>\n",
       "    </tr>\n",
       "    <tr>\n",
       "      <th>Date</th>\n",
       "      <th></th>\n",
       "      <th></th>\n",
       "      <th></th>\n",
       "      <th></th>\n",
       "      <th></th>\n",
       "      <th></th>\n",
       "      <th></th>\n",
       "      <th></th>\n",
       "      <th></th>\n",
       "      <th></th>\n",
       "      <th></th>\n",
       "      <th></th>\n",
       "      <th></th>\n",
       "      <th></th>\n",
       "      <th></th>\n",
       "      <th></th>\n",
       "      <th></th>\n",
       "      <th></th>\n",
       "      <th></th>\n",
       "      <th></th>\n",
       "      <th></th>\n",
       "    </tr>\n",
       "  </thead>\n",
       "  <tbody>\n",
       "    <tr>\n",
       "      <th>01/18</th>\n",
       "      <td>0.4771</td>\n",
       "      <td>0.5912</td>\n",
       "      <td>0.4815</td>\n",
       "      <td>0.3527</td>\n",
       "      <td>0.6261</td>\n",
       "      <td>0.7060</td>\n",
       "      <td>0.5291</td>\n",
       "      <td>0.7538</td>\n",
       "      <td>0.8375</td>\n",
       "      <td>1.2208</td>\n",
       "      <td>...</td>\n",
       "      <td>2.4074</td>\n",
       "      <td>1.4552</td>\n",
       "      <td>2.1080</td>\n",
       "      <td>2.6395</td>\n",
       "      <td>2.9850</td>\n",
       "      <td>3.0301</td>\n",
       "      <td>2.8949</td>\n",
       "      <td>1.6045</td>\n",
       "      <td>0.9999</td>\n",
       "      <td>1.6611</td>\n",
       "    </tr>\n",
       "    <tr>\n",
       "      <th>01/19</th>\n",
       "      <td>0.4741</td>\n",
       "      <td>0.5912</td>\n",
       "      <td>0.4815</td>\n",
       "      <td>0.3527</td>\n",
       "      <td>0.6304</td>\n",
       "      <td>0.7324</td>\n",
       "      <td>0.5336</td>\n",
       "      <td>0.7538</td>\n",
       "      <td>0.8375</td>\n",
       "      <td>1.2208</td>\n",
       "      <td>...</td>\n",
       "      <td>2.3858</td>\n",
       "      <td>1.4552</td>\n",
       "      <td>2.1080</td>\n",
       "      <td>2.6434</td>\n",
       "      <td>2.9947</td>\n",
       "      <td>3.0363</td>\n",
       "      <td>2.8949</td>\n",
       "      <td>1.6045</td>\n",
       "      <td>0.9999</td>\n",
       "      <td>1.6722</td>\n",
       "    </tr>\n",
       "    <tr>\n",
       "      <th>01/20</th>\n",
       "      <td>0.4705</td>\n",
       "      <td>0.5912</td>\n",
       "      <td>0.4815</td>\n",
       "      <td>0.3439</td>\n",
       "      <td>0.6279</td>\n",
       "      <td>0.7231</td>\n",
       "      <td>0.5336</td>\n",
       "      <td>0.7538</td>\n",
       "      <td>0.8375</td>\n",
       "      <td>1.2140</td>\n",
       "      <td>...</td>\n",
       "      <td>2.3858</td>\n",
       "      <td>1.4552</td>\n",
       "      <td>2.0826</td>\n",
       "      <td>2.6128</td>\n",
       "      <td>2.9485</td>\n",
       "      <td>3.0363</td>\n",
       "      <td>2.8949</td>\n",
       "      <td>1.6045</td>\n",
       "      <td>0.9572</td>\n",
       "      <td>1.7035</td>\n",
       "    </tr>\n",
       "    <tr>\n",
       "      <th>01/21</th>\n",
       "      <td>0.4705</td>\n",
       "      <td>0.5876</td>\n",
       "      <td>0.4795</td>\n",
       "      <td>0.3519</td>\n",
       "      <td>0.6111</td>\n",
       "      <td>0.7231</td>\n",
       "      <td>0.5336</td>\n",
       "      <td>0.7538</td>\n",
       "      <td>0.8335</td>\n",
       "      <td>1.2475</td>\n",
       "      <td>...</td>\n",
       "      <td>2.3858</td>\n",
       "      <td>1.4632</td>\n",
       "      <td>2.0420</td>\n",
       "      <td>2.6421</td>\n",
       "      <td>2.9612</td>\n",
       "      <td>3.0363</td>\n",
       "      <td>2.8949</td>\n",
       "      <td>1.6305</td>\n",
       "      <td>0.9883</td>\n",
       "      <td>1.6908</td>\n",
       "    </tr>\n",
       "    <tr>\n",
       "      <th>01/22</th>\n",
       "      <td>0.4705</td>\n",
       "      <td>0.5914</td>\n",
       "      <td>0.4748</td>\n",
       "      <td>0.3598</td>\n",
       "      <td>0.6248</td>\n",
       "      <td>0.7231</td>\n",
       "      <td>0.5336</td>\n",
       "      <td>0.7529</td>\n",
       "      <td>0.8428</td>\n",
       "      <td>1.2615</td>\n",
       "      <td>...</td>\n",
       "      <td>2.3858</td>\n",
       "      <td>1.4346</td>\n",
       "      <td>1.9970</td>\n",
       "      <td>2.6196</td>\n",
       "      <td>2.9612</td>\n",
       "      <td>3.0363</td>\n",
       "      <td>2.9235</td>\n",
       "      <td>1.6210</td>\n",
       "      <td>1.0767</td>\n",
       "      <td>1.6908</td>\n",
       "    </tr>\n",
       "  </tbody>\n",
       "</table>\n",
       "<p>5 rows × 22 columns</p>\n",
       "</div>"
      ],
      "text/plain": [
       "         1996    1997    1998    1999    2000    2001    2002    2003    2004  \\\n",
       "Date                                                                            \n",
       "01/18  0.4771  0.5912  0.4815  0.3527  0.6261  0.7060  0.5291  0.7538  0.8375   \n",
       "01/19  0.4741  0.5912  0.4815  0.3527  0.6304  0.7324  0.5336  0.7538  0.8375   \n",
       "01/20  0.4705  0.5912  0.4815  0.3439  0.6279  0.7231  0.5336  0.7538  0.8375   \n",
       "01/21  0.4705  0.5876  0.4795  0.3519  0.6111  0.7231  0.5336  0.7538  0.8335   \n",
       "01/22  0.4705  0.5914  0.4748  0.3598  0.6248  0.7231  0.5336  0.7529  0.8428   \n",
       "\n",
       "         2005   ...      2008    2009    2010    2011    2012    2013    2014  \\\n",
       "Date            ...                                                             \n",
       "01/18  1.2208   ...    2.4074  1.4552  2.1080  2.6395  2.9850  3.0301  2.8949   \n",
       "01/19  1.2208   ...    2.3858  1.4552  2.1080  2.6434  2.9947  3.0363  2.8949   \n",
       "01/20  1.2140   ...    2.3858  1.4552  2.0826  2.6128  2.9485  3.0363  2.8949   \n",
       "01/21  1.2475   ...    2.3858  1.4632  2.0420  2.6421  2.9612  3.0363  2.8949   \n",
       "01/22  1.2615   ...    2.3858  1.4346  1.9970  2.6196  2.9612  3.0363  2.9235   \n",
       "\n",
       "         2015    2016    2017  \n",
       "Date                           \n",
       "01/18  1.6045  0.9999  1.6611  \n",
       "01/19  1.6045  0.9999  1.6722  \n",
       "01/20  1.6045  0.9572  1.7035  \n",
       "01/21  1.6305  0.9883  1.6908  \n",
       "01/22  1.6210  1.0767  1.6908  \n",
       "\n",
       "[5 rows x 22 columns]"
      ]
     },
     "execution_count": 315,
     "metadata": {},
     "output_type": "execute_result"
    }
   ],
   "source": [
    "Seasonal_Combi.head()"
   ]
  },
  {
   "cell_type": "code",
   "execution_count": 316,
   "metadata": {},
   "outputs": [
    {
     "data": {
      "text/plain": [
       "1996    -315.0\n",
       "1997    -180.6\n",
       "1998     571.2\n",
       "1999     294.0\n",
       "2000    -113.4\n",
       "2001    -499.8\n",
       "2002     693.0\n",
       "2003    1293.6\n",
       "2004   -1890.0\n",
       "2005    1856.4\n",
       "2006    3364.2\n",
       "2007    6283.2\n",
       "2008    2423.4\n",
       "2009    1377.6\n",
       "2010   -6384.0\n",
       "2011    4334.4\n",
       "2012     205.8\n",
       "2013    3662.4\n",
       "2014     -75.6\n",
       "2015    4552.8\n",
       "2016    6648.6\n",
       "2017     193.2\n",
       "dtype: float64"
      ]
     },
     "execution_count": 316,
     "metadata": {},
     "output_type": "execute_result"
    }
   ],
   "source": [
    "pnl_series"
   ]
  },
  {
   "cell_type": "code",
   "execution_count": 317,
   "metadata": {},
   "outputs": [
    {
     "data": {
      "text/plain": [
       "1996   -0.015720\n",
       "1997   -0.007273\n",
       "1998    0.028245\n",
       "1999    0.019847\n",
       "2000   -0.004312\n",
       "2001   -0.016856\n",
       "2002    0.031185\n",
       "2003    0.040860\n",
       "2004   -0.053731\n",
       "2005    0.036206\n",
       "2006    0.043455\n",
       "2007    0.096535\n",
       "2008    0.023968\n",
       "2009    0.022540\n",
       "2010   -0.072106\n",
       "2011    0.039098\n",
       "2012    0.001642\n",
       "2013    0.028778\n",
       "2014   -0.000622\n",
       "2015    0.067560\n",
       "2016    0.158316\n",
       "2017    0.002769\n",
       "dtype: float64"
      ]
     },
     "execution_count": 317,
     "metadata": {},
     "output_type": "execute_result"
    }
   ],
   "source": [
    "percent_return"
   ]
  },
  {
   "cell_type": "code",
   "execution_count": 318,
   "metadata": {},
   "outputs": [
    {
     "data": {
      "text/plain": [
       "1996    -638.4\n",
       "1997    -390.6\n",
       "1998    -567.0\n",
       "1999    -369.6\n",
       "2000    -630.0\n",
       "2001    -499.8\n",
       "2002       0.0\n",
       "2003    -256.2\n",
       "2004   -2079.0\n",
       "2005    -285.6\n",
       "2006       0.0\n",
       "2007       0.0\n",
       "2008   -3070.2\n",
       "2009    -865.2\n",
       "2010   -6384.0\n",
       "2011   -1911.0\n",
       "2012   -1533.0\n",
       "2013       0.0\n",
       "2014     -75.6\n",
       "2015       0.0\n",
       "2016   -1793.4\n",
       "2017       0.0\n",
       "dtype: float64"
      ]
     },
     "execution_count": 318,
     "metadata": {},
     "output_type": "execute_result"
    }
   ],
   "source": [
    "max_drawdown"
   ]
  },
  {
   "cell_type": "code",
   "execution_count": 319,
   "metadata": {},
   "outputs": [
    {
     "name": "stdout",
     "output_type": "stream",
     "text": [
      "The win percentage is 68.181818 percent\n"
     ]
    }
   ],
   "source": [
    "print 'The win percentage is %f percent' %Win_Percent"
   ]
  },
  {
   "cell_type": "code",
   "execution_count": 320,
   "metadata": {},
   "outputs": [
    {
     "data": {
      "text/plain": [
       "u'C:\\\\Users\\\\boonsin.teo\\\\Documents'"
      ]
     },
     "execution_count": 320,
     "metadata": {},
     "output_type": "execute_result"
    }
   ],
   "source": [
    "pwd"
   ]
  },
  {
   "cell_type": "code",
   "execution_count": null,
   "metadata": {},
   "outputs": [],
   "source": []
  },
  {
   "cell_type": "code",
   "execution_count": null,
   "metadata": {},
   "outputs": [],
   "source": []
  },
  {
   "cell_type": "code",
   "execution_count": null,
   "metadata": {},
   "outputs": [],
   "source": []
  },
  {
   "cell_type": "code",
   "execution_count": null,
   "metadata": {
    "collapsed": true
   },
   "outputs": [],
   "source": []
  }
 ],
 "metadata": {
  "kernelspec": {
   "display_name": "Python 2",
   "language": "python",
   "name": "python2"
  },
  "language_info": {
   "codemirror_mode": {
    "name": "ipython",
    "version": 2
   },
   "file_extension": ".py",
   "mimetype": "text/x-python",
   "name": "python",
   "nbconvert_exporter": "python",
   "pygments_lexer": "ipython2",
   "version": "2.7.13"
  }
 },
 "nbformat": 4,
 "nbformat_minor": 2
}
