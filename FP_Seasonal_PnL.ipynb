{
 "cells": [
  {
   "cell_type": "code",
   "execution_count": 60,
   "metadata": {},
   "outputs": [
    {
     "name": "stdout",
     "output_type": "stream",
     "text": [
      "Please input the number of the product you want to see the seasonals: 1) Brent 2) Gasoil 3) HO 4) RBOB 5) WTI: 2\n",
      "Please input the month of the contract which you wish to evaluate in numbers from 1-12: 3\n"
     ]
    }
   ],
   "source": [
    "import numpy as np\n",
    "import pandas as pd\n",
    "import os\n",
    "\n",
    "%matplotlib inline\n",
    "\n",
    "#user specify instrument and contract month\n",
    "\n",
    "product=''\n",
    "month=''\n",
    "\n",
    "while True:\n",
    "    inst=int(raw_input('Please input the number of the product you want to see the seasonals: 1) Brent 2) Gasoil 3) HO 4) RBOB 5) WTI: '))\n",
    "    \n",
    "    if inst==1:\n",
    "        product='Brent'\n",
    "        break\n",
    "    elif inst==2:\n",
    "        product='Gasoil'\n",
    "        break   \n",
    "    elif inst==3:\n",
    "        product='HO'\n",
    "        break      \n",
    "    elif inst==4:\n",
    "        product='RBOB'\n",
    "        break       \n",
    "    elif inst==5:\n",
    "        product='WTI'\n",
    "        break       \n",
    "    else:\n",
    "        print 'You did not input a correct number. Please try again.'\n",
    "\n",
    "while True:\n",
    "    Mth=int(raw_input('Please input the month of the contract which you wish to evaluate in numbers from 1-12: '))\n",
    "    \n",
    "    if Mth==1:\n",
    "        month='Jan'\n",
    "        break\n",
    "    elif Mth==2:\n",
    "        month='Feb'\n",
    "        break   \n",
    "    elif Mth==3:\n",
    "        month='Mar'\n",
    "        break   \n",
    "    elif Mth==4:\n",
    "        month='Apr'\n",
    "        break   \n",
    "    elif Mth==5:\n",
    "        month='May'\n",
    "        break          \n",
    "    elif Mth==6:\n",
    "        month='Jun'\n",
    "        break   \n",
    "    elif Mth==7:\n",
    "        month='Jul'\n",
    "        break   \n",
    "    elif Mth==8:\n",
    "        month='Aug'\n",
    "        break   \n",
    "    elif Mth==9:\n",
    "        month='Sep'\n",
    "        break   \n",
    "    elif Mth==10:\n",
    "        month='Oct'\n",
    "        break   \n",
    "    elif Mth==11:\n",
    "        month='Nov'\n",
    "        break   \n",
    "    elif Mth==12:\n",
    "        month='Dec'\n",
    "        break \n",
    "    else:\n",
    "        print 'You did not input a correct number. Please try again.'\n",
    "        "
   ]
  },
  {
   "cell_type": "code",
   "execution_count": 61,
   "metadata": {},
   "outputs": [
    {
     "name": "stdout",
     "output_type": "stream",
     "text": [
      "C:\\Users\\boonsin.teo\\Documents\\Quandl\n"
     ]
    }
   ],
   "source": [
    "cd Quandl"
   ]
  },
  {
   "cell_type": "code",
   "execution_count": 62,
   "metadata": {},
   "outputs": [
    {
     "name": "stdout",
     "output_type": "stream",
     "text": [
      "C:\\Users\\boonsin.teo\\Documents\\Quandl\\Gasoil\n"
     ]
    }
   ],
   "source": [
    "cd $product"
   ]
  },
  {
   "cell_type": "code",
   "execution_count": 63,
   "metadata": {},
   "outputs": [
    {
     "name": "stdout",
     "output_type": "stream",
     "text": [
      "C:\\Users\\boonsin.teo\\Documents\\Quandl\\Gasoil\\Mar\n"
     ]
    }
   ],
   "source": [
    "cd $month"
   ]
  },
  {
   "cell_type": "code",
   "execution_count": 64,
   "metadata": {},
   "outputs": [
    {
     "name": "stdout",
     "output_type": "stream",
     "text": [
      "Please input start mth of seasonal period in MM format: 12\n",
      "Please input start day of seasonal period in DD format: 23\n",
      "Please input 1 if seasonal period start on same year as contract year and 0 if not: 0\n",
      "Please input end mth of seasonal period in MM format: 02\n",
      "Please input end day of seasonal period in DD format: 26\n",
      "Please input 1 if seasonal period ends on same year as contract year and 0 if not: 1\n",
      "Please input 'y' if position is long and 'n' if position is short: y\n",
      "PnL will be calculated basis 1kb lot size for standardization purposes.\n"
     ]
    },
    {
     "data": {
      "text/plain": [
       "'  \\n#plot on line chart\\nax=Seasonal_Combi.plot.line(x=Seasonal_Combi.index, y=\\'SI_avg_rolling\\',figsize=(20,5),xticks=[x for x in range(0,250,10)],title=month+\" \"+product)\\nax.set_xlabel(\\'Date\\')\\nax.set_ylabel(\\'Seasonal Index\\')\\nax.legend(loc=2)\\n'"
      ]
     },
     "execution_count": 64,
     "metadata": {},
     "output_type": "execute_result"
    }
   ],
   "source": [
    "\n",
    "count=0\n",
    "path = os.getcwd()\n",
    "\n",
    "#indicate evaluation dates\n",
    "\n",
    "start_mth=raw_input('Please input start mth of seasonal period in MM format: ')\n",
    "start_day=raw_input('Please input start day of seasonal period in DD format: ')\n",
    "\n",
    "i=int(raw_input('Please input 1 if seasonal period start on same year as contract year and 0 if not: '))\n",
    "            \n",
    "end_mth=raw_input('Please input end mth of seasonal period in MM format: ')\n",
    "end_day=raw_input('Please input end day of seasonal period in DD format: ')\n",
    "\n",
    "j=int(raw_input('Please input 1 if seasonal period ends on same year as contract year and 0 if not: '))\n",
    "\n",
    "pos=1\n",
    "\n",
    "while True:\n",
    "\n",
    "    a=raw_input(\"Please input 'y' if position is long and 'n' if position is short: \").lower()\n",
    "    \n",
    "    if a=='y':\n",
    "        break\n",
    "    if a=='n':\n",
    "        pos=pos*(-1)\n",
    "        break\n",
    "    else:\n",
    "        print \"Please input either 'y' or 'n' for position\"\n",
    "\n",
    "print 'PnL will be calculated basis 1kb lot size for standardization purposes.'\n",
    "\n",
    "listing = os.listdir(path)\n",
    "for infile in listing:\n",
    "    temp=pd.read_excel(infile) #read each file into panda dataframe\n",
    "    \n",
    "    contract_yr_str=infile[-8:-4] # get the contract year\n",
    "    \n",
    "    seasonal_year=int(contract_yr_str)-1 # get the seasonal year to create the index - prev year\n",
    "    seasonal_year=str(seasonal_year) # convert to string\n",
    "    \n",
    "    start_date=str(int(seasonal_year)+i)+'-'+start_mth+'-'+start_day # create start date\n",
    "    end_date=str(int(seasonal_year)+j)+'-'+end_mth+'-'+end_day # create end date\n",
    "    \n",
    "    dates=pd.date_range(start_date, end_date) # range of dates for date axis\n",
    "    dates=dates.strftime('%Y-%m-%d') #make sure no left out dates\n",
    "    sample_data=np.arange(0,len(dates)) #just sample numbers to create dataframe\n",
    "    \n",
    "    dates_dataframe=pd.DataFrame({'Date':dates,'data':sample_data}) # create dates dataframe\n",
    "    dates_dataframe=dates_dataframe.set_index('Date') # set index as Date to facilitate joining\n",
    "    \n",
    "    temp=temp.set_index('Date') # set index as Date to facilitate joining\n",
    "    \n",
    "    temp=dates_dataframe.join(temp) # join dataframes together on Date\n",
    "   \n",
    "\n",
    "    temp.reset_index(inplace=True)\n",
    "    \n",
    "    temp=temp[temp['Date']>=start_date] # filter for start date\n",
    "\n",
    "    temp=temp[temp['Date']<=end_date] # filter for end date\n",
    " \n",
    "\n",
    "    temp=temp.set_index('Date') # creating new index as Date\n",
    "    \n",
    "    \n",
    "    temp=temp.reset_index() # putting date back out into col\n",
    "    temp['Date']=pd.to_datetime(temp['Date']).dt.strftime('%m/%d')\n",
    "    temp=temp.set_index('Date')\n",
    "    temp=pd.DataFrame(temp['Settle'],columns=['Settle']) \n",
    "\n",
    "    #combine into seasonal index table\n",
    "    \n",
    "    if count==0:\n",
    "        Seasonal_Combi=temp\n",
    "        seasonal_year=str(int(seasonal_year)+1)\n",
    "        Seasonal_Combi.columns=[seasonal_year]\n",
    "        \n",
    "        count+=1\n",
    "        \n",
    "    else:\n",
    "        \n",
    "        seasonal_year=str(int(seasonal_year)+1)\n",
    "        Seasonal_Combi[seasonal_year]=temp['Settle']\n",
    "\n",
    "#remove columns that are all NA\n",
    "Seasonal_Combi.dropna(axis=1,how='all',inplace=True)\n",
    "\n",
    "#remove rows that are all NA\n",
    "Seasonal_Combi.dropna(axis=0,how='all',inplace=True)\n",
    "\n",
    "#fillna values with values of forward value\n",
    "Seasonal_Combi.fillna(method='bfill',inplace=True)\n",
    "#fillna values with values of back value\n",
    "Seasonal_Combi.fillna(method='ffill',inplace=True)\n",
    "\n",
    "#Items to Create\n",
    "#PnL - use last value vs first value\n",
    "\n",
    "z=1\n",
    "factor=1000\n",
    "if product =='RBOB':\n",
    "    z=42\n",
    "elif product=='HO':\n",
    "    z=42\n",
    "elif product=='Gasoil':\n",
    "    factor=100\n",
    "else:\n",
    "    z=1\n",
    "    factor=1000\n",
    "\n",
    "pnl_series=(Seasonal_Combi.iloc[-1]-Seasonal_Combi.iloc[0])*z*pos*factor    \n",
    "\n",
    "# Win %\n",
    "Win_Percent=float(pnl_series[pnl_series>0].count())/float(pnl_series.count())*100\n",
    "    \n",
    "#Largest Drawdown - use max and min\n",
    "max_series=Seasonal_Combi.max()\n",
    "min_series=Seasonal_Combi.min()\n",
    "if pos==1:\n",
    "    max_drawdown=(min_series-Seasonal_Combi.iloc[0])*pos*z*factor\n",
    "else:\n",
    "    max_drawdown=(max_series-Seasonal_Combi.iloc[0])*pos*z*factor\n",
    "    \n",
    "\n",
    "#Plot Equity Curve - use plot below for all columns\n",
    "#% return - calculate using last value vs first value - similar to pnl calc\n",
    "percent_return=((Seasonal_Combi.iloc[-1]-Seasonal_Combi.iloc[0])/(Seasonal_Combi.iloc[0]))\n",
    "\n",
    "\n",
    "\n",
    "\"\"\"  \n",
    "#plot on line chart\n",
    "ax=Seasonal_Combi.plot.line(x=Seasonal_Combi.index, y='SI_avg_rolling',figsize=(20,5),xticks=[x for x in range(0,250,10)],title=month+\" \"+product)\n",
    "ax.set_xlabel('Date')\n",
    "ax.set_ylabel('Seasonal Index')\n",
    "ax.legend(loc=2)\n",
    "\"\"\""
   ]
  },
  {
   "cell_type": "code",
   "execution_count": 65,
   "metadata": {},
   "outputs": [
    {
     "name": "stdout",
     "output_type": "stream",
     "text": [
      "C:\\Users\\boonsin.teo\\Documents\\Quandl\\Gasoil\n"
     ]
    }
   ],
   "source": [
    "cd .."
   ]
  },
  {
   "cell_type": "code",
   "execution_count": 66,
   "metadata": {},
   "outputs": [
    {
     "name": "stdout",
     "output_type": "stream",
     "text": [
      "C:\\Users\\boonsin.teo\\Documents\\Quandl\n"
     ]
    }
   ],
   "source": [
    "cd .."
   ]
  },
  {
   "cell_type": "code",
   "execution_count": 67,
   "metadata": {},
   "outputs": [
    {
     "name": "stdout",
     "output_type": "stream",
     "text": [
      "C:\\Users\\boonsin.teo\\Documents\n"
     ]
    }
   ],
   "source": [
    "cd .."
   ]
  },
  {
   "cell_type": "code",
   "execution_count": 68,
   "metadata": {},
   "outputs": [
    {
     "data": {
      "text/html": [
       "<div>\n",
       "<style scoped>\n",
       "    .dataframe tbody tr th:only-of-type {\n",
       "        vertical-align: middle;\n",
       "    }\n",
       "\n",
       "    .dataframe tbody tr th {\n",
       "        vertical-align: top;\n",
       "    }\n",
       "\n",
       "    .dataframe thead th {\n",
       "        text-align: right;\n",
       "    }\n",
       "</style>\n",
       "<table border=\"1\" class=\"dataframe\">\n",
       "  <thead>\n",
       "    <tr style=\"text-align: right;\">\n",
       "      <th></th>\n",
       "      <th>1996</th>\n",
       "      <th>1997</th>\n",
       "      <th>1998</th>\n",
       "      <th>1999</th>\n",
       "      <th>2000</th>\n",
       "      <th>2001</th>\n",
       "      <th>2002</th>\n",
       "      <th>2003</th>\n",
       "      <th>2004</th>\n",
       "      <th>2005</th>\n",
       "      <th>...</th>\n",
       "      <th>2008</th>\n",
       "      <th>2009</th>\n",
       "      <th>2010</th>\n",
       "      <th>2011</th>\n",
       "      <th>2012</th>\n",
       "      <th>2013</th>\n",
       "      <th>2014</th>\n",
       "      <th>2015</th>\n",
       "      <th>2016</th>\n",
       "      <th>2017</th>\n",
       "    </tr>\n",
       "    <tr>\n",
       "      <th>Date</th>\n",
       "      <th></th>\n",
       "      <th></th>\n",
       "      <th></th>\n",
       "      <th></th>\n",
       "      <th></th>\n",
       "      <th></th>\n",
       "      <th></th>\n",
       "      <th></th>\n",
       "      <th></th>\n",
       "      <th></th>\n",
       "      <th></th>\n",
       "      <th></th>\n",
       "      <th></th>\n",
       "      <th></th>\n",
       "      <th></th>\n",
       "      <th></th>\n",
       "      <th></th>\n",
       "      <th></th>\n",
       "      <th></th>\n",
       "      <th></th>\n",
       "      <th></th>\n",
       "    </tr>\n",
       "  </thead>\n",
       "  <tbody>\n",
       "    <tr>\n",
       "      <th>12/23</th>\n",
       "      <td>169.0</td>\n",
       "      <td>205.25</td>\n",
       "      <td>160.25</td>\n",
       "      <td>100.25</td>\n",
       "      <td>199.75</td>\n",
       "      <td>229.0</td>\n",
       "      <td>167.25</td>\n",
       "      <td>244.00</td>\n",
       "      <td>252.00</td>\n",
       "      <td>380.50</td>\n",
       "      <td>...</td>\n",
       "      <td>810.50</td>\n",
       "      <td>436.00</td>\n",
       "      <td>624.5</td>\n",
       "      <td>791.75</td>\n",
       "      <td>907.0</td>\n",
       "      <td>924.00</td>\n",
       "      <td>942.25</td>\n",
       "      <td>564.00</td>\n",
       "      <td>352.75</td>\n",
       "      <td>491.5</td>\n",
       "    </tr>\n",
       "    <tr>\n",
       "      <th>12/24</th>\n",
       "      <td>169.0</td>\n",
       "      <td>208.25</td>\n",
       "      <td>159.75</td>\n",
       "      <td>99.25</td>\n",
       "      <td>198.75</td>\n",
       "      <td>229.0</td>\n",
       "      <td>167.25</td>\n",
       "      <td>245.25</td>\n",
       "      <td>254.25</td>\n",
       "      <td>372.00</td>\n",
       "      <td>...</td>\n",
       "      <td>810.50</td>\n",
       "      <td>421.25</td>\n",
       "      <td>620.5</td>\n",
       "      <td>786.50</td>\n",
       "      <td>917.5</td>\n",
       "      <td>924.00</td>\n",
       "      <td>941.00</td>\n",
       "      <td>557.25</td>\n",
       "      <td>355.75</td>\n",
       "      <td>507.5</td>\n",
       "    </tr>\n",
       "    <tr>\n",
       "      <th>12/25</th>\n",
       "      <td>169.0</td>\n",
       "      <td>208.00</td>\n",
       "      <td>155.25</td>\n",
       "      <td>100.25</td>\n",
       "      <td>203.00</td>\n",
       "      <td>229.0</td>\n",
       "      <td>175.75</td>\n",
       "      <td>248.50</td>\n",
       "      <td>256.00</td>\n",
       "      <td>351.75</td>\n",
       "      <td>...</td>\n",
       "      <td>823.50</td>\n",
       "      <td>419.25</td>\n",
       "      <td>641.5</td>\n",
       "      <td>785.00</td>\n",
       "      <td>917.5</td>\n",
       "      <td>924.00</td>\n",
       "      <td>941.00</td>\n",
       "      <td>553.25</td>\n",
       "      <td>351.25</td>\n",
       "      <td>507.5</td>\n",
       "    </tr>\n",
       "    <tr>\n",
       "      <th>12/26</th>\n",
       "      <td>169.0</td>\n",
       "      <td>208.00</td>\n",
       "      <td>155.25</td>\n",
       "      <td>100.25</td>\n",
       "      <td>203.00</td>\n",
       "      <td>229.0</td>\n",
       "      <td>175.75</td>\n",
       "      <td>248.50</td>\n",
       "      <td>256.00</td>\n",
       "      <td>351.75</td>\n",
       "      <td>...</td>\n",
       "      <td>823.50</td>\n",
       "      <td>419.25</td>\n",
       "      <td>641.5</td>\n",
       "      <td>785.00</td>\n",
       "      <td>917.5</td>\n",
       "      <td>939.75</td>\n",
       "      <td>947.25</td>\n",
       "      <td>553.25</td>\n",
       "      <td>351.25</td>\n",
       "      <td>507.5</td>\n",
       "    </tr>\n",
       "    <tr>\n",
       "      <th>12/27</th>\n",
       "      <td>169.0</td>\n",
       "      <td>208.00</td>\n",
       "      <td>155.25</td>\n",
       "      <td>100.25</td>\n",
       "      <td>203.00</td>\n",
       "      <td>229.0</td>\n",
       "      <td>175.75</td>\n",
       "      <td>248.50</td>\n",
       "      <td>256.00</td>\n",
       "      <td>351.75</td>\n",
       "      <td>...</td>\n",
       "      <td>827.75</td>\n",
       "      <td>423.75</td>\n",
       "      <td>641.5</td>\n",
       "      <td>785.00</td>\n",
       "      <td>917.5</td>\n",
       "      <td>935.00</td>\n",
       "      <td>953.00</td>\n",
       "      <td>549.25</td>\n",
       "      <td>351.25</td>\n",
       "      <td>507.5</td>\n",
       "    </tr>\n",
       "  </tbody>\n",
       "</table>\n",
       "<p>5 rows × 22 columns</p>\n",
       "</div>"
      ],
      "text/plain": [
       "        1996    1997    1998    1999    2000   2001    2002    2003    2004  \\\n",
       "Date                                                                          \n",
       "12/23  169.0  205.25  160.25  100.25  199.75  229.0  167.25  244.00  252.00   \n",
       "12/24  169.0  208.25  159.75   99.25  198.75  229.0  167.25  245.25  254.25   \n",
       "12/25  169.0  208.00  155.25  100.25  203.00  229.0  175.75  248.50  256.00   \n",
       "12/26  169.0  208.00  155.25  100.25  203.00  229.0  175.75  248.50  256.00   \n",
       "12/27  169.0  208.00  155.25  100.25  203.00  229.0  175.75  248.50  256.00   \n",
       "\n",
       "         2005  ...      2008    2009   2010    2011   2012    2013    2014  \\\n",
       "Date           ...                                                           \n",
       "12/23  380.50  ...    810.50  436.00  624.5  791.75  907.0  924.00  942.25   \n",
       "12/24  372.00  ...    810.50  421.25  620.5  786.50  917.5  924.00  941.00   \n",
       "12/25  351.75  ...    823.50  419.25  641.5  785.00  917.5  924.00  941.00   \n",
       "12/26  351.75  ...    823.50  419.25  641.5  785.00  917.5  939.75  947.25   \n",
       "12/27  351.75  ...    827.75  423.75  641.5  785.00  917.5  935.00  953.00   \n",
       "\n",
       "         2015    2016   2017  \n",
       "Date                          \n",
       "12/23  564.00  352.75  491.5  \n",
       "12/24  557.25  355.75  507.5  \n",
       "12/25  553.25  351.25  507.5  \n",
       "12/26  553.25  351.25  507.5  \n",
       "12/27  549.25  351.25  507.5  \n",
       "\n",
       "[5 rows x 22 columns]"
      ]
     },
     "execution_count": 68,
     "metadata": {},
     "output_type": "execute_result"
    }
   ],
   "source": [
    "Seasonal_Combi.head()"
   ]
  },
  {
   "cell_type": "code",
   "execution_count": 69,
   "metadata": {},
   "outputs": [
    {
     "data": {
      "text/plain": [
       "1996      400.0\n",
       "1997    -3950.0\n",
       "1998    -2825.0\n",
       "1999        0.0\n",
       "2000     2750.0\n",
       "2001     -500.0\n",
       "2002     -425.0\n",
       "2003     6875.0\n",
       "2004     1875.0\n",
       "2005     7150.0\n",
       "2006     2275.0\n",
       "2007      800.0\n",
       "2008     8825.0\n",
       "2009    -3575.0\n",
       "2010      425.0\n",
       "2011    12950.0\n",
       "2012    12375.0\n",
       "2013     3275.0\n",
       "2014    -1575.0\n",
       "2015     2175.0\n",
       "2016    -2750.0\n",
       "2017      300.0\n",
       "dtype: float64"
      ]
     },
     "execution_count": 69,
     "metadata": {},
     "output_type": "execute_result"
    }
   ],
   "source": [
    "pnl_series"
   ]
  },
  {
   "cell_type": "code",
   "execution_count": 70,
   "metadata": {},
   "outputs": [
    {
     "data": {
      "text/plain": [
       "1996    0.023669\n",
       "1997   -0.192448\n",
       "1998   -0.176287\n",
       "1999    0.000000\n",
       "2000    0.137672\n",
       "2001   -0.021834\n",
       "2002   -0.025411\n",
       "2003    0.281762\n",
       "2004    0.074405\n",
       "2005    0.187911\n",
       "2006    0.043919\n",
       "2007    0.015002\n",
       "2008    0.108883\n",
       "2009   -0.081995\n",
       "2010    0.006805\n",
       "2011    0.163562\n",
       "2012    0.136439\n",
       "2013    0.035444\n",
       "2014   -0.016715\n",
       "2015    0.038564\n",
       "2016   -0.077959\n",
       "2017    0.006104\n",
       "dtype: float64"
      ]
     },
     "execution_count": 70,
     "metadata": {},
     "output_type": "execute_result"
    }
   ],
   "source": [
    "percent_return"
   ]
  },
  {
   "cell_type": "code",
   "execution_count": 71,
   "metadata": {},
   "outputs": [
    {
     "data": {
      "text/plain": [
       "1996    -1925.0\n",
       "1997    -3950.0\n",
       "1998    -2825.0\n",
       "1999     -900.0\n",
       "2000    -1000.0\n",
       "2001    -1550.0\n",
       "2002    -1075.0\n",
       "2003     -800.0\n",
       "2004     -800.0\n",
       "2005    -2875.0\n",
       "2006     -750.0\n",
       "2007    -6475.0\n",
       "2008    -4650.0\n",
       "2009    -7200.0\n",
       "2010    -5000.0\n",
       "2011    -1950.0\n",
       "2012        0.0\n",
       "2013        0.0\n",
       "2014    -4625.0\n",
       "2015   -10325.0\n",
       "2016    -9775.0\n",
       "2017     -900.0\n",
       "dtype: float64"
      ]
     },
     "execution_count": 71,
     "metadata": {},
     "output_type": "execute_result"
    }
   ],
   "source": [
    "max_drawdown"
   ]
  },
  {
   "cell_type": "code",
   "execution_count": 72,
   "metadata": {},
   "outputs": [
    {
     "name": "stdout",
     "output_type": "stream",
     "text": [
      "The win percentage is 63.64 percent\n"
     ]
    }
   ],
   "source": [
    "print 'The win percentage is %.2f percent' %Win_Percent"
   ]
  },
  {
   "cell_type": "code",
   "execution_count": 73,
   "metadata": {},
   "outputs": [
    {
     "data": {
      "text/plain": [
       "u'C:\\\\Users\\\\boonsin.teo\\\\Documents'"
      ]
     },
     "execution_count": 73,
     "metadata": {},
     "output_type": "execute_result"
    }
   ],
   "source": [
    "pwd"
   ]
  },
  {
   "cell_type": "code",
   "execution_count": null,
   "metadata": {
    "collapsed": true
   },
   "outputs": [],
   "source": []
  },
  {
   "cell_type": "code",
   "execution_count": null,
   "metadata": {
    "collapsed": true
   },
   "outputs": [],
   "source": []
  },
  {
   "cell_type": "code",
   "execution_count": null,
   "metadata": {
    "collapsed": true
   },
   "outputs": [],
   "source": []
  },
  {
   "cell_type": "code",
   "execution_count": null,
   "metadata": {
    "collapsed": true
   },
   "outputs": [],
   "source": []
  }
 ],
 "metadata": {
  "kernelspec": {
   "display_name": "Python 2",
   "language": "python",
   "name": "python2"
  },
  "language_info": {
   "codemirror_mode": {
    "name": "ipython",
    "version": 2
   },
   "file_extension": ".py",
   "mimetype": "text/x-python",
   "name": "python",
   "nbconvert_exporter": "python",
   "pygments_lexer": "ipython2",
   "version": "2.7.13"
  }
 },
 "nbformat": 4,
 "nbformat_minor": 2
}
